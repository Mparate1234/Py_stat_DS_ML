{
  "cells": [
    {
      "cell_type": "markdown",
      "metadata": {
        "id": "view-in-github",
        "colab_type": "text"
      },
      "source": [
        "<a href=\"https://colab.research.google.com/github/Mparate1234/Py_stat_DS_ML/blob/main/Indexing%2Clist%2Cset%2Ctuple%2Cdictionary.ipynb\" target=\"_parent\"><img src=\"https://colab.research.google.com/assets/colab-badge.svg\" alt=\"Open In Colab\"/></a>"
      ]
    },
    {
      "cell_type": "markdown",
      "id": "d5dfe5a4",
      "metadata": {
        "id": "d5dfe5a4"
      },
      "source": [
        "#                                      28 may"
      ]
    },
    {
      "cell_type": "code",
      "execution_count": 1,
      "id": "faba6f29",
      "metadata": {
        "id": "faba6f29"
      },
      "outputs": [],
      "source": [
        "#indexing \n",
        "#positive\n",
        "#negative"
      ]
    },
    {
      "cell_type": "code",
      "execution_count": 2,
      "id": "17cc0463",
      "metadata": {
        "colab": {
          "base_uri": "https://localhost:8080/"
        },
        "id": "17cc0463",
        "outputId": "e0836619-f724-4d80-8b95-4ff0eb909a7f"
      },
      "outputs": [
        {
          "output_type": "stream",
          "name": "stdout",
          "text": [
            "10\n",
            "5\n",
            "4\n",
            "7\n"
          ]
        }
      ],
      "source": [
        "##numbers \n",
        "a,b,c,d=10,5,4,7       ## multiple assignment\n",
        "print(a)\n",
        "print(b)\n",
        "print(c)\n",
        "print(d)"
      ]
    },
    {
      "cell_type": "code",
      "execution_count": 2,
      "id": "9fb04f60",
      "metadata": {
        "id": "9fb04f60"
      },
      "outputs": [],
      "source": []
    },
    {
      "cell_type": "code",
      "execution_count": 3,
      "id": "d1fe9122",
      "metadata": {
        "colab": {
          "base_uri": "https://localhost:8080/"
        },
        "id": "d1fe9122",
        "outputId": "096a7273-272d-4626-ed2f-1294fb0fdbe3"
      },
      "outputs": [
        {
          "output_type": "stream",
          "name": "stdout",
          "text": [
            "HAPPY BIRTHDAY\n"
          ]
        },
        {
          "output_type": "execute_result",
          "data": {
            "text/plain": [
              "str"
            ]
          },
          "metadata": {},
          "execution_count": 3
        }
      ],
      "source": [
        "#string\n",
        "# order of execution\n",
        "#------->>>>>>>\n",
        "a=\"HAPPY BIRTHDAY\"\n",
        "print(a)\n",
        "type(a)"
      ]
    },
    {
      "cell_type": "code",
      "execution_count": 4,
      "id": "f72cc03b",
      "metadata": {
        "colab": {
          "base_uri": "https://localhost:8080/",
          "height": 36
        },
        "id": "f72cc03b",
        "outputId": "53740583-f882-455f-df61-a117ed0647d3"
      },
      "outputs": [
        {
          "output_type": "execute_result",
          "data": {
            "text/plain": [
              "'BIRTH'"
            ],
            "application/vnd.google.colaboratory.intrinsic+json": {
              "type": "string"
            }
          },
          "metadata": {},
          "execution_count": 4
        }
      ],
      "source": [
        "#get birth in possitive indexing\n",
        "\n",
        "a[6:11]"
      ]
    },
    {
      "cell_type": "code",
      "execution_count": 5,
      "id": "2131a07a",
      "metadata": {
        "colab": {
          "base_uri": "https://localhost:8080/",
          "height": 36
        },
        "id": "2131a07a",
        "outputId": "16cc3ecc-74cd-4512-f69e-808a7605e8b7"
      },
      "outputs": [
        {
          "output_type": "execute_result",
          "data": {
            "text/plain": [
              "'BIRTH'"
            ],
            "application/vnd.google.colaboratory.intrinsic+json": {
              "type": "string"
            }
          },
          "metadata": {},
          "execution_count": 5
        }
      ],
      "source": [
        "#get birth in negative indesing\n",
        "\n",
        "a[-8:-3]"
      ]
    },
    {
      "cell_type": "code",
      "execution_count": 6,
      "id": "fa47e86e",
      "metadata": {
        "colab": {
          "base_uri": "https://localhost:8080/",
          "height": 36
        },
        "id": "fa47e86e",
        "outputId": "fef117a4-ec96-4342-d3c4-3ec6d2114b9f"
      },
      "outputs": [
        {
          "output_type": "execute_result",
          "data": {
            "text/plain": [
              "'APPY '"
            ],
            "application/vnd.google.colaboratory.intrinsic+json": {
              "type": "string"
            }
          },
          "metadata": {},
          "execution_count": 6
        }
      ],
      "source": [
        "#GET +VE FOR 'APPY'\n",
        "a[1:6]"
      ]
    },
    {
      "cell_type": "code",
      "execution_count": 7,
      "id": "6bb3ac2d",
      "metadata": {
        "colab": {
          "base_uri": "https://localhost:8080/",
          "height": 36
        },
        "id": "6bb3ac2d",
        "outputId": "83e6b48b-42d3-4147-b4fe-3ea083909a91"
      },
      "outputs": [
        {
          "output_type": "execute_result",
          "data": {
            "text/plain": [
              "'BIRTH'"
            ],
            "application/vnd.google.colaboratory.intrinsic+json": {
              "type": "string"
            }
          },
          "metadata": {},
          "execution_count": 7
        }
      ],
      "source": [
        "#mixed indexing\n",
        "a[6:-3]"
      ]
    },
    {
      "cell_type": "code",
      "execution_count": 8,
      "id": "db7f1daa",
      "metadata": {
        "colab": {
          "base_uri": "https://localhost:8080/"
        },
        "id": "db7f1daa",
        "outputId": "5c0dfa2f-cd98-4237-92ae-abe78854632b"
      },
      "outputs": [
        {
          "output_type": "stream",
          "name": "stdout",
          "text": [
            "[]\n"
          ]
        },
        {
          "output_type": "execute_result",
          "data": {
            "text/plain": [
              "list"
            ]
          },
          "metadata": {},
          "execution_count": 8
        }
      ],
      "source": [
        "\n",
        "##list\n",
        "#creat a empty list \n",
        "ls=[]\n",
        "print(ls)\n",
        "type(ls)"
      ]
    },
    {
      "cell_type": "code",
      "execution_count": 9,
      "id": "a7fa35d9",
      "metadata": {
        "colab": {
          "base_uri": "https://localhost:8080/"
        },
        "id": "a7fa35d9",
        "outputId": "a992b62a-8e0e-4469-a6f3-526b4f217a04"
      },
      "outputs": [
        {
          "output_type": "stream",
          "name": "stdout",
          "text": [
            "[1, 2, 3, 4, 5, 6, 7, 8, 9, 10]\n"
          ]
        },
        {
          "output_type": "execute_result",
          "data": {
            "text/plain": [
              "list"
            ]
          },
          "metadata": {},
          "execution_count": 9
        }
      ],
      "source": [
        "#creat a list\n",
        "ls=[1,2,3,4,5,6,7,8,9,10]\n",
        "print(ls)\n",
        "type(ls)"
      ]
    },
    {
      "cell_type": "code",
      "execution_count": 10,
      "id": "57f0a8db",
      "metadata": {
        "colab": {
          "base_uri": "https://localhost:8080/",
          "height": 71
        },
        "id": "57f0a8db",
        "outputId": "8e4db3c2-52a9-4dcc-e31a-2913268712ca"
      },
      "outputs": [
        {
          "output_type": "stream",
          "name": "stdout",
          "text": [
            "['A', 'B', 'C', 'D', 'E', 'F']\n",
            "['C', 'D', 'E']\n"
          ]
        },
        {
          "output_type": "execute_result",
          "data": {
            "text/plain": [
              "'F'"
            ],
            "application/vnd.google.colaboratory.intrinsic+json": {
              "type": "string"
            }
          },
          "metadata": {},
          "execution_count": 10
        }
      ],
      "source": [
        "#list of alphabets\n",
        "ls=['A','B','C','D','E','F']\n",
        "print(ls)\n",
        "print(ls[2:5])\n",
        "ls[5]"
      ]
    },
    {
      "cell_type": "code",
      "execution_count": 11,
      "id": "9a0b03e6",
      "metadata": {
        "colab": {
          "base_uri": "https://localhost:8080/",
          "height": 36
        },
        "id": "9a0b03e6",
        "outputId": "a05b8e3d-a876-4edf-a1c7-298381d3ca41"
      },
      "outputs": [
        {
          "output_type": "execute_result",
          "data": {
            "text/plain": [
              "'SANFRANCISCO'"
            ],
            "application/vnd.google.colaboratory.intrinsic+json": {
              "type": "string"
            }
          },
          "metadata": {},
          "execution_count": 11
        }
      ],
      "source": [
        "ls=['A','B','SANFRANCISCO']\n",
        "ls[2]\n"
      ]
    },
    {
      "cell_type": "code",
      "execution_count": 12,
      "id": "002c3c6a",
      "metadata": {
        "colab": {
          "base_uri": "https://localhost:8080/"
        },
        "id": "002c3c6a",
        "outputId": "9eaf0d1d-b21b-4fa6-f810-f70a3d1d3a4e"
      },
      "outputs": [
        {
          "output_type": "stream",
          "name": "stdout",
          "text": [
            "AMIL\n"
          ]
        },
        {
          "output_type": "execute_result",
          "data": {
            "text/plain": [
              "6"
            ]
          },
          "metadata": {},
          "execution_count": 12
        }
      ],
      "source": [
        "ls=['A','B','FAMILY']\n",
        "print(ls [2][1:5])\n",
        "len(ls[2])\n"
      ]
    },
    {
      "cell_type": "code",
      "execution_count": 12,
      "id": "532a358d",
      "metadata": {
        "id": "532a358d"
      },
      "outputs": [],
      "source": []
    },
    {
      "cell_type": "code",
      "execution_count": 13,
      "id": "3b261286",
      "metadata": {
        "colab": {
          "base_uri": "https://localhost:8080/"
        },
        "id": "3b261286",
        "outputId": "3d7105ad-484e-49c2-dfb9-ace54d9d5927"
      },
      "outputs": [
        {
          "output_type": "execute_result",
          "data": {
            "text/plain": [
              "['A', 'manish', 'FAMILY']"
            ]
          },
          "metadata": {},
          "execution_count": 13
        }
      ],
      "source": [
        "ls=['A','B','FAMILY']\n",
        "ls[1]=\"manish\"              # list is mutable , can change the existing elements\n",
        "ls"
      ]
    },
    {
      "cell_type": "code",
      "execution_count": 13,
      "id": "1c4db07b",
      "metadata": {
        "id": "1c4db07b"
      },
      "outputs": [],
      "source": []
    },
    {
      "cell_type": "code",
      "execution_count": 13,
      "id": "9691b88a",
      "metadata": {
        "id": "9691b88a"
      },
      "outputs": [],
      "source": []
    },
    {
      "cell_type": "code",
      "execution_count": 14,
      "id": "24aae2df",
      "metadata": {
        "colab": {
          "base_uri": "https://localhost:8080/"
        },
        "id": "24aae2df",
        "outputId": "1c970b15-00d4-4814-9813-d42744483877"
      },
      "outputs": [
        {
          "output_type": "stream",
          "name": "stdout",
          "text": [
            "<class 'tuple'>\n",
            "(1, 2, 3, 4)\n"
          ]
        }
      ],
      "source": [
        "#tuple\n",
        "a=(1,2,3,4)                    ## tuple is immutable\n",
        "print(type(a))\n",
        "\n",
        "print(a)"
      ]
    },
    {
      "cell_type": "code",
      "execution_count": 14,
      "id": "fb4dd8b4",
      "metadata": {
        "id": "fb4dd8b4"
      },
      "outputs": [],
      "source": []
    },
    {
      "cell_type": "code",
      "execution_count": 15,
      "id": "33eb2f0f",
      "metadata": {
        "colab": {
          "base_uri": "https://localhost:8080/"
        },
        "id": "33eb2f0f",
        "outputId": "08728973-5d42-4e8b-e3a8-8ab951ef8931"
      },
      "outputs": [
        {
          "output_type": "execute_result",
          "data": {
            "text/plain": [
              "set"
            ]
          },
          "metadata": {},
          "execution_count": 15
        }
      ],
      "source": [
        "#set                           ## \n",
        "a={1,2,2,3,4,5}\n",
        "type(a)\n"
      ]
    },
    {
      "cell_type": "code",
      "execution_count": 15,
      "id": "a9b2a965",
      "metadata": {
        "id": "a9b2a965"
      },
      "outputs": [],
      "source": []
    },
    {
      "cell_type": "code",
      "execution_count": 16,
      "id": "130313fe",
      "metadata": {
        "colab": {
          "base_uri": "https://localhost:8080/"
        },
        "id": "130313fe",
        "outputId": "711b4cd7-11f9-44af-97c5-1a15102ad0d8"
      },
      "outputs": [
        {
          "output_type": "stream",
          "name": "stdout",
          "text": [
            "dict_keys(['a', 'b', 'c'])\n",
            "dict_values([1, 2, 3])\n"
          ]
        }
      ],
      "source": [
        "a={'a':1,'b':2,'c':3}\n",
        "print(a.keys())\n",
        "print(a.values())"
      ]
    },
    {
      "cell_type": "code",
      "execution_count": 16,
      "id": "baab1027",
      "metadata": {
        "id": "baab1027"
      },
      "outputs": [],
      "source": []
    },
    {
      "cell_type": "code",
      "execution_count": 17,
      "id": "8e9b064a",
      "metadata": {
        "id": "8e9b064a"
      },
      "outputs": [],
      "source": [
        "##########list operation"
      ]
    },
    {
      "cell_type": "code",
      "execution_count": 18,
      "id": "b61035d1",
      "metadata": {
        "colab": {
          "base_uri": "https://localhost:8080/"
        },
        "id": "b61035d1",
        "outputId": "24f224a7-3995-4ed2-8b1a-6b039ce0f25b"
      },
      "outputs": [
        {
          "output_type": "execute_result",
          "data": {
            "text/plain": [
              "0"
            ]
          },
          "metadata": {},
          "execution_count": 18
        }
      ],
      "source": [
        "#length of a list \n",
        "ls=[]\n",
        "len(ls)"
      ]
    },
    {
      "cell_type": "code",
      "execution_count": 19,
      "id": "97fc558a",
      "metadata": {
        "colab": {
          "base_uri": "https://localhost:8080/"
        },
        "id": "97fc558a",
        "outputId": "95c00463-2749-4c7c-b077-a1a4d5811a6a"
      },
      "outputs": [
        {
          "output_type": "stream",
          "name": "stdout",
          "text": [
            "9\n"
          ]
        },
        {
          "output_type": "execute_result",
          "data": {
            "text/plain": [
              "2"
            ]
          },
          "metadata": {},
          "execution_count": 19
        }
      ],
      "source": [
        "ls=[1,2,3,4,5,6,1,5,4]                         ## list are mutable\n",
        "print(len(ls))\n",
        "ls.count(1)        ### how many times it is "
      ]
    },
    {
      "cell_type": "code",
      "execution_count": 20,
      "id": "e9f8dc3d",
      "metadata": {
        "colab": {
          "base_uri": "https://localhost:8080/"
        },
        "id": "e9f8dc3d",
        "outputId": "3c831648-3910-4f3e-fb34-e00e2219c726"
      },
      "outputs": [
        {
          "output_type": "stream",
          "name": "stdout",
          "text": [
            "[1]\n",
            "[1, 2]\n",
            "[1, 2, 3]\n"
          ]
        }
      ],
      "source": [
        "#adding elements to the list using append\n",
        "ls=[]\n",
        "ls.append(1)\n",
        "print(ls)\n",
        "\n",
        "ls.append(2)\n",
        "print(ls)\n",
        "\n",
        "ls.append(3)\n",
        "print(ls)\n",
        "\n"
      ]
    },
    {
      "cell_type": "code",
      "execution_count": 21,
      "id": "deabcbd3",
      "metadata": {
        "colab": {
          "base_uri": "https://localhost:8080/"
        },
        "id": "deabcbd3",
        "outputId": "8db3e307-9993-4eb3-efcb-f3a2385352e6"
      },
      "outputs": [
        {
          "output_type": "stream",
          "name": "stdout",
          "text": [
            "['a']\n",
            "['a', 'b']\n",
            "['a', 'b', 'c']\n",
            "['a', 'b', 'c', [1, 2, 3, 4]]\n",
            "['a', 'b', 'c', [1, 2, 3, 4], {1, 2, 3, 4}]\n",
            "['a', 'b', 'c', [1, 2, 3, 4], {1, 2, 3, 4}, {'a': 1, 'b': 2, 'c': 3}]\n"
          ]
        }
      ],
      "source": [
        "\n",
        "ls=[]\n",
        "ls.append('a')\n",
        "print(ls)\n",
        "ls.append('b')\n",
        "print(ls)\n",
        "ls.append('c')               ##this will add the elements at the end of list\n",
        "print(ls)\n",
        "\n",
        "ls.append([1,2,3,4])\n",
        "print(ls)                            \n",
        "\n",
        "ls.append({1,2,3,4})\n",
        "print(ls)\n",
        "                                                      ### append acn add list,set,tuple,dictionary in list\n",
        "ls.append({'a':1,'b':2,'c':3})\n",
        "print(ls)"
      ]
    },
    {
      "cell_type": "code",
      "execution_count": 22,
      "id": "34105f8a",
      "metadata": {
        "id": "34105f8a"
      },
      "outputs": [],
      "source": [
        "\n",
        "###    insert ; will add element in any place -middel,end"
      ]
    },
    {
      "cell_type": "code",
      "execution_count": 23,
      "id": "19e2d2b4",
      "metadata": {
        "colab": {
          "base_uri": "https://localhost:8080/"
        },
        "id": "19e2d2b4",
        "outputId": "d5d11a4b-5314-480e-8459-fc3f815a08e1"
      },
      "outputs": [
        {
          "output_type": "stream",
          "name": "stdout",
          "text": [
            "[1, 2, 5, 'manish', 9, 4, 5]\n"
          ]
        }
      ],
      "source": [
        "ls=[1,2,5,9,4,5]\n",
        "ls.insert(3,'manish')          ## add element in give position\n",
        "print(ls)\n"
      ]
    },
    {
      "cell_type": "code",
      "execution_count": 24,
      "id": "e8519b2a",
      "metadata": {
        "id": "e8519b2a"
      },
      "outputs": [],
      "source": [
        "###extend--"
      ]
    },
    {
      "cell_type": "code",
      "execution_count": 25,
      "id": "afe9bd79",
      "metadata": {
        "colab": {
          "base_uri": "https://localhost:8080/"
        },
        "id": "afe9bd79",
        "outputId": "42f39ac7-f8cf-454c-edac-9ef6119d0e7d"
      },
      "outputs": [
        {
          "output_type": "stream",
          "name": "stdout",
          "text": [
            "[1, 2, 3, 4, 5, 6, 10, 20, 30, 40, 50, 60]\n"
          ]
        }
      ],
      "source": [
        "ls=[1,2,3,4,5,6]\n",
        "ls.extend([10,20,30,40,50,60])           ##it will add multiple elements at the end\n",
        "print(ls)"
      ]
    },
    {
      "cell_type": "code",
      "execution_count": 25,
      "id": "73c8dbbd",
      "metadata": {
        "id": "73c8dbbd"
      },
      "outputs": [],
      "source": []
    },
    {
      "cell_type": "code",
      "execution_count": 26,
      "id": "ac281e18",
      "metadata": {
        "colab": {
          "base_uri": "https://localhost:8080/"
        },
        "id": "ac281e18",
        "outputId": "ee75a095-caac-4839-b358-f93e154ccd61"
      },
      "outputs": [
        {
          "output_type": "stream",
          "name": "stdout",
          "text": [
            "['a', 'b', 'c', {1, 2, 3, 4}]\n",
            "['b', 'c', {1, 2, 3, 4}]\n"
          ]
        }
      ],
      "source": [
        "###remove\n",
        "ls=['a', 'b', 'c', [1, 2, 3, 4], {1, 2, 3, 4}]\n",
        "ls.remove([1, 2, 3, 4])\n",
        "print(ls)                                           ####removes given element\n",
        "ls.remove('a')\n",
        "print(ls)\n"
      ]
    },
    {
      "cell_type": "code",
      "execution_count": 27,
      "id": "ce3a2c6c",
      "metadata": {
        "colab": {
          "base_uri": "https://localhost:8080/"
        },
        "id": "ce3a2c6c",
        "outputId": "a595ce01-1254-498a-e500-350f2915926a"
      },
      "outputs": [
        {
          "output_type": "stream",
          "name": "stdout",
          "text": [
            "['a', 'b', 'c', 'd', 'r', [1, 2, 3, 4]]\n",
            "b\n",
            "['a', 'c', 'd', 'r', [1, 2, 3, 4]]\n",
            "['a', 'c', 'd', [1, 2, 3, 4]]\n"
          ]
        }
      ],
      "source": [
        "ls=['a', 'b', 'c','d','r', [1, 2, 3, 4], {1, 2, 3, 4}]\n",
        "ls.pop()                                            ###will remove last element\n",
        "print(ls)\n",
        "\n",
        "print(ls.pop(1))                  ### all will print removing element and then \n",
        "print(ls)                                      ######will remove the mentoned position element\n",
        "\n",
        "ls.pop(-2)\n",
        "print(ls)"
      ]
    },
    {
      "cell_type": "code",
      "execution_count": 27,
      "id": "9166b704",
      "metadata": {
        "id": "9166b704"
      },
      "outputs": [],
      "source": []
    },
    {
      "cell_type": "code",
      "execution_count": 28,
      "id": "6c46c47c",
      "metadata": {
        "colab": {
          "base_uri": "https://localhost:8080/"
        },
        "id": "6c46c47c",
        "outputId": "efb86186-d7ac-4697-9b8d-5dd2e43d3741"
      },
      "outputs": [
        {
          "output_type": "stream",
          "name": "stdout",
          "text": [
            "[10, 20, 60, 70, 80, 90]\n",
            "None\n"
          ]
        }
      ],
      "source": [
        "####delet -   delet multiple elements at once\n",
        "ls=[10,20,30,40,50,60,70,80,90]\n",
        "del ls[2:5]                    ### using this can remove multiple elemnts from list\n",
        "print(ls)\n",
        "print(ls.clear())               #### will clear all the elements"
      ]
    },
    {
      "cell_type": "code",
      "execution_count": 29,
      "id": "47c2832b",
      "metadata": {
        "colab": {
          "base_uri": "https://localhost:8080/"
        },
        "id": "47c2832b",
        "outputId": "dffc3101-81e6-431d-d65c-57cb6bf7fc3c"
      },
      "outputs": [
        {
          "output_type": "stream",
          "name": "stdout",
          "text": [
            "3\n",
            "9\n",
            "5\n"
          ]
        }
      ],
      "source": [
        "ls=[10,20,30,40,50,10,10,30,60,70,80,90]\n",
        "print(ls.count(10))        ## gives repetation of element\n",
        "print(ls.index(70))             ### gives position of element\n",
        "print(ls.index(10,2))        ### gives position of element"
      ]
    },
    {
      "cell_type": "code",
      "execution_count": 30,
      "id": "48432a36",
      "metadata": {
        "colab": {
          "base_uri": "https://localhost:8080/"
        },
        "id": "48432a36",
        "outputId": "487a9d87-cc52-44be-b386-3d7a631fe9ad"
      },
      "outputs": [
        {
          "output_type": "execute_result",
          "data": {
            "text/plain": [
              "[]"
            ]
          },
          "metadata": {},
          "execution_count": 30
        }
      ],
      "source": [
        "ls=[10,20,30,40,50,60,70,80,90]\n",
        "ls.clear()                            ## remove all the elements and return empty list\n",
        "ls"
      ]
    },
    {
      "cell_type": "code",
      "execution_count": 31,
      "id": "4ea2570a",
      "metadata": {
        "colab": {
          "base_uri": "https://localhost:8080/"
        },
        "id": "4ea2570a",
        "outputId": "a2975e73-63bc-4ee2-b0b6-16c2d4ae4a5f"
      },
      "outputs": [
        {
          "output_type": "stream",
          "name": "stdout",
          "text": [
            "[10, 10, 10, 20, 30, 30, 40, 50, 60, 70, 80, 90]\n",
            "[90, 80, 70, 60, 50, 40, 30, 30, 20, 10, 10, 10]\n"
          ]
        }
      ],
      "source": [
        "ls=[10,20,30,40,50,10,10,30,60,70,80,90]\n",
        "ls.sort()     ## arrenge in assending\n",
        "print(ls)\n",
        "ls.reverse()          ## reverse the arrangement\n",
        "print(ls)"
      ]
    },
    {
      "cell_type": "code",
      "execution_count": 32,
      "id": "ebe97db7",
      "metadata": {
        "colab": {
          "base_uri": "https://localhost:8080/"
        },
        "id": "ebe97db7",
        "outputId": "d280991d-19a4-4ae1-b27d-92754c3877d3"
      },
      "outputs": [
        {
          "output_type": "stream",
          "name": "stdout",
          "text": [
            "[1, 8, 27, 64, 125, 216, 343, 512, 729]\n"
          ]
        }
      ],
      "source": [
        "cube=[]\n",
        "for i in range(1,10):\n",
        "    cube.append(i**3)\n",
        "print(cube)"
      ]
    },
    {
      "cell_type": "code",
      "execution_count": 32,
      "id": "f5afeab5",
      "metadata": {
        "id": "f5afeab5"
      },
      "outputs": [],
      "source": []
    }
  ],
  "metadata": {
    "kernelspec": {
      "display_name": "Python 3 (ipykernel)",
      "language": "python",
      "name": "python3"
    },
    "language_info": {
      "codemirror_mode": {
        "name": "ipython",
        "version": 3
      },
      "file_extension": ".py",
      "mimetype": "text/x-python",
      "name": "python",
      "nbconvert_exporter": "python",
      "pygments_lexer": "ipython3",
      "version": "3.9.12"
    },
    "colab": {
      "provenance": [],
      "include_colab_link": true
    }
  },
  "nbformat": 4,
  "nbformat_minor": 5
}