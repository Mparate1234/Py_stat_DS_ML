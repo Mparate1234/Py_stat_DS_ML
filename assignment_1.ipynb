{
  "cells": [
    {
      "cell_type": "markdown",
      "metadata": {
        "id": "view-in-github",
        "colab_type": "text"
      },
      "source": [
        "<a href=\"https://colab.research.google.com/github/Mparate1234/Py_stat_DS_ML/blob/main/assignment_1.ipynb\" target=\"_parent\"><img src=\"https://colab.research.google.com/assets/colab-badge.svg\" alt=\"Open In Colab\"/></a>"
      ]
    },
    {
      "cell_type": "markdown",
      "id": "4b7d0f90",
      "metadata": {
        "id": "4b7d0f90"
      },
      "source": [
        "# Problem Statement1: \n",
        "Write a Python program to multiply a 5×3 matrix by 3×2 matrix and create a real matrix product.\n"
      ]
    },
    {
      "cell_type": "code",
      "execution_count": 1,
      "id": "579f0b2f",
      "metadata": {
        "id": "579f0b2f"
      },
      "outputs": [],
      "source": [
        "import numpy as np"
      ]
    },
    {
      "cell_type": "code",
      "execution_count": 2,
      "id": "1c8f398e",
      "metadata": {
        "colab": {
          "base_uri": "https://localhost:8080/"
        },
        "id": "1c8f398e",
        "outputId": "efe53c87-e48d-4a47-f6e2-2e8199be6bf1"
      },
      "outputs": [
        {
          "output_type": "stream",
          "name": "stdout",
          "text": [
            "[[ 5  6  7]\n",
            " [ 8  9 10]\n",
            " [11 12 13]\n",
            " [14 15 16]\n",
            " [17 18 19]]\n",
            "------------------\n",
            "[[ 8  9]\n",
            " [10 11]\n",
            " [12 13]]\n",
            "------------------\n",
            "[[184 202]\n",
            " [274 301]\n",
            " [364 400]\n",
            " [454 499]\n",
            " [544 598]]\n"
          ]
        }
      ],
      "source": [
        "a=np.arange(5,20).reshape(5,3)\n",
        "b=np.arange(8,14).reshape(3,2)\n",
        "print(a)\n",
        "print(\"------------------\")\n",
        "print(b)\n",
        "print(\"------------------\")\n",
        "print(np.dot(a,b))"
      ]
    },
    {
      "cell_type": "code",
      "execution_count": 2,
      "id": "90ffe9f5",
      "metadata": {
        "id": "90ffe9f5"
      },
      "outputs": [],
      "source": []
    },
    {
      "cell_type": "markdown",
      "id": "ec993bc2",
      "metadata": {
        "id": "ec993bc2"
      },
      "source": [
        "# Problem Statement2:\n",
        "Write a NumPy program to check if each element of an array of your choice is composed of digits, lower case letters, and upper case letters only"
      ]
    },
    {
      "cell_type": "code",
      "execution_count": 3,
      "id": "751b05ee",
      "metadata": {
        "colab": {
          "base_uri": "https://localhost:8080/"
        },
        "id": "751b05ee",
        "outputId": "f6eb56b5-f7a8-4920-beed-4c62b800dec0"
      },
      "outputs": [
        {
          "output_type": "stream",
          "name": "stdout",
          "text": [
            "Digits_only [False, False, False, False, False, True]\n",
            "Lower_cases_only [False, False, False, False, True, False]\n",
            "Upper_cases_only [False, True, True, False, False, False]\n"
          ]
        }
      ],
      "source": [
        "import numpy as np\n",
        "p=np.array(['Python','PHP','JS','Examples','html5',5])\n",
        "Digits_only=[]\n",
        "Lower_cases_only=[]\n",
        "Upper_cases_only=[]\n",
        "for i in p:\n",
        "    a=i.isdigit()\n",
        "    Digits_only.append(a)\n",
        "    b=i.islower()\n",
        "    Lower_cases_only.append(b)\n",
        "    c=i.isupper()\n",
        "    Upper_cases_only.append(c)\n",
        "print(\"Digits_only\",Digits_only)\n",
        "print(\"Lower_cases_only\",Lower_cases_only)\n",
        "print(\"Upper_cases_only\",Upper_cases_only)\n",
        "\n"
      ]
    },
    {
      "cell_type": "markdown",
      "id": "25c4540c",
      "metadata": {
        "id": "25c4540c"
      },
      "source": [
        "# Problem Statement3: \n",
        "\n",
        "Write a program thatreads two space-separated positive integers X and Yas input and perform the following tasks:\n",
        "Tasks to be performed:\n",
        " 1.Create a list (lst1) starting at one (1) with 16 elements at a step of X\n",
        " 2.Create a list (lst2) starting at one (1) with 16 elements at a step of Y\n",
        " 3.Create two NumPy arrays np1 and np2 using lst1 and lst2 respectively\n",
        " 4.Reshape both the NumPy arrays to (4,4)\n",
        " 5.Create a new np array (np3) with values obtained by subtracting both the arrays (np1 -np2)\n",
        " 6.Print all the elements of np3 in a single dimension list like the format as shown below:a.[n0 n1 n2 n3 n4 n5 n6 n7 n8]"
      ]
    },
    {
      "cell_type": "code",
      "execution_count": 4,
      "id": "7d6f3dc0",
      "metadata": {
        "colab": {
          "base_uri": "https://localhost:8080/"
        },
        "id": "7d6f3dc0",
        "outputId": "5a11d160-cc58-40c2-eace-3cbbb2b09ef8"
      },
      "outputs": [
        {
          "output_type": "stream",
          "name": "stdout",
          "text": [
            "[ 1  3  5  7  9 11 13 15 17 19 21 23 25 27 29 31]\n",
            "[ 1  4  7 10 13 16 19 22 25 28 31 34 37 40 43 46]\n",
            "[[ 1  3  5  7]\n",
            " [ 9 11 13 15]\n",
            " [17 19 21 23]\n",
            " [25 27 29 31]]\n",
            "[[ 1  4  7 10]\n",
            " [13 16 19 22]\n",
            " [25 28 31 34]\n",
            " [37 40 43 46]]\n",
            "[[  0  -1  -2  -3]\n",
            " [ -4  -5  -6  -7]\n",
            " [ -8  -9 -10 -11]\n",
            " [-12 -13 -14 -15]]\n"
          ]
        },
        {
          "output_type": "execute_result",
          "data": {
            "text/plain": [
              "array([  0,  -1,  -2,  -3,  -4,  -5,  -6,  -7,  -8,  -9, -10, -11, -12,\n",
              "       -13, -14, -15])"
            ]
          },
          "metadata": {},
          "execution_count": 4
        }
      ],
      "source": [
        "import numpy as np\n",
        "\n",
        "a=list(range(1,32,2))\n",
        "b=list(range(1,48,3))\n",
        "np1=np.array(a)\n",
        "np2=np.array(b)\n",
        "print(np1)\n",
        "print(np2)\n",
        "np1=np.array(a).reshape(4,4)\n",
        "np2=np.array(b).reshape(4,4)\n",
        "print(np1)\n",
        "print(np2)\n",
        "np3=np1-np2\n",
        "print(np3)\n",
        "np.ravel(np3)"
      ]
    },
    {
      "cell_type": "code",
      "execution_count": 4,
      "id": "8f759770",
      "metadata": {
        "id": "8f759770"
      },
      "outputs": [],
      "source": []
    },
    {
      "cell_type": "markdown",
      "id": "b2564dc6",
      "metadata": {
        "id": "b2564dc6"
      },
      "source": [
        "# Problem Statement4: \n",
        "Write a Python program thattakes two integer-NumPy arrays, P and Q of shape [3*3] and performthe following task:\n",
        "Task to be performed:\n",
        "Print the element-wise difference of the matrix P and Q(P-Q)"
      ]
    },
    {
      "cell_type": "code",
      "execution_count": 5,
      "id": "ec9db90a",
      "metadata": {
        "colab": {
          "base_uri": "https://localhost:8080/"
        },
        "id": "ec9db90a",
        "outputId": "0dee1ff6-259a-4d52-faf0-5eb37dc1f2f9"
      },
      "outputs": [
        {
          "output_type": "stream",
          "name": "stdout",
          "text": [
            "[[11 22 33]\n",
            " [-4  4 42]\n",
            " [-2  4  0]]\n"
          ]
        }
      ],
      "source": [
        "import numpy as np\n",
        "a=np.array([23,56,87,3,6,96,4,6,78]).reshape(3,3)\n",
        "b=np.array([12,34,54,7,2,54,6,2,78]).reshape(3,3)\n",
        "print(a-b)"
      ]
    },
    {
      "cell_type": "code",
      "execution_count": 5,
      "id": "a491940e",
      "metadata": {
        "id": "a491940e"
      },
      "outputs": [],
      "source": []
    },
    {
      "cell_type": "code",
      "execution_count": 5,
      "id": "160e9e3a",
      "metadata": {
        "id": "160e9e3a"
      },
      "outputs": [],
      "source": []
    }
  ],
  "metadata": {
    "kernelspec": {
      "display_name": "Python 3 (ipykernel)",
      "language": "python",
      "name": "python3"
    },
    "language_info": {
      "codemirror_mode": {
        "name": "ipython",
        "version": 3
      },
      "file_extension": ".py",
      "mimetype": "text/x-python",
      "name": "python",
      "nbconvert_exporter": "python",
      "pygments_lexer": "ipython3",
      "version": "3.9.12"
    },
    "colab": {
      "provenance": [],
      "include_colab_link": true
    }
  },
  "nbformat": 4,
  "nbformat_minor": 5
}