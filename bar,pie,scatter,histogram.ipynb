{
  "cells": [
    {
      "cell_type": "markdown",
      "metadata": {
        "id": "view-in-github",
        "colab_type": "text"
      },
      "source": [
        "<a href=\"https://colab.research.google.com/github/Mparate1234/Py_stat_DS_ML/blob/main/bar%2Cpie%2Cscatter%2Chistogram.ipynb\" target=\"_parent\"><img src=\"https://colab.research.google.com/assets/colab-badge.svg\" alt=\"Open In Colab\"/></a>"
      ]
    },
    {
      "cell_type": "markdown",
      "id": "89663a18",
      "metadata": {
        "id": "89663a18"
      },
      "source": [
        "#                                         26 june"
      ]
    },
    {
      "cell_type": "code",
      "execution_count": 1,
      "id": "931bb53f",
      "metadata": {
        "colab": {
          "base_uri": "https://localhost:8080/",
          "height": 421
        },
        "id": "931bb53f",
        "outputId": "bf4ad761-5b19-47e1-f46c-a4780efd7dc9"
      },
      "outputs": [
        {
          "output_type": "execute_result",
          "data": {
            "text/plain": [
              "Text(0, 0.5, 'marks')"
            ]
          },
          "metadata": {},
          "execution_count": 1
        },
        {
          "output_type": "display_data",
          "data": {
            "text/plain": [
              "<Figure size 216x432 with 1 Axes>"
            ],
            "image/png": "[encoded data removed]"
          },
          "metadata": {
            "needs_background": "light"
          }
        }
      ],
      "source": [
        "import numpy as np\n",
        "import matplotlib.pyplot as plt\n",
        "\n",
        "data={\"eng\":52,\"math\":65,\"his\":45,\"geo\":55,\"sci\":60}\n",
        "subject=data.keys()\n",
        "marks=data.values()\n",
        "\n",
        "fig=plt.figure(figsize=(3,6))\n",
        "plt.bar(subject,marks,color = ['m','b','k','y',\"r\"])\n",
        "plt.title(\"student marks chart\",color=\"k\")\n",
        "plt.xlabel(\"subject\",color=\"b\")\n",
        "plt.ylabel(\"marks\",color=\"r\")\n",
        "\n",
        "#plt.show()"
      ]
    },
    {
      "cell_type": "code",
      "execution_count": 1,
      "id": "4ce9e0d7",
      "metadata": {
        "id": "4ce9e0d7"
      },
      "outputs": [],
      "source": []
    },
    {
      "cell_type": "code",
      "execution_count": 1,
      "id": "47d2110c",
      "metadata": {
        "id": "47d2110c"
      },
      "outputs": [],
      "source": []
    },
    {
      "cell_type": "code",
      "execution_count": 2,
      "id": "80c55d97",
      "metadata": {
        "colab": {
          "base_uri": "https://localhost:8080/",
          "height": 187
        },
        "id": "80c55d97",
        "outputId": "b8d99b8b-1a0e-4f2f-a884-de36f10a873c"
      },
      "outputs": [
        {
          "output_type": "display_data",
          "data": {
            "text/plain": [
              "<Figure size 576x144 with 1 Axes>"
            ],
            "image/png": "[encoded data removed]"
          },
          "metadata": {
            "needs_background": "light"
          }
        }
      ],
      "source": [
        "\n",
        "## Bar chart \n",
        "\n",
        "## Import \n",
        "import numpy as np \n",
        "import matplotlib.pyplot as plt \n",
        "\n",
        "## Data \n",
        "data = {\"English\": 83, 'Math': 67, 'Science': 90, 'History': 70}\n",
        "\n",
        "Subject = list(data.keys())\n",
        "Marks = list(data.values())\n",
        "\n",
        "# Size of the plot \n",
        "fig = plt.figure(figsize=(8,2))\n",
        "\n",
        "##Plot \n",
        "plt.barh(Subject,Marks,color = ['m','b','k','y'])\n",
        "\n",
        "## Asthetics \n",
        "plt.title(\"This is my bar graph\")\n",
        "plt.xlabel(\"Subjects\")\n",
        "plt.ylabel(\"Marks\")\n",
        "\n",
        "plt.show()             ## this will remove th text geting at output on graph\n"
      ]
    },
    {
      "cell_type": "code",
      "execution_count": 2,
      "id": "11828798",
      "metadata": {
        "id": "11828798"
      },
      "outputs": [],
      "source": []
    },
    {
      "cell_type": "code",
      "execution_count": 2,
      "id": "67927e1a",
      "metadata": {
        "id": "67927e1a"
      },
      "outputs": [],
      "source": []
    },
    {
      "cell_type": "code",
      "execution_count": 3,
      "id": "a9411b23",
      "metadata": {
        "colab": {
          "base_uri": "https://localhost:8080/",
          "height": 265
        },
        "id": "a9411b23",
        "outputId": "6e67ff16-b30a-4204-962b-70a262109af8"
      },
      "outputs": [
        {
          "output_type": "display_data",
          "data": {
            "text/plain": [
              "<Figure size 432x288 with 1 Axes>"
            ],
            "image/png": "[encoded data removed]"
          },
          "metadata": {
            "needs_background": "light"
          }
        }
      ],
      "source": [
        "## Histogram \n",
        "\n",
        "import matplotlib.pyplot as plt \n",
        "import numpy as np\n",
        "\n",
        "# Data \n",
        "data = np.random.normal(100,20,300)\n",
        "\n",
        "# PLot \n",
        "\n",
        "plt.hist(data, bins = 10, orientation = 'horizontal', color ='r')\n",
        "plt.show()"
      ]
    },
    {
      "cell_type": "code",
      "execution_count": 4,
      "id": "e3621a4e",
      "metadata": {
        "colab": {
          "base_uri": "https://localhost:8080/",
          "height": 268
        },
        "id": "e3621a4e",
        "outputId": "374a33b2-e614-490a-e3ee-a8943d4dfefe"
      },
      "outputs": [
        {
          "output_type": "display_data",
          "data": {
            "text/plain": [
              "<Figure size 216x288 with 1 Axes>"
            ],
            "image/png": "[encoded data removed]"
          },
          "metadata": {
            "needs_background": "light"
          }
        }
      ],
      "source": [
        "import matplotlib.pyplot as plt\n",
        "import numpy as np\n",
        "\n",
        "data=np.random.normal(100,20,250)\n",
        "fig=plt.figure(figsize=(3,4))\n",
        "plt.hist(data,bins=5)                 ## bins=5 means 5 bars\n",
        "plt.show()"
      ]
    },
    {
      "cell_type": "code",
      "execution_count": 4,
      "id": "f2d4023c",
      "metadata": {
        "id": "f2d4023c"
      },
      "outputs": [],
      "source": []
    },
    {
      "cell_type": "code",
      "execution_count": 5,
      "id": "1dec0a9e",
      "metadata": {
        "colab": {
          "base_uri": "https://localhost:8080/",
          "height": 282
        },
        "id": "1dec0a9e",
        "outputId": "12cea72e-9818-42ae-9c42-dc41253a6217"
      },
      "outputs": [
        {
          "output_type": "execute_result",
          "data": {
            "text/plain": [
              "<matplotlib.collections.PathCollection at 0x7fd4b810c220>"
            ]
          },
          "metadata": {},
          "execution_count": 5
        },
        {
          "output_type": "display_data",
          "data": {
            "text/plain": [
              "<Figure size 432x288 with 1 Axes>"
            ],
            "image/png": "[encoded data removed]"
          },
          "metadata": {
            "needs_background": "light"
          }
        }
      ],
      "source": [
        "## Scatter plot \n",
        "\n",
        "x = [23,43,12,34,56,76,45,65,7,65,10]\n",
        "y = [12,23,65,78,32,45,2,87,4,89,10]\n",
        "\n",
        "plt.scatter(x,y, color = 'g', marker = '*')"
      ]
    },
    {
      "cell_type": "code",
      "execution_count": 5,
      "id": "66a38074",
      "metadata": {
        "id": "66a38074"
      },
      "outputs": [],
      "source": []
    },
    {
      "cell_type": "code",
      "execution_count": 5,
      "id": "7e1732d5",
      "metadata": {
        "id": "7e1732d5"
      },
      "outputs": [],
      "source": []
    },
    {
      "cell_type": "code",
      "execution_count": 6,
      "id": "4c1df1ff",
      "metadata": {
        "colab": {
          "base_uri": "https://localhost:8080/",
          "height": 256
        },
        "id": "4c1df1ff",
        "outputId": "d03e6d1e-6ff1-4f79-c94a-371632aa9038"
      },
      "outputs": [
        {
          "output_type": "display_data",
          "data": {
            "text/plain": [
              "<Figure size 432x288 with 1 Axes>"
            ],
            "image/png": "[encoded data removed]"
          },
          "metadata": {}
        }
      ],
      "source": [
        "# Pie chart \n",
        "import matplotlib.pyplot as plt\n",
        "\n",
        "# Pie chart, where the slices will be ordered and plotted counter-clockwise:\n",
        "labels = 'English', 'Math', 'Science', 'History'\n",
        "sizes = [85,89, 75, 90]\n",
        "\n",
        "explode = (0, 0.5, 0, 0)  # only \"explode\" the 2nd slice (i.e. 'Hogs')\n",
        "\n",
        "fig1, ax1 = plt.subplots()\n",
        "\n",
        "ax1.pie(sizes, explode=explode, labels=labels, autopct='%1.3f%%',\n",
        "        shadow=True, startangle=0)\n",
        "\n",
        "#ax1.axis('equal')  # Equal aspect ratio ensures that pie is drawn as a circle.\n",
        "\n",
        "plt.show()"
      ]
    },
    {
      "cell_type": "code",
      "execution_count": 7,
      "id": "a52e4cd5",
      "metadata": {
        "colab": {
          "base_uri": "https://localhost:8080/",
          "height": 218
        },
        "id": "a52e4cd5",
        "outputId": "41e6e5d5-5ccd-42e2-9aa6-2b7939c6cde1"
      },
      "outputs": [
        {
          "output_type": "display_data",
          "data": {
            "text/plain": [
              "<Figure size 432x216 with 1 Axes>"
            ],
            "image/png": "[encoded data removed]"
          },
          "metadata": {}
        }
      ],
      "source": [
        "fig, ax = plt.subplots(figsize=(6, 3), subplot_kw=dict(aspect=\"equal\"))\n",
        "\n",
        "recipe = [\"ENGLISH-45\",\n",
        "          \"MATHS-55\",\n",
        "          \"BIO-65\",\n",
        "          \"HISTORY-75\",\n",
        "          \"GEO-96\",\n",
        "          \"SCIENCE-25\"]\n",
        "\n",
        "data = [45,55,65,75,96,25]\n",
        "\n",
        "wedges, texts = ax.pie(data, wedgeprops=dict(width=0.5), startangle=-40)\n",
        "\n",
        "bbox_props = dict(boxstyle=\"square,pad=0.3\", fc=\"w\", ec=\"k\", lw=0.72)\n",
        "kw = dict(arrowprops=dict(arrowstyle=\"-\"),\n",
        "          bbox=bbox_props, zorder=0, va=\"center\")\n",
        "\n",
        "for i, p in enumerate(wedges):\n",
        "    ang = (p.theta2 - p.theta1)/2. + p.theta1\n",
        "    y = np.sin(np.deg2rad(ang))\n",
        "    x = np.cos(np.deg2rad(ang))\n",
        "    horizontalalignment = {-1: \"right\", 1: \"left\"}[int(np.sign(x))]\n",
        "    connectionstyle = f\"angle,angleA=0,angleB={ang}\"\n",
        "    kw[\"arrowprops\"].update({\"connectionstyle\": connectionstyle})\n",
        "    ax.annotate(recipe[i], xy=(x, y), xytext=(1.35*np.sign(x), 1.4*y),\n",
        "                horizontalalignment=horizontalalignment, **kw)\n",
        "\n",
        "ax.set_title(\"                                               STUDENT THIS YEAR MARKS\")\n",
        "plt.show()"
      ]
    },
    {
      "cell_type": "code",
      "execution_count": 7,
      "id": "c7c9ef2b",
      "metadata": {
        "id": "c7c9ef2b"
      },
      "outputs": [],
      "source": []
    }
  ],
  "metadata": {
    "kernelspec": {
      "display_name": "Python 3 (ipykernel)",
      "language": "python",
      "name": "python3"
    },
    "language_info": {
      "codemirror_mode": {
        "name": "ipython",
        "version": 3
      },
      "file_extension": ".py",
      "mimetype": "text/x-python",
      "name": "python",
      "nbconvert_exporter": "python",
      "pygments_lexer": "ipython3",
      "version": "3.9.12"
    },
    "colab": {
      "provenance": [],
      "include_colab_link": true
    }
  },
  "nbformat": 4,
  "nbformat_minor": 5
}