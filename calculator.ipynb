{
  "cells": [
    {
      "cell_type": "markdown",
      "metadata": {
        "id": "view-in-github",
        "colab_type": "text"
      },
      "source": [
        "<a href=\"https://colab.research.google.com/github/Mparate1234/Py_stat_DS_ML/blob/main/calculator.ipynb\" target=\"_parent\"><img src=\"https://colab.research.google.com/assets/colab-badge.svg\" alt=\"Open In Colab\"/></a>"
      ]
    },
    {
      "cell_type": "code",
      "execution_count": 8,
      "id": "14769ce3",
      "metadata": {
        "colab": {
          "base_uri": "https://localhost:8080/"
        },
        "id": "14769ce3",
        "outputId": "b4f0ca30-8050-4fe2-a54b-990a5a81c859"
      },
      "outputs": [
        {
          "output_type": "stream",
          "name": "stdout",
          "text": [
            "\n",
            "operation:\n",
            "1.ADD\n",
            "2.SUBTRACT\n",
            "3.MULTIPLY\n",
            "4.DEVIDE\n",
            "5.SQUARE\n",
            "\n",
            "select operation no = 3\n",
            "1st no = 2\n",
            "2nd no = 5\n",
            "multiply 2 and 5 = 10\n",
            "want more calculation \"y\" or \"n\"= y\n",
            "\n",
            "operation:\n",
            "1.ADD\n",
            "2.SUBTRACT\n",
            "3.MULTIPLY\n",
            "4.DEVIDE\n",
            "5.SQUARE\n",
            "\n",
            "select operation no = 4\n",
            "1st no = 45\n",
            "2nd no = 54\n",
            "devide 45 and 54 = 0.8333333333333334\n",
            "want more calculation \"y\" or \"n\"= n\n",
            "Thanks\n"
          ]
        }
      ],
      "source": [
        "i='y'\n",
        "\n",
        "while i=='y':\n",
        "    print('\\noperation:\\n1.ADD\\n2.SUBTRACT\\n3.MULTIPLY\\n4.DEVIDE\\n5.SQUARE')\n",
        "    o=int(input('\\nselect operation no = '))\n",
        "    \n",
        "    if o<=5:\n",
        "        x=int(input('1st no = '))\n",
        "        y=int(input('2nd no = '))\n",
        "        if o==1:\n",
        "            print('adding',x,'and',y,'=',x+y)\n",
        "        elif o==2:\n",
        "            print('subtracting',x,'and',y,'=',x-y)\n",
        "        elif o==3:\n",
        "            print('multiply',x,'and',y,'=',x*y)\n",
        "        elif o==4:\n",
        "            print('devide',x,'and',y,'=',x/y)\n",
        "        elif o==5:\n",
        "            print('square of',x,'and',y,'=',x**2,'and', y**2)\n",
        "            \n",
        "        i =(input('want more calculation \"y\" or \"n\"= '))\n",
        "        if  i==\"n\":\n",
        "            print(\"Thanks\")\n",
        "            break\n",
        "    else:\n",
        "        print('wrong operating no selected')\n",
        "    "
      ]
    },
    {
      "cell_type": "code",
      "execution_count": null,
      "id": "8d75fa71",
      "metadata": {
        "id": "8d75fa71"
      },
      "outputs": [],
      "source": [
        "4"
      ]
    }
  ],
  "metadata": {
    "kernelspec": {
      "display_name": "Python 3 (ipykernel)",
      "language": "python",
      "name": "python3"
    },
    "language_info": {
      "codemirror_mode": {
        "name": "ipython",
        "version": 3
      },
      "file_extension": ".py",
      "mimetype": "text/x-python",
      "name": "python",
      "nbconvert_exporter": "python",
      "pygments_lexer": "ipython3",
      "version": "3.9.12"
    },
    "colab": {
      "provenance": [],
      "include_colab_link": true
    }
  },
  "nbformat": 4,
  "nbformat_minor": 5
}