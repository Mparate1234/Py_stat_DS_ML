{
 "cells": [
  {
   "cell_type": "code",
   "execution_count": null,
   "id": "86f97707",
   "metadata": {},
   "outputs": [],
   "source": [
    "## Keywords : The words that have a speacial meaning in programming\n",
    "\n",
    "## try, False, True, class, break, continue, and, as, assert, while, for, in, raise, except, or, not, if, elif, print, import,\n"
   ]
  },
  {
   "cell_type": "code",
   "execution_count": 2,
   "id": "80193e7f",
   "metadata": {},
   "outputs": [],
   "source": [
    "a=10\n"
   ]
  },
  {
   "cell_type": "code",
   "execution_count": 3,
   "id": "1689196f",
   "metadata": {},
   "outputs": [
    {
     "data": {
      "text/plain": [
       "int"
      ]
     },
     "execution_count": 3,
     "metadata": {},
     "output_type": "execute_result"
    }
   ],
   "source": [
    "type(a)"
   ]
  },
  {
   "cell_type": "code",
   "execution_count": 4,
   "id": "1d9c9cd9",
   "metadata": {},
   "outputs": [],
   "source": [
    "p=\"manish\""
   ]
  },
  {
   "cell_type": "code",
   "execution_count": 5,
   "id": "ce5456e9",
   "metadata": {},
   "outputs": [
    {
     "data": {
      "text/plain": [
       "str"
      ]
     },
     "execution_count": 5,
     "metadata": {},
     "output_type": "execute_result"
    }
   ],
   "source": [
    "type(p)"
   ]
  },
  {
   "cell_type": "code",
   "execution_count": 6,
   "id": "b7f8e924",
   "metadata": {},
   "outputs": [
    {
     "data": {
      "text/plain": [
       "complex"
      ]
     },
     "execution_count": 6,
     "metadata": {},
     "output_type": "execute_result"
    }
   ],
   "source": [
    "c=1+3j\n",
    "type(c)"
   ]
  },
  {
   "cell_type": "code",
   "execution_count": 8,
   "id": "82dcd632",
   "metadata": {},
   "outputs": [
    {
     "name": "stdout",
     "output_type": "stream",
     "text": [
      "1.0\n",
      "3.0\n"
     ]
    }
   ],
   "source": [
    "print(c.real)\n",
    "print(c.imag)"
   ]
  },
  {
   "cell_type": "code",
   "execution_count": 10,
   "id": "e7715101",
   "metadata": {},
   "outputs": [
    {
     "data": {
      "text/plain": [
       "False"
      ]
     },
     "execution_count": 10,
     "metadata": {},
     "output_type": "execute_result"
    }
   ],
   "source": [
    "## python is a case of sensative \n",
    "\"a\"==\"A\""
   ]
  },
  {
   "cell_type": "code",
   "execution_count": 11,
   "id": "f952cb48",
   "metadata": {},
   "outputs": [
    {
     "name": "stdout",
     "output_type": "stream",
     "text": [
      "3\n",
      "-1\n",
      "6\n",
      "2.6666666666666665\n",
      "2\n",
      "8\n",
      "1\n"
     ]
    }
   ],
   "source": [
    "## arithmatic operstions \n",
    "print(1+2)\n",
    "print(2-3)\n",
    "print(2*3)\n",
    "print(8/3)      ## this gives quotiont\n",
    "print(8//3)        \n",
    "print(2**3)\n",
    "print(7%3)       ## this gives remender"
   ]
  },
  {
   "cell_type": "code",
   "execution_count": 12,
   "id": "82f787cd",
   "metadata": {},
   "outputs": [
    {
     "name": "stdout",
     "output_type": "stream",
     "text": [
      "10\n",
      "1\n",
      "5\n",
      "7\n"
     ]
    }
   ],
   "source": [
    "\n",
    "## veriables\n",
    "\n",
    "a=10            # single veriable assign\n",
    "\n",
    "p,q,r=1,5,7       ## multiple veriablr assign\n",
    "\n",
    "print(a)\n",
    "print(p)\n",
    "print(q)\n",
    "print(r)"
   ]
  },
  {
   "cell_type": "code",
   "execution_count": 19,
   "id": "eb35a422",
   "metadata": {},
   "outputs": [
    {
     "name": "stdout",
     "output_type": "stream",
     "text": [
      "10\n",
      "20\n",
      "10\n",
      "100\n",
      "10.0\n",
      "3.0\n",
      "1\n"
     ]
    }
   ],
   "source": [
    "## assignment operators\n",
    "\n",
    "x=10\n",
    "print(x)\n",
    "\n",
    "x+=10\n",
    "print(x)\n",
    "\n",
    "x-=10\n",
    "print(x)\n",
    "\n",
    "x*=10\n",
    "print(x)\n",
    "\n",
    "x/=10\n",
    "print(x)\n",
    "\n",
    "x%=7\n",
    "print(x)\n",
    "\n",
    "x=10\n",
    "x//=10\n",
    "print(x)"
   ]
  },
  {
   "cell_type": "code",
   "execution_count": 22,
   "id": "6fe7c650",
   "metadata": {},
   "outputs": [
    {
     "name": "stdout",
     "output_type": "stream",
     "text": [
      "10\n",
      "10\n",
      "0\n",
      "0\n",
      "0\n"
     ]
    }
   ],
   "source": [
    "\n",
    "## refer logic gate for below\n",
    "\n",
    "x&=10  #x=x&10\n",
    "print(x)\n",
    "x|=10  #x=x|10\n",
    "print(x)\n",
    "x^=10  #x=x^10\n",
    "print(x)\n",
    "x>>=10 #x=>>10\n",
    "print(x)\n",
    "x<<=10 #=x<<10\n",
    "print(x)"
   ]
  },
  {
   "cell_type": "code",
   "execution_count": 24,
   "id": "e3c678cb",
   "metadata": {},
   "outputs": [
    {
     "name": "stdout",
     "output_type": "stream",
     "text": [
      "True\n",
      "False\n",
      "False\n",
      "False\n",
      "True\n",
      "True\n"
     ]
    }
   ],
   "source": [
    "## comparision operator\n",
    "\n",
    "print(10==10)        # equal to\n",
    "print(10!=10)        # not equal to\n",
    "print(10>10)\n",
    "print(10<10)           \n",
    "print(10<=10)\n",
    "print(10>=10)\n"
   ]
  },
  {
   "cell_type": "code",
   "execution_count": null,
   "id": "719ed99a",
   "metadata": {},
   "outputs": [],
   "source": []
  },
  {
   "cell_type": "code",
   "execution_count": 25,
   "id": "13c21f02",
   "metadata": {},
   "outputs": [
    {
     "data": {
      "text/plain": [
       "True"
      ]
     },
     "execution_count": 25,
     "metadata": {},
     "output_type": "execute_result"
    }
   ],
   "source": [
    "##            logical operations used to compare condition\n",
    "\n",
    "(2<5) and (20>15)"
   ]
  },
  {
   "cell_type": "code",
   "execution_count": 26,
   "id": "a91dfa93",
   "metadata": {},
   "outputs": [
    {
     "data": {
      "text/plain": [
       "True"
      ]
     },
     "execution_count": 26,
     "metadata": {},
     "output_type": "execute_result"
    }
   ],
   "source": [
    "(2<5) or (20>15)"
   ]
  },
  {
   "cell_type": "code",
   "execution_count": 27,
   "id": "5be9fac7",
   "metadata": {},
   "outputs": [
    {
     "data": {
      "text/plain": [
       "False"
      ]
     },
     "execution_count": 27,
     "metadata": {},
     "output_type": "execute_result"
    }
   ],
   "source": [
    "not((2<5) and (20>15))"
   ]
  },
  {
   "cell_type": "code",
   "execution_count": 29,
   "id": "b006a2a2",
   "metadata": {},
   "outputs": [
    {
     "data": {
      "text/plain": [
       "True"
      ]
     },
     "execution_count": 29,
     "metadata": {},
     "output_type": "execute_result"
    }
   ],
   "source": [
    "not(False)"
   ]
  },
  {
   "cell_type": "code",
   "execution_count": null,
   "id": "5bc73b98",
   "metadata": {},
   "outputs": [],
   "source": []
  },
  {
   "cell_type": "code",
   "execution_count": 30,
   "id": "2f428210",
   "metadata": {},
   "outputs": [
    {
     "name": "stdout",
     "output_type": "stream",
     "text": [
      "2684429429328\n",
      "2684429429328\n",
      "True\n",
      "False\n"
     ]
    }
   ],
   "source": [
    "##     identity operator ; compaire 2 objects with their memory location\n",
    "\n",
    "a=10\n",
    "b=10\n",
    "\n",
    "print(id(a))      #to check memory locations\n",
    "print(id(b))\n",
    "\n",
    "print(a is b)\n",
    "print(a is not b)"
   ]
  },
  {
   "cell_type": "code",
   "execution_count": 32,
   "id": "df3cc8d3",
   "metadata": {},
   "outputs": [
    {
     "name": "stdout",
     "output_type": "stream",
     "text": [
      "True\n",
      "False\n"
     ]
    }
   ],
   "source": [
    "##   membership operator:check if a sequence is peresent in a object\n",
    "\n",
    "\n",
    "a=\"INDIA\"\n",
    "b=\"DIA\"\n",
    "\n",
    "print(b in a)\n",
    "print(b not in a)"
   ]
  },
  {
   "cell_type": "code",
   "execution_count": 36,
   "id": "2e68c327",
   "metadata": {},
   "outputs": [
    {
     "name": "stdout",
     "output_type": "stream",
     "text": [
      "False\n"
     ]
    }
   ],
   "source": [
    "f=(10,5,2,7,8)\n",
    "q=(5,2)\n",
    "\n",
    "print(q in f)"
   ]
  },
  {
   "cell_type": "code",
   "execution_count": 45,
   "id": "bbfaa972",
   "metadata": {},
   "outputs": [
    {
     "name": "stdout",
     "output_type": "stream",
     "text": [
      "list is present\n"
     ]
    }
   ],
   "source": [
    "\n",
    "\n",
    "l=[1,[5,6],8,6,9,3]\n",
    "l2=[5,6]\n",
    "if l2 in l:\n",
    "    print(\"list is present\")\n",
    "    \n",
    "else:\n",
    "    print(\"list not present\")"
   ]
  },
  {
   "cell_type": "code",
   "execution_count": null,
   "id": "d2c8d729",
   "metadata": {},
   "outputs": [],
   "source": []
  }
 ],
 "metadata": {
  "kernelspec": {
   "display_name": "Python 3 (ipykernel)",
   "language": "python",
   "name": "python3"
  },
  "language_info": {
   "codemirror_mode": {
    "name": "ipython",
    "version": 3
   },
   "file_extension": ".py",
   "mimetype": "text/x-python",
   "name": "python",
   "nbconvert_exporter": "python",
   "pygments_lexer": "ipython3",
   "version": "3.9.12"
  }
 },
 "nbformat": 4,
 "nbformat_minor": 5
}
