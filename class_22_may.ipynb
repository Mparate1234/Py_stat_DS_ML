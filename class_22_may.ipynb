{
  "cells": [
    {
      "cell_type": "markdown",
      "metadata": {
        "id": "view-in-github",
        "colab_type": "text"
      },
      "source": [
        "<a href=\"https://colab.research.google.com/github/Mparate1234/Py_stat_DS_ML/blob/main/class_22_may.ipynb\" target=\"_parent\"><img src=\"https://colab.research.google.com/assets/colab-badge.svg\" alt=\"Open In Colab\"/></a>"
      ]
    },
    {
      "cell_type": "code",
      "execution_count": null,
      "id": "86f97707",
      "metadata": {
        "id": "86f97707"
      },
      "outputs": [],
      "source": [
        "## Keywords : The words that have a speacial meaning in programming\n",
        "\n",
        "## try, False, True, class, break, continue, and, as, assert, while, for, in, raise, except, or, not, if, elif, print, import,\n"
      ]
    },
    {
      "cell_type": "code",
      "execution_count": 1,
      "id": "80193e7f",
      "metadata": {
        "id": "80193e7f"
      },
      "outputs": [],
      "source": [
        "a=10\n"
      ]
    },
    {
      "cell_type": "code",
      "execution_count": 2,
      "id": "1689196f",
      "metadata": {
        "colab": {
          "base_uri": "https://localhost:8080/"
        },
        "id": "1689196f",
        "outputId": "d9a9756b-0fce-412a-c26c-5f435525c31e"
      },
      "outputs": [
        {
          "output_type": "execute_result",
          "data": {
            "text/plain": [
              "int"
            ]
          },
          "metadata": {},
          "execution_count": 2
        }
      ],
      "source": [
        "type(a)"
      ]
    },
    {
      "cell_type": "code",
      "execution_count": 3,
      "id": "1d9c9cd9",
      "metadata": {
        "id": "1d9c9cd9"
      },
      "outputs": [],
      "source": [
        "p=\"manish\""
      ]
    },
    {
      "cell_type": "code",
      "execution_count": 4,
      "id": "ce5456e9",
      "metadata": {
        "colab": {
          "base_uri": "https://localhost:8080/"
        },
        "id": "ce5456e9",
        "outputId": "ba66578c-72de-4148-cfb4-11af656d2df0"
      },
      "outputs": [
        {
          "output_type": "execute_result",
          "data": {
            "text/plain": [
              "str"
            ]
          },
          "metadata": {},
          "execution_count": 4
        }
      ],
      "source": [
        "type(p)"
      ]
    },
    {
      "cell_type": "code",
      "execution_count": 5,
      "id": "b7f8e924",
      "metadata": {
        "colab": {
          "base_uri": "https://localhost:8080/"
        },
        "id": "b7f8e924",
        "outputId": "5c68f6ed-4c1d-461e-a776-263b8ee1c1a2"
      },
      "outputs": [
        {
          "output_type": "execute_result",
          "data": {
            "text/plain": [
              "complex"
            ]
          },
          "metadata": {},
          "execution_count": 5
        }
      ],
      "source": [
        "c=1+3j\n",
        "type(c)"
      ]
    },
    {
      "cell_type": "code",
      "execution_count": 6,
      "id": "82dcd632",
      "metadata": {
        "colab": {
          "base_uri": "https://localhost:8080/"
        },
        "id": "82dcd632",
        "outputId": "5b7464b9-793c-4860-ac4e-b0a3632ee8d4"
      },
      "outputs": [
        {
          "output_type": "stream",
          "name": "stdout",
          "text": [
            "1.0\n",
            "3.0\n"
          ]
        }
      ],
      "source": [
        "\n",
        "print(c.real)\n",
        "print(c.imag)"
      ]
    },
    {
      "cell_type": "code",
      "execution_count": 7,
      "id": "e7715101",
      "metadata": {
        "colab": {
          "base_uri": "https://localhost:8080/"
        },
        "id": "e7715101",
        "outputId": "95ebd734-57af-4ad5-900d-83f7c9944a10"
      },
      "outputs": [
        {
          "output_type": "execute_result",
          "data": {
            "text/plain": [
              "False"
            ]
          },
          "metadata": {},
          "execution_count": 7
        }
      ],
      "source": [
        "\n",
        "## python is a case of sensative \n",
        "\"a\"==\"A\""
      ]
    },
    {
      "cell_type": "code",
      "execution_count": 8,
      "id": "f952cb48",
      "metadata": {
        "colab": {
          "base_uri": "https://localhost:8080/"
        },
        "id": "f952cb48",
        "outputId": "4b4173fc-7a1a-4948-bc0a-8cc077f409c7"
      },
      "outputs": [
        {
          "output_type": "stream",
          "name": "stdout",
          "text": [
            "3\n",
            "-1\n",
            "6\n",
            "2.6666666666666665\n",
            "2\n",
            "8\n",
            "1\n"
          ]
        }
      ],
      "source": [
        "## arithmatic operstions \n",
        "print(1+2)\n",
        "print(2-3)\n",
        "print(2*3)\n",
        "print(8/3)      ## this gives quotiont\n",
        "print(8//3)        \n",
        "print(2**3)\n",
        "print(7%3)       ## this gives remender"
      ]
    },
    {
      "cell_type": "code",
      "execution_count": 9,
      "id": "82f787cd",
      "metadata": {
        "colab": {
          "base_uri": "https://localhost:8080/"
        },
        "id": "82f787cd",
        "outputId": "0d8043d5-c348-4037-d65a-244233cd044e"
      },
      "outputs": [
        {
          "output_type": "stream",
          "name": "stdout",
          "text": [
            "10\n",
            "1\n",
            "5\n",
            "7\n"
          ]
        }
      ],
      "source": [
        "\n",
        "## veriables\n",
        "\n",
        "a=10            # single veriable assign\n",
        "\n",
        "p,q,r=1,5,7       ## multiple veriablr assign\n",
        "\n",
        "print(a)\n",
        "print(p)\n",
        "print(q)\n",
        "print(r)"
      ]
    },
    {
      "cell_type": "code",
      "execution_count": 10,
      "id": "eb35a422",
      "metadata": {
        "colab": {
          "base_uri": "https://localhost:8080/"
        },
        "id": "eb35a422",
        "outputId": "12446a57-cfe5-4a62-ea88-1da1e035dcf7"
      },
      "outputs": [
        {
          "output_type": "stream",
          "name": "stdout",
          "text": [
            "10\n",
            "20\n",
            "10\n",
            "100\n",
            "10.0\n",
            "3.0\n",
            "1\n"
          ]
        }
      ],
      "source": [
        "## assignment operators\n",
        "\n",
        "x=10\n",
        "print(x)\n",
        "\n",
        "x+=10\n",
        "print(x)\n",
        "\n",
        "x-=10\n",
        "print(x)\n",
        "\n",
        "x*=10\n",
        "print(x)\n",
        "\n",
        "x/=10\n",
        "print(x)\n",
        "\n",
        "x%=7\n",
        "print(x)\n",
        "\n",
        "x=10\n",
        "x//=10\n",
        "print(x)"
      ]
    },
    {
      "cell_type": "code",
      "execution_count": 11,
      "id": "6fe7c650",
      "metadata": {
        "colab": {
          "base_uri": "https://localhost:8080/"
        },
        "id": "6fe7c650",
        "outputId": "d723c97c-ea37-4191-e85e-5a2ae2afe9d3"
      },
      "outputs": [
        {
          "output_type": "stream",
          "name": "stdout",
          "text": [
            "0\n",
            "10\n",
            "0\n",
            "0\n",
            "0\n"
          ]
        }
      ],
      "source": [
        "\n",
        "## refer logic gate for below\n",
        "\n",
        "x&=10  #x=x&10\n",
        "print(x)\n",
        "x|=10  #x=x|10\n",
        "print(x)\n",
        "x^=10  #x=x^10\n",
        "print(x)\n",
        "x>>=10 #x=>>10\n",
        "print(x)\n",
        "x<<=10 #=x<<10\n",
        "print(x)"
      ]
    },
    {
      "cell_type": "code",
      "execution_count": 12,
      "id": "e3c678cb",
      "metadata": {
        "colab": {
          "base_uri": "https://localhost:8080/"
        },
        "id": "e3c678cb",
        "outputId": "3b7de9eb-519a-4e05-824c-cabf9cb699b4"
      },
      "outputs": [
        {
          "output_type": "stream",
          "name": "stdout",
          "text": [
            "True\n",
            "False\n",
            "False\n",
            "False\n",
            "True\n",
            "True\n"
          ]
        }
      ],
      "source": [
        "## comparision operator\n",
        "\n",
        "print(10==10)        # equal to\n",
        "print(10!=10)        # not equal to\n",
        "print(10>10)\n",
        "print(10<10)           \n",
        "print(10<=10)\n",
        "print(10>=10)\n"
      ]
    },
    {
      "cell_type": "code",
      "execution_count": 12,
      "id": "719ed99a",
      "metadata": {
        "id": "719ed99a"
      },
      "outputs": [],
      "source": []
    },
    {
      "cell_type": "code",
      "execution_count": 13,
      "id": "13c21f02",
      "metadata": {
        "colab": {
          "base_uri": "https://localhost:8080/"
        },
        "id": "13c21f02",
        "outputId": "aa8f5913-de2a-4d12-9fc2-3ac5fa1958d2"
      },
      "outputs": [
        {
          "output_type": "execute_result",
          "data": {
            "text/plain": [
              "True"
            ]
          },
          "metadata": {},
          "execution_count": 13
        }
      ],
      "source": [
        "##            logical operations used to compare condition\n",
        "\n",
        "(2<5) and (20>15)"
      ]
    },
    {
      "cell_type": "code",
      "execution_count": 14,
      "id": "a91dfa93",
      "metadata": {
        "colab": {
          "base_uri": "https://localhost:8080/"
        },
        "id": "a91dfa93",
        "outputId": "6e4b7215-6031-46d9-ab9b-7772b2f22b26"
      },
      "outputs": [
        {
          "output_type": "execute_result",
          "data": {
            "text/plain": [
              "True"
            ]
          },
          "metadata": {},
          "execution_count": 14
        }
      ],
      "source": [
        "(2<5) or (20>15)"
      ]
    },
    {
      "cell_type": "code",
      "execution_count": 15,
      "id": "5be9fac7",
      "metadata": {
        "colab": {
          "base_uri": "https://localhost:8080/"
        },
        "id": "5be9fac7",
        "outputId": "c8f80fbc-d2e4-44f0-c5f4-2adcac260bec"
      },
      "outputs": [
        {
          "output_type": "execute_result",
          "data": {
            "text/plain": [
              "False"
            ]
          },
          "metadata": {},
          "execution_count": 15
        }
      ],
      "source": [
        "not((2<5) and (20>15))"
      ]
    },
    {
      "cell_type": "code",
      "execution_count": 16,
      "id": "b006a2a2",
      "metadata": {
        "colab": {
          "base_uri": "https://localhost:8080/"
        },
        "id": "b006a2a2",
        "outputId": "d96a0070-bcc1-4043-8c64-b94bdf04aed5"
      },
      "outputs": [
        {
          "output_type": "execute_result",
          "data": {
            "text/plain": [
              "True"
            ]
          },
          "metadata": {},
          "execution_count": 16
        }
      ],
      "source": [
        "not(False)"
      ]
    },
    {
      "cell_type": "code",
      "execution_count": 16,
      "id": "5bc73b98",
      "metadata": {
        "id": "5bc73b98"
      },
      "outputs": [],
      "source": []
    },
    {
      "cell_type": "code",
      "execution_count": 17,
      "id": "2f428210",
      "metadata": {
        "colab": {
          "base_uri": "https://localhost:8080/"
        },
        "id": "2f428210",
        "outputId": "2c28328f-563a-4741-9c92-dd092de231d2"
      },
      "outputs": [
        {
          "output_type": "stream",
          "name": "stdout",
          "text": [
            "9793376\n",
            "9793376\n",
            "True\n",
            "False\n"
          ]
        }
      ],
      "source": [
        "##     identity operator ; compaire 2 objects with their memory location\n",
        "\n",
        "a=10\n",
        "b=10\n",
        "\n",
        "print(id(a))      #to check memory locations\n",
        "print(id(b))\n",
        "\n",
        "print(a is b)\n",
        "print(a is not b)"
      ]
    },
    {
      "cell_type": "code",
      "execution_count": 18,
      "id": "df3cc8d3",
      "metadata": {
        "colab": {
          "base_uri": "https://localhost:8080/"
        },
        "id": "df3cc8d3",
        "outputId": "9f825c8b-d7d4-471b-e17b-70a5e23bcb4c"
      },
      "outputs": [
        {
          "output_type": "stream",
          "name": "stdout",
          "text": [
            "True\n",
            "False\n"
          ]
        }
      ],
      "source": [
        "##   membership operator:check if a sequence is peresent in a object\n",
        "\n",
        "\n",
        "a=\"INDIA\"\n",
        "b=\"DIA\"\n",
        "\n",
        "print(b in a)\n",
        "print(b not in a)"
      ]
    },
    {
      "cell_type": "code",
      "execution_count": 19,
      "id": "2e68c327",
      "metadata": {
        "colab": {
          "base_uri": "https://localhost:8080/"
        },
        "id": "2e68c327",
        "outputId": "02eae082-7178-4250-d9f0-b7fc140bf702"
      },
      "outputs": [
        {
          "output_type": "stream",
          "name": "stdout",
          "text": [
            "False\n"
          ]
        }
      ],
      "source": [
        "f=(10,5,2,7,8)\n",
        "q=(5,2)\n",
        "\n",
        "print(q in f)"
      ]
    },
    {
      "cell_type": "code",
      "execution_count": 20,
      "id": "bbfaa972",
      "metadata": {
        "colab": {
          "base_uri": "https://localhost:8080/"
        },
        "id": "bbfaa972",
        "outputId": "cb60ea34-d386-41b1-9804-17042aaf7ef5"
      },
      "outputs": [
        {
          "output_type": "stream",
          "name": "stdout",
          "text": [
            "list is present\n"
          ]
        }
      ],
      "source": [
        "\n",
        "\n",
        "l=[1,[5,6],8,6,9,3]\n",
        "l2=[5,6]\n",
        "if l2 in l:\n",
        "    print(\"list is present\")\n",
        "    \n",
        "else:\n",
        "    print(\"list not present\")"
      ]
    },
    {
      "cell_type": "code",
      "execution_count": 20,
      "id": "d2c8d729",
      "metadata": {
        "id": "d2c8d729"
      },
      "outputs": [],
      "source": []
    }
  ],
  "metadata": {
    "kernelspec": {
      "display_name": "Python 3 (ipykernel)",
      "language": "python",
      "name": "python3"
    },
    "language_info": {
      "codemirror_mode": {
        "name": "ipython",
        "version": 3
      },
      "file_extension": ".py",
      "mimetype": "text/x-python",
      "name": "python",
      "nbconvert_exporter": "python",
      "pygments_lexer": "ipython3",
      "version": "3.9.12"
    },
    "colab": {
      "provenance": [],
      "include_colab_link": true
    }
  },
  "nbformat": 4,
  "nbformat_minor": 5
}