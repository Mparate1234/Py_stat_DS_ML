{
  "cells": [
    {
      "cell_type": "markdown",
      "metadata": {
        "id": "view-in-github",
        "colab_type": "text"
      },
      "source": [
        "<a href=\"https://colab.research.google.com/github/Mparate1234/Py_stat_DS_ML/blob/main/dim-reduction%2C%20PCA%20%26%20LDA.ipynb\" target=\"_parent\"><img src=\"https://colab.research.google.com/assets/colab-badge.svg\" alt=\"Open In Colab\"/></a>"
      ]
    },
    {
      "cell_type": "markdown",
      "id": "0dcc45db",
      "metadata": {
        "id": "0dcc45db"
      },
      "source": [
        "#                   technique for dimensionanity reduction "
      ]
    },
    {
      "cell_type": "code",
      "execution_count": null,
      "id": "e2b6a6c0",
      "metadata": {
        "id": "e2b6a6c0"
      },
      "outputs": [],
      "source": []
    },
    {
      "cell_type": "code",
      "execution_count": null,
      "id": "9f5b7a12",
      "metadata": {
        "id": "9f5b7a12"
      },
      "outputs": [],
      "source": []
    },
    {
      "cell_type": "code",
      "execution_count": 1,
      "id": "51a33088",
      "metadata": {
        "id": "51a33088"
      },
      "outputs": [],
      "source": [
        "import pandas as pd\n",
        "import numpy as np\n",
        "from sklearn.datasets import load_digits\n",
        "digit=load_digits()"
      ]
    },
    {
      "cell_type": "code",
      "execution_count": 2,
      "id": "7ea375a4",
      "metadata": {
        "id": "7ea375a4"
      },
      "outputs": [],
      "source": [
        "import matplotlib.pyplot as plt"
      ]
    },
    {
      "cell_type": "code",
      "execution_count": 3,
      "id": "1fe992ca",
      "metadata": {
        "colab": {
          "base_uri": "https://localhost:8080/"
        },
        "id": "1fe992ca",
        "outputId": "0cf4c045-28b2-41fe-db65-ede8b8ce1558"
      },
      "outputs": [
        {
          "output_type": "execute_result",
          "data": {
            "text/plain": [
              "(1797, 64)"
            ]
          },
          "metadata": {},
          "execution_count": 3
        }
      ],
      "source": [
        "df=pd.DataFrame(digit.data)\n",
        "df.shape          ## data has 1797 rows and 64 columns"
      ]
    },
    {
      "cell_type": "code",
      "execution_count": 4,
      "id": "d3be382b",
      "metadata": {
        "colab": {
          "base_uri": "https://localhost:8080/",
          "height": 235
        },
        "id": "d3be382b",
        "outputId": "e7717f83-e416-436e-ad21-80da96bad9f0"
      },
      "outputs": [
        {
          "output_type": "execute_result",
          "data": {
            "text/plain": [
              "    0    1    2     3     4     5    6    7    8    9   ...   54   55   56  \\\n",
              "0  0.0  0.0  5.0  13.0   9.0   1.0  0.0  0.0  0.0  0.0  ...  0.0  0.0  0.0   \n",
              "1  0.0  0.0  0.0  12.0  13.0   5.0  0.0  0.0  0.0  0.0  ...  0.0  0.0  0.0   \n",
              "2  0.0  0.0  0.0   4.0  15.0  12.0  0.0  0.0  0.0  0.0  ...  5.0  0.0  0.0   \n",
              "3  0.0  0.0  7.0  15.0  13.0   1.0  0.0  0.0  0.0  8.0  ...  9.0  0.0  0.0   \n",
              "4  0.0  0.0  0.0   1.0  11.0   0.0  0.0  0.0  0.0  0.0  ...  0.0  0.0  0.0   \n",
              "\n",
              "    57   58    59    60    61   62   63  \n",
              "0  0.0  6.0  13.0  10.0   0.0  0.0  0.0  \n",
              "1  0.0  0.0  11.0  16.0  10.0  0.0  0.0  \n",
              "2  0.0  0.0   3.0  11.0  16.0  9.0  0.0  \n",
              "3  0.0  7.0  13.0  13.0   9.0  0.0  0.0  \n",
              "4  0.0  0.0   2.0  16.0   4.0  0.0  0.0  \n",
              "\n",
              "[5 rows x 64 columns]"
            ],
            "text/html": [
              "\n",
              "  <div id=\"df-fbb769d8-58cc-4bfd-9344-ab4eff4d18e7\">\n",
              "    <div class=\"colab-df-container\">\n",
              "      <div>\n",
              "<style scoped>\n",
              "    .dataframe tbody tr th:only-of-type {\n",
              "        vertical-align: middle;\n",
              "    }\n",
              "\n",
              "    .dataframe tbody tr th {\n",
              "        vertical-align: top;\n",
              "    }\n",
              "\n",
              "    .dataframe thead th {\n",
              "        text-align: right;\n",
              "    }\n",
              "</style>\n",
              "<table border=\"1\" class=\"dataframe\">\n",
              "  <thead>\n",
              "    <tr style=\"text-align: right;\">\n",
              "      <th></th>\n",
              "      <th>0</th>\n",
              "      <th>1</th>\n",
              "      <th>2</th>\n",
              "      <th>3</th>\n",
              "      <th>4</th>\n",
              "      <th>5</th>\n",
              "      <th>6</th>\n",
              "      <th>7</th>\n",
              "      <th>8</th>\n",
              "      <th>9</th>\n",
              "      <th>...</th>\n",
              "      <th>54</th>\n",
              "      <th>55</th>\n",
              "      <th>56</th>\n",
              "      <th>57</th>\n",
              "      <th>58</th>\n",
              "      <th>59</th>\n",
              "      <th>60</th>\n",
              "      <th>61</th>\n",
              "      <th>62</th>\n",
              "      <th>63</th>\n",
              "    </tr>\n",
              "  </thead>\n",
              "  <tbody>\n",
              "    <tr>\n",
              "      <th>0</th>\n",
              "      <td>0.0</td>\n",
              "      <td>0.0</td>\n",
              "      <td>5.0</td>\n",
              "      <td>13.0</td>\n",
              "      <td>9.0</td>\n",
              "      <td>1.0</td>\n",
              "      <td>0.0</td>\n",
              "      <td>0.0</td>\n",
              "      <td>0.0</td>\n",
              "      <td>0.0</td>\n",
              "      <td>...</td>\n",
              "      <td>0.0</td>\n",
              "      <td>0.0</td>\n",
              "      <td>0.0</td>\n",
              "      <td>0.0</td>\n",
              "      <td>6.0</td>\n",
              "      <td>13.0</td>\n",
              "      <td>10.0</td>\n",
              "      <td>0.0</td>\n",
              "      <td>0.0</td>\n",
              "      <td>0.0</td>\n",
              "    </tr>\n",
              "    <tr>\n",
              "      <th>1</th>\n",
              "      <td>0.0</td>\n",
              "      <td>0.0</td>\n",
              "      <td>0.0</td>\n",
              "      <td>12.0</td>\n",
              "      <td>13.0</td>\n",
              "      <td>5.0</td>\n",
              "      <td>0.0</td>\n",
              "      <td>0.0</td>\n",
              "      <td>0.0</td>\n",
              "      <td>0.0</td>\n",
              "      <td>...</td>\n",
              "      <td>0.0</td>\n",
              "      <td>0.0</td>\n",
              "      <td>0.0</td>\n",
              "      <td>0.0</td>\n",
              "      <td>0.0</td>\n",
              "      <td>11.0</td>\n",
              "      <td>16.0</td>\n",
              "      <td>10.0</td>\n",
              "      <td>0.0</td>\n",
              "      <td>0.0</td>\n",
              "    </tr>\n",
              "    <tr>\n",
              "      <th>2</th>\n",
              "      <td>0.0</td>\n",
              "      <td>0.0</td>\n",
              "      <td>0.0</td>\n",
              "      <td>4.0</td>\n",
              "      <td>15.0</td>\n",
              "      <td>12.0</td>\n",
              "      <td>0.0</td>\n",
              "      <td>0.0</td>\n",
              "      <td>0.0</td>\n",
              "      <td>0.0</td>\n",
              "      <td>...</td>\n",
              "      <td>5.0</td>\n",
              "      <td>0.0</td>\n",
              "      <td>0.0</td>\n",
              "      <td>0.0</td>\n",
              "      <td>0.0</td>\n",
              "      <td>3.0</td>\n",
              "      <td>11.0</td>\n",
              "      <td>16.0</td>\n",
              "      <td>9.0</td>\n",
              "      <td>0.0</td>\n",
              "    </tr>\n",
              "    <tr>\n",
              "      <th>3</th>\n",
              "      <td>0.0</td>\n",
              "      <td>0.0</td>\n",
              "      <td>7.0</td>\n",
              "      <td>15.0</td>\n",
              "      <td>13.0</td>\n",
              "      <td>1.0</td>\n",
              "      <td>0.0</td>\n",
              "      <td>0.0</td>\n",
              "      <td>0.0</td>\n",
              "      <td>8.0</td>\n",
              "      <td>...</td>\n",
              "      <td>9.0</td>\n",
              "      <td>0.0</td>\n",
              "      <td>0.0</td>\n",
              "      <td>0.0</td>\n",
              "      <td>7.0</td>\n",
              "      <td>13.0</td>\n",
              "      <td>13.0</td>\n",
              "      <td>9.0</td>\n",
              "      <td>0.0</td>\n",
              "      <td>0.0</td>\n",
              "    </tr>\n",
              "    <tr>\n",
              "      <th>4</th>\n",
              "      <td>0.0</td>\n",
              "      <td>0.0</td>\n",
              "      <td>0.0</td>\n",
              "      <td>1.0</td>\n",
              "      <td>11.0</td>\n",
              "      <td>0.0</td>\n",
              "      <td>0.0</td>\n",
              "      <td>0.0</td>\n",
              "      <td>0.0</td>\n",
              "      <td>0.0</td>\n",
              "      <td>...</td>\n",
              "      <td>0.0</td>\n",
              "      <td>0.0</td>\n",
              "      <td>0.0</td>\n",
              "      <td>0.0</td>\n",
              "      <td>0.0</td>\n",
              "      <td>2.0</td>\n",
              "      <td>16.0</td>\n",
              "      <td>4.0</td>\n",
              "      <td>0.0</td>\n",
              "      <td>0.0</td>\n",
              "    </tr>\n",
              "  </tbody>\n",
              "</table>\n",
              "<p>5 rows × 64 columns</p>\n",
              "</div>\n",
              "      <button class=\"colab-df-convert\" onclick=\"convertToInteractive('df-fbb769d8-58cc-4bfd-9344-ab4eff4d18e7')\"\n",
              "              title=\"Convert this dataframe to an interactive table.\"\n",
              "              style=\"display:none;\">\n",
              "        \n",
              "  <svg xmlns=\"http://www.w3.org/2000/svg\" height=\"24px\"viewBox=\"0 0 24 24\"\n",
              "       width=\"24px\">\n",
              "    <path d=\"M0 0h24v24H0V0z\" fill=\"none\"/>\n",
              "    <path d=\"M18.56 5.44l.94 2.06.94-2.06 2.06-.94-2.06-.94-.94-2.06-.94 2.06-2.06.94zm-11 1L8.5 8.5l.94-2.06 2.06-.94-2.06-.94L8.5 2.5l-.94 2.06-2.06.94zm10 10l.94 2.06.94-2.06 2.06-.94-2.06-.94-.94-2.06-.94 2.06-2.06.94z\"/><path d=\"M17.41 7.96l-1.37-1.37c-.4-.4-.92-.59-1.43-.59-.52 0-1.04.2-1.43.59L10.3 9.45l-7.72 7.72c-.78.78-.78 2.05 0 2.83L4 21.41c.39.39.9.59 1.41.59.51 0 1.02-.2 1.41-.59l7.78-7.78 2.81-2.81c.8-.78.8-2.07 0-2.86zM5.41 20L4 18.59l7.72-7.72 1.47 1.35L5.41 20z\"/>\n",
              "  </svg>\n",
              "      </button>\n",
              "      \n",
              "  <style>\n",
              "    .colab-df-container {\n",
              "      display:flex;\n",
              "      flex-wrap:wrap;\n",
              "      gap: 12px;\n",
              "    }\n",
              "\n",
              "    .colab-df-convert {\n",
              "      background-color: #E8F0FE;\n",
              "      border: none;\n",
              "      border-radius: 50%;\n",
              "      cursor: pointer;\n",
              "      display: none;\n",
              "      fill: #1967D2;\n",
              "      height: 32px;\n",
              "      padding: 0 0 0 0;\n",
              "      width: 32px;\n",
              "    }\n",
              "\n",
              "    .colab-df-convert:hover {\n",
              "      background-color: #E2EBFA;\n",
              "      box-shadow: 0px 1px 2px rgba(60, 64, 67, 0.3), 0px 1px 3px 1px rgba(60, 64, 67, 0.15);\n",
              "      fill: #174EA6;\n",
              "    }\n",
              "\n",
              "    [theme=dark] .colab-df-convert {\n",
              "      background-color: #3B4455;\n",
              "      fill: #D2E3FC;\n",
              "    }\n",
              "\n",
              "    [theme=dark] .colab-df-convert:hover {\n",
              "      background-color: #434B5C;\n",
              "      box-shadow: 0px 1px 3px 1px rgba(0, 0, 0, 0.15);\n",
              "      filter: drop-shadow(0px 1px 2px rgba(0, 0, 0, 0.3));\n",
              "      fill: #FFFFFF;\n",
              "    }\n",
              "  </style>\n",
              "\n",
              "      <script>\n",
              "        const buttonEl =\n",
              "          document.querySelector('#df-fbb769d8-58cc-4bfd-9344-ab4eff4d18e7 button.colab-df-convert');\n",
              "        buttonEl.style.display =\n",
              "          google.colab.kernel.accessAllowed ? 'block' : 'none';\n",
              "\n",
              "        async function convertToInteractive(key) {\n",
              "          const element = document.querySelector('#df-fbb769d8-58cc-4bfd-9344-ab4eff4d18e7');\n",
              "          const dataTable =\n",
              "            await google.colab.kernel.invokeFunction('convertToInteractive',\n",
              "                                                     [key], {});\n",
              "          if (!dataTable) return;\n",
              "\n",
              "          const docLinkHtml = 'Like what you see? Visit the ' +\n",
              "            '<a target=\"_blank\" href=https://colab.research.google.com/notebooks/data_table.ipynb>data table notebook</a>'\n",
              "            + ' to learn more about interactive tables.';\n",
              "          element.innerHTML = '';\n",
              "          dataTable['output_type'] = 'display_data';\n",
              "          await google.colab.output.renderOutput(dataTable, element);\n",
              "          const docLink = document.createElement('div');\n",
              "          docLink.innerHTML = docLinkHtml;\n",
              "          element.appendChild(docLink);\n",
              "        }\n",
              "      </script>\n",
              "    </div>\n",
              "  </div>\n",
              "  "
            ]
          },
          "metadata": {},
          "execution_count": 4
        }
      ],
      "source": [
        "df.head()"
      ]
    },
    {
      "cell_type": "code",
      "execution_count": 5,
      "id": "3ad9f474",
      "metadata": {
        "colab": {
          "base_uri": "https://localhost:8080/",
          "height": 269
        },
        "id": "3ad9f474",
        "outputId": "d00f71fb-3c21-43e6-d56a-ee41a49e7499"
      },
      "outputs": [
        {
          "output_type": "display_data",
          "data": {
            "text/plain": [
              "<Figure size 432x288 with 2 Axes>"
            ],
            "image/png": "[encoded data removed]"
          },
          "metadata": {
            "needs_background": "light"
          }
        }
      ],
      "source": [
        "plt.imshow(digit.data[1].reshape(8,8))          ## these are pixels shown in image \n",
        "plt.colorbar()                               ## use for pitcher perception\n",
        "plt.show()                                   ### its a image of 1"
      ]
    },
    {
      "cell_type": "code",
      "execution_count": 6,
      "id": "c612de03",
      "metadata": {
        "colab": {
          "base_uri": "https://localhost:8080/"
        },
        "id": "c612de03",
        "outputId": "c18cdb9a-9610-44ac-d4a5-82a4178dd73d"
      },
      "outputs": [
        {
          "output_type": "execute_result",
          "data": {
            "text/plain": [
              "array([[ 0.,  0.,  7.,  8., 13., 16., 15.,  1.],\n",
              "       [ 0.,  0.,  7.,  7.,  4., 11., 12.,  0.],\n",
              "       [ 0.,  0.,  0.,  0.,  8., 13.,  1.,  0.],\n",
              "       [ 0.,  4.,  8.,  8., 15., 15.,  6.,  0.],\n",
              "       [ 0.,  2., 11., 15., 15.,  4.,  0.,  0.],\n",
              "       [ 0.,  0.,  0., 16.,  5.,  0.,  0.,  0.],\n",
              "       [ 0.,  0.,  9., 15.,  1.,  0.,  0.,  0.],\n",
              "       [ 0.,  0., 13.,  5.,  0.,  0.,  0.,  0.]])"
            ]
          },
          "metadata": {},
          "execution_count": 6
        }
      ],
      "source": [
        "digit.data[7].reshape(8,8)"
      ]
    },
    {
      "cell_type": "code",
      "execution_count": 7,
      "id": "4d9f7557",
      "metadata": {
        "colab": {
          "base_uri": "https://localhost:8080/",
          "height": 269
        },
        "id": "4d9f7557",
        "outputId": "c77c5bd9-940a-4cf4-d89a-ea8a55e383bb"
      },
      "outputs": [
        {
          "output_type": "display_data",
          "data": {
            "text/plain": [
              "<Figure size 432x288 with 2 Axes>"
            ],
            "image/png": "[encoded data removed]"
          },
          "metadata": {
            "needs_background": "light"
          }
        }
      ],
      "source": [
        "plt.imshow(digit.data[7].reshape(8,8))                     ## this is image of 7\n",
        "plt.colorbar()                                         \n",
        "plt.show()                                     ## image having 16 shades of colours "
      ]
    },
    {
      "cell_type": "code",
      "execution_count": 8,
      "id": "2615c2bb",
      "metadata": {
        "colab": {
          "base_uri": "https://localhost:8080/"
        },
        "id": "2615c2bb",
        "outputId": "58afb5d0-a72d-4b03-c931-e2474e7ecf31"
      },
      "outputs": [
        {
          "output_type": "execute_result",
          "data": {
            "text/plain": [
              "array([ 0.,  0.,  0.,  4., 15., 12.,  0.,  0.,  0.,  0.,  3., 16., 15.,\n",
              "       14.,  0.,  0.,  0.,  0.,  8., 13.,  8., 16.,  0.,  0.,  0.,  0.,\n",
              "        1.,  6., 15., 11.,  0.,  0.,  0.,  1.,  8., 13., 15.,  1.,  0.,\n",
              "        0.,  0.,  9., 16., 16.,  5.,  0.,  0.,  0.,  0.,  3., 13., 16.,\n",
              "       16., 11.,  5.,  0.,  0.,  0.,  0.,  3., 11., 16.,  9.,  0.])"
            ]
          },
          "metadata": {},
          "execution_count": 8
        }
      ],
      "source": [
        "digit.data[2]        #  64 column array - this is how 2 is stored as data"
      ]
    },
    {
      "cell_type": "code",
      "execution_count": 9,
      "id": "47d37b2c",
      "metadata": {
        "colab": {
          "base_uri": "https://localhost:8080/"
        },
        "id": "47d37b2c",
        "outputId": "a2fc8dee-6a6b-42fa-c58b-2bfcf725dcfe"
      },
      "outputs": [
        {
          "output_type": "execute_result",
          "data": {
            "text/plain": [
              "(1797,)"
            ]
          },
          "metadata": {},
          "execution_count": 9
        }
      ],
      "source": [
        "y=digit.target\n",
        "y.shape\n"
      ]
    },
    {
      "cell_type": "code",
      "execution_count": 10,
      "id": "41baffe9",
      "metadata": {
        "colab": {
          "base_uri": "https://localhost:8080/"
        },
        "id": "41baffe9",
        "outputId": "630b90b1-73a5-46c4-ec2a-8cf973898c38"
      },
      "outputs": [
        {
          "output_type": "execute_result",
          "data": {
            "text/plain": [
              "16.0"
            ]
          },
          "metadata": {},
          "execution_count": 10
        }
      ],
      "source": [
        "df.max().max()"
      ]
    },
    {
      "cell_type": "code",
      "execution_count": 11,
      "id": "8c30c23f",
      "metadata": {
        "colab": {
          "base_uri": "https://localhost:8080/"
        },
        "id": "8c30c23f",
        "outputId": "bed43bb3-be5c-4b4b-b101-c81140ca85cf"
      },
      "outputs": [
        {
          "output_type": "execute_result",
          "data": {
            "text/plain": [
              "0.0"
            ]
          },
          "metadata": {},
          "execution_count": 11
        }
      ],
      "source": [
        "df.min().min()"
      ]
    },
    {
      "cell_type": "code",
      "execution_count": 12,
      "id": "e1401538",
      "metadata": {
        "colab": {
          "base_uri": "https://localhost:8080/"
        },
        "id": "e1401538",
        "outputId": "2e531645-b516-4917-91af-875d8de97d84"
      },
      "outputs": [
        {
          "output_type": "execute_result",
          "data": {
            "text/plain": [
              "(1797, 64)"
            ]
          },
          "metadata": {},
          "execution_count": 12
        }
      ],
      "source": [
        "# bringing to the scale to 0 ot 1\n",
        "x_transformed=digit.data/16.0\n",
        "x_transformed.shape"
      ]
    },
    {
      "cell_type": "code",
      "execution_count": 13,
      "id": "129a13f0",
      "metadata": {
        "colab": {
          "base_uri": "https://localhost:8080/"
        },
        "id": "129a13f0",
        "outputId": "9cfacb55-15c4-445e-ff1f-9381b401e1dd"
      },
      "outputs": [
        {
          "output_type": "execute_result",
          "data": {
            "text/plain": [
              "1.0"
            ]
          },
          "metadata": {},
          "execution_count": 13
        }
      ],
      "source": [
        "x_transformed.max().max()"
      ]
    },
    {
      "cell_type": "code",
      "execution_count": 14,
      "id": "82346e4b",
      "metadata": {
        "colab": {
          "base_uri": "https://localhost:8080/"
        },
        "id": "82346e4b",
        "outputId": "f5e5a4ec-d06b-4a7f-8e6b-7543c6446883"
      },
      "outputs": [
        {
          "output_type": "execute_result",
          "data": {
            "text/plain": [
              "0.0"
            ]
          },
          "metadata": {},
          "execution_count": 14
        }
      ],
      "source": [
        "x_transformed.min().min()"
      ]
    },
    {
      "cell_type": "code",
      "execution_count": 15,
      "id": "f4590280",
      "metadata": {
        "colab": {
          "base_uri": "https://localhost:8080/"
        },
        "id": "f4590280",
        "outputId": "cdc9cc79-fa04-4cb4-f632-eca8c989cb63"
      },
      "outputs": [
        {
          "output_type": "execute_result",
          "data": {
            "text/plain": [
              "numpy.ndarray"
            ]
          },
          "metadata": {},
          "execution_count": 15
        }
      ],
      "source": [
        "type(x_transformed)"
      ]
    },
    {
      "cell_type": "code",
      "execution_count": 15,
      "id": "1554b928",
      "metadata": {
        "id": "1554b928"
      },
      "outputs": [],
      "source": []
    },
    {
      "cell_type": "markdown",
      "id": "809e7e65",
      "metadata": {
        "id": "809e7e65"
      },
      "source": [
        "#  * problem is 64 columns are way too much heavy \n",
        "# * this is why we are using PCA method for data reduction"
      ]
    },
    {
      "cell_type": "markdown",
      "id": "a557aaa9",
      "metadata": {
        "id": "a557aaa9"
      },
      "source": [
        "# __________ PCA --- principle component analysis"
      ]
    },
    {
      "cell_type": "code",
      "execution_count": 16,
      "id": "f7c8dda4",
      "metadata": {
        "id": "f7c8dda4"
      },
      "outputs": [],
      "source": [
        "from sklearn.decomposition import PCA\n",
        "pca=PCA()"
      ]
    },
    {
      "cell_type": "code",
      "execution_count": 17,
      "id": "015cbe02",
      "metadata": {
        "colab": {
          "base_uri": "https://localhost:8080/"
        },
        "id": "015cbe02",
        "outputId": "1398e446-c1f0-4403-b9da-1ec356d34e56"
      },
      "outputs": [
        {
          "output_type": "execute_result",
          "data": {
            "text/plain": [
              "(1797, 64)"
            ]
          },
          "metadata": {},
          "execution_count": 17
        }
      ],
      "source": [
        "digit_pca=pca.fit_transform(x_transformed)\n",
        "digit_pca.shape"
      ]
    },
    {
      "cell_type": "code",
      "execution_count": 18,
      "id": "3aebfcfc",
      "metadata": {
        "colab": {
          "base_uri": "https://localhost:8080/"
        },
        "id": "3aebfcfc",
        "outputId": "f6be11d7-7eff-4dd1-829d-82879f510577"
      },
      "outputs": [
        {
          "output_type": "execute_result",
          "data": {
            "text/plain": [
              "array([ 4.36995185e-01, -6.22249150e-01,  1.84909880e-01, -7.68018902e-01,\n",
              "       -1.13287646e+00, -2.81728983e-01,  1.15195153e-01, -1.02594999e+00,\n",
              "        4.49520563e-02,  2.65987842e-01, -7.70858992e-02, -2.39869494e-02,\n",
              "        1.30553031e-02,  4.27565002e-01, -1.04980656e-01, -2.67250191e-01,\n",
              "        4.20530305e-01,  7.93654944e-02,  1.15487407e-02,  5.45692240e-01,\n",
              "        3.09444667e-01, -1.54069330e-01,  3.74961750e-01,  6.60795560e-03,\n",
              "       -1.91416910e-01,  1.03778537e-02,  2.64301321e-01,  1.34853581e-01,\n",
              "        5.23723622e-02, -3.38908789e-02,  2.71751667e-01,  2.81528267e-02,\n",
              "        2.13177952e-02, -3.16010521e-02, -1.75515328e-01, -7.83669924e-02,\n",
              "       -1.37855001e-02,  2.38760937e-03,  6.92907228e-02,  2.05323924e-01,\n",
              "        9.06276753e-02,  5.01427861e-02, -7.49174019e-02,  1.02470370e-01,\n",
              "        1.03437462e-01,  7.56715106e-02, -1.36641485e-01,  5.54964333e-02,\n",
              "        1.74190464e-02, -5.63528705e-03,  1.54600159e-02, -5.89591257e-03,\n",
              "       -4.71432727e-03,  9.12410649e-04, -1.13547658e-02, -5.33647929e-03,\n",
              "        1.59773968e-03,  1.38743306e-04,  1.76151890e-04, -3.23812694e-05,\n",
              "       -8.23771824e-04,  6.01371839e-17,  2.47989086e-17,  7.29089074e-18])"
            ]
          },
          "metadata": {},
          "execution_count": 18
        }
      ],
      "source": [
        "digit_pca[2]"
      ]
    },
    {
      "cell_type": "code",
      "execution_count": 19,
      "id": "ef0018af",
      "metadata": {
        "colab": {
          "base_uri": "https://localhost:8080/"
        },
        "id": "ef0018af",
        "outputId": "060d4535-12b1-4a5b-856d-172ad5cc0046"
      },
      "outputs": [
        {
          "output_type": "execute_result",
          "data": {
            "text/plain": [
              "array([0.    , 0.    , 0.    , 0.25  , 0.9375, 0.75  , 0.    , 0.    ,\n",
              "       0.    , 0.    , 0.1875, 1.    , 0.9375, 0.875 , 0.    , 0.    ,\n",
              "       0.    , 0.    , 0.5   , 0.8125, 0.5   , 1.    , 0.    , 0.    ,\n",
              "       0.    , 0.    , 0.0625, 0.375 , 0.9375, 0.6875, 0.    , 0.    ,\n",
              "       0.    , 0.0625, 0.5   , 0.8125, 0.9375, 0.0625, 0.    , 0.    ,\n",
              "       0.    , 0.5625, 1.    , 1.    , 0.3125, 0.    , 0.    , 0.    ,\n",
              "       0.    , 0.1875, 0.8125, 1.    , 1.    , 0.6875, 0.3125, 0.    ,\n",
              "       0.    , 0.    , 0.    , 0.1875, 0.6875, 1.    , 0.5625, 0.    ])"
            ]
          },
          "metadata": {},
          "execution_count": 19
        }
      ],
      "source": [
        "x_transformed[2]"
      ]
    },
    {
      "cell_type": "code",
      "execution_count": 20,
      "id": "8e368686",
      "metadata": {
        "colab": {
          "base_uri": "https://localhost:8080/"
        },
        "id": "8e368686",
        "outputId": "efc1387e-dd35-493d-b9e6-3910c43958b2"
      },
      "outputs": [
        {
          "output_type": "execute_result",
          "data": {
            "text/plain": [
              "array([0.15, 0.14, 0.12, 0.08, 0.06, 0.05, 0.04, 0.04, 0.03, 0.03, 0.02,\n",
              "       0.02, 0.02, 0.02, 0.01, 0.01, 0.01, 0.01, 0.01, 0.01, 0.01, 0.01,\n",
              "       0.01, 0.01, 0.01, 0.01, 0.01, 0.01, 0.  , 0.  , 0.  , 0.  , 0.  ,\n",
              "       0.  , 0.  , 0.  , 0.  , 0.  , 0.  , 0.  , 0.  , 0.  , 0.  , 0.  ,\n",
              "       0.  , 0.  , 0.  , 0.  , 0.  , 0.  , 0.  , 0.  , 0.  , 0.  , 0.  ,\n",
              "       0.  , 0.  , 0.  , 0.  , 0.  , 0.  , 0.  , 0.  , 0.  ])"
            ]
          },
          "metadata": {},
          "execution_count": 20
        }
      ],
      "source": [
        "np.round(pca.explained_variance_ratio_,2)"
      ]
    },
    {
      "cell_type": "code",
      "execution_count": 21,
      "id": "cfd7d740",
      "metadata": {
        "colab": {
          "base_uri": "https://localhost:8080/"
        },
        "id": "cfd7d740",
        "outputId": "7938bcc6-b8e3-47ab-ec6f-a766717b6369"
      },
      "outputs": [
        {
          "output_type": "execute_result",
          "data": {
            "text/plain": [
              "1.0"
            ]
          },
          "metadata": {},
          "execution_count": 21
        }
      ],
      "source": [
        "np.sum(pca.explained_variance_ratio_)"
      ]
    },
    {
      "cell_type": "code",
      "execution_count": 22,
      "id": "122f718f",
      "metadata": {
        "colab": {
          "base_uri": "https://localhost:8080/"
        },
        "id": "122f718f",
        "outputId": "047b916a-1801-45d7-c3d4-57bddb9fa66b"
      },
      "outputs": [
        {
          "output_type": "execute_result",
          "data": {
            "text/plain": [
              "(1797, 15)"
            ]
          },
          "metadata": {},
          "execution_count": 22
        }
      ],
      "source": [
        "pca=PCA(n_components=15)\n",
        "digit_pca=pca.fit_transform(x_transformed)\n",
        "digit_pca.shape"
      ]
    },
    {
      "cell_type": "code",
      "execution_count": 23,
      "id": "7b695ccb",
      "metadata": {
        "colab": {
          "base_uri": "https://localhost:8080/"
        },
        "id": "7b695ccb",
        "outputId": "0e90b677-799b-4d77-dea3-a892f4a3d0db"
      },
      "outputs": [
        {
          "output_type": "execute_result",
          "data": {
            "text/plain": [
              "0.8352995270285871"
            ]
          },
          "metadata": {},
          "execution_count": 23
        }
      ],
      "source": [
        "np.sum(pca.explained_variance_ratio_)"
      ]
    },
    {
      "cell_type": "code",
      "execution_count": 24,
      "id": "e6ce79c4",
      "metadata": {
        "colab": {
          "base_uri": "https://localhost:8080/",
          "height": 334
        },
        "id": "e6ce79c4",
        "outputId": "34c13062-6055-49c4-987e-f09543a325e9"
      },
      "outputs": [
        {
          "output_type": "display_data",
          "data": {
            "text/plain": [
              "<Figure size 1440x360 with 1 Axes>"
            ],
            "image/png": "[encoded data removed]"
          },
          "metadata": {
            "needs_background": "light"
          }
        }
      ],
      "source": [
        "plt.figure(figsize=(20,5))\n",
        "plt.plot(range(1,16),np.cumsum(pca.explained_variance_ratio_))\n",
        "plt.xlabel('PCA components')\n",
        "plt.ylabel('explained variance')\n",
        "plt.show()"
      ]
    },
    {
      "cell_type": "code",
      "execution_count": 24,
      "id": "9f6abf43",
      "metadata": {
        "id": "9f6abf43"
      },
      "outputs": [],
      "source": []
    },
    {
      "cell_type": "markdown",
      "id": "fce6c517",
      "metadata": {
        "id": "fce6c517"
      },
      "source": [
        "# LDA ---- linear discriminant analysis"
      ]
    },
    {
      "cell_type": "code",
      "execution_count": 25,
      "id": "bb1d85c1",
      "metadata": {
        "id": "bb1d85c1"
      },
      "outputs": [],
      "source": [
        "from sklearn.discriminant_analysis import LinearDiscriminantAnalysis\n",
        "lda=LinearDiscriminantAnalysis()"
      ]
    },
    {
      "cell_type": "code",
      "execution_count": 26,
      "id": "0a9b81da",
      "metadata": {
        "colab": {
          "base_uri": "https://localhost:8080/"
        },
        "id": "0a9b81da",
        "outputId": "1a27e44d-039a-49ef-a33d-9cc0d1470ac2"
      },
      "outputs": [
        {
          "output_type": "execute_result",
          "data": {
            "text/plain": [
              "(1797, 64)"
            ]
          },
          "metadata": {},
          "execution_count": 26
        }
      ],
      "source": [
        "x_transformed.shape"
      ]
    },
    {
      "cell_type": "code",
      "execution_count": 27,
      "id": "a4c4520d",
      "metadata": {
        "id": "a4c4520d"
      },
      "outputs": [],
      "source": [
        "y=digit.target"
      ]
    },
    {
      "cell_type": "code",
      "execution_count": 28,
      "id": "549fefb9",
      "metadata": {
        "colab": {
          "base_uri": "https://localhost:8080/"
        },
        "id": "549fefb9",
        "outputId": "2838385c-23e2-4a71-e6d5-149bfe8c72b4"
      },
      "outputs": [
        {
          "output_type": "execute_result",
          "data": {
            "text/plain": [
              "10"
            ]
          },
          "metadata": {},
          "execution_count": 28
        }
      ],
      "source": [
        "len(set(y))"
      ]
    },
    {
      "cell_type": "code",
      "execution_count": 29,
      "id": "2f9075ab",
      "metadata": {
        "colab": {
          "base_uri": "https://localhost:8080/"
        },
        "id": "2f9075ab",
        "outputId": "83bebd51-daea-4b73-958d-8169224205cc"
      },
      "outputs": [
        {
          "output_type": "execute_result",
          "data": {
            "text/plain": [
              "(1797, 9)"
            ]
          },
          "metadata": {},
          "execution_count": 29
        }
      ],
      "source": [
        "lda_components=lda.fit_transform(x_transformed,y)\n",
        "lda_components.shape"
      ]
    },
    {
      "cell_type": "code",
      "execution_count": 30,
      "id": "1cc7e3ca",
      "metadata": {
        "colab": {
          "base_uri": "https://localhost:8080/"
        },
        "id": "1cc7e3ca",
        "outputId": "a4af6c42-1594-48b1-eef2-f2b85aa61be5"
      },
      "outputs": [
        {
          "output_type": "execute_result",
          "data": {
            "text/plain": [
              "array([0.28912041, 0.18262788, 0.16962345, 0.1167055 , 0.08301253,\n",
              "       0.06565685, 0.04310127, 0.0293257 , 0.0208264 ])"
            ]
          },
          "metadata": {},
          "execution_count": 30
        }
      ],
      "source": [
        "lda.explained_variance_ratio_"
      ]
    },
    {
      "cell_type": "code",
      "execution_count": 31,
      "id": "8e23ebbe",
      "metadata": {
        "colab": {
          "base_uri": "https://localhost:8080/"
        },
        "id": "8e23ebbe",
        "outputId": "218a421d-6a9b-43bf-f451-15dfc2bbd25d"
      },
      "outputs": [
        {
          "output_type": "execute_result",
          "data": {
            "text/plain": [
              "1.0"
            ]
          },
          "metadata": {},
          "execution_count": 31
        }
      ],
      "source": [
        "np.sum(lda.explained_variance_ratio_)"
      ]
    },
    {
      "cell_type": "code",
      "execution_count": 31,
      "id": "7c84f778",
      "metadata": {
        "id": "7c84f778"
      },
      "outputs": [],
      "source": []
    },
    {
      "cell_type": "code",
      "execution_count": 31,
      "id": "35626623",
      "metadata": {
        "id": "35626623"
      },
      "outputs": [],
      "source": []
    }
  ],
  "metadata": {
    "kernelspec": {
      "display_name": "Python 3 (ipykernel)",
      "language": "python",
      "name": "python3"
    },
    "language_info": {
      "codemirror_mode": {
        "name": "ipython",
        "version": 3
      },
      "file_extension": ".py",
      "mimetype": "text/x-python",
      "name": "python",
      "nbconvert_exporter": "python",
      "pygments_lexer": "ipython3",
      "version": "3.9.12"
    },
    "colab": {
      "provenance": [],
      "include_colab_link": true
    }
  },
  "nbformat": 4,
  "nbformat_minor": 5
}