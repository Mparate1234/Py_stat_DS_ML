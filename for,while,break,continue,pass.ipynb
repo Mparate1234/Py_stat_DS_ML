{
  "cells": [
    {
      "cell_type": "markdown",
      "metadata": {
        "id": "view-in-github",
        "colab_type": "text"
      },
      "source": [
        "<a href=\"https://colab.research.google.com/github/Mparate1234/Py_stat_DS_ML/blob/main/for%2Cwhile%2Cbreak%2Ccontinue%2Cpass.ipynb\" target=\"_parent\"><img src=\"https://colab.research.google.com/assets/colab-badge.svg\" alt=\"Open In Colab\"/></a>"
      ]
    },
    {
      "cell_type": "markdown",
      "id": "678572e1",
      "metadata": {
        "id": "678572e1"
      },
      "source": [
        " #                                        4 june "
      ]
    },
    {
      "cell_type": "code",
      "execution_count": 1,
      "id": "e631a95b",
      "metadata": {
        "id": "e631a95b"
      },
      "outputs": [],
      "source": [
        "## for loop "
      ]
    },
    {
      "cell_type": "code",
      "execution_count": 2,
      "id": "df561827",
      "metadata": {
        "colab": {
          "base_uri": "https://localhost:8080/"
        },
        "id": "df561827",
        "outputId": "4a73489a-1969-4c4f-8d56-db99c4e33807"
      },
      "outputs": [
        {
          "output_type": "stream",
          "name": "stdout",
          "text": [
            "2\n",
            "4\n",
            "6\n",
            "8\n",
            "10\n",
            "12\n",
            "14\n",
            "16\n",
            "18\n",
            "20\n"
          ]
        }
      ],
      "source": [
        "ls=[1,2,3,4,5,6,7,8,9,10]\n",
        "for i in ls:        \n",
        "    print(i*2)"
      ]
    },
    {
      "cell_type": "code",
      "execution_count": 3,
      "id": "5dbefc31",
      "metadata": {
        "colab": {
          "base_uri": "https://localhost:8080/"
        },
        "id": "5dbefc31",
        "outputId": "da404a0a-a3b8-44e1-eaf6-a4abd24f318d"
      },
      "outputs": [
        {
          "output_type": "stream",
          "name": "stdout",
          "text": [
            "9\n",
            "18\n",
            "27\n",
            "36\n",
            "45\n",
            "54\n",
            "63\n",
            "72\n",
            "81\n",
            "90\n"
          ]
        }
      ],
      "source": [
        "# tables of 2\n",
        "\n",
        "ls=[1,2,3,4,5,6,7,8,9,10]\n",
        "for i in ls:\n",
        "    print(i*9)"
      ]
    },
    {
      "cell_type": "code",
      "execution_count": 4,
      "id": "3469419c",
      "metadata": {
        "colab": {
          "base_uri": "https://localhost:8080/"
        },
        "id": "3469419c",
        "outputId": "0b769d15-e273-4234-f7f2-78cf0fc2b482"
      },
      "outputs": [
        {
          "output_type": "stream",
          "name": "stdout",
          "text": [
            "9 X 1 = 9\n",
            "9 X 2 = 18\n",
            "9 X 3 = 27\n",
            "9 X 4 = 36\n",
            "9 X 5 = 45\n",
            "9 X 6 = 54\n",
            "9 X 7 = 63\n",
            "9 X 8 = 72\n",
            "9 X 9 = 81\n"
          ]
        }
      ],
      "source": [
        "## tabel of 9\n",
        "n=9\n",
        "for i in range(1,10):\n",
        "    print(n,\"X\",i,\"=\",i*n)"
      ]
    },
    {
      "cell_type": "code",
      "execution_count": 5,
      "id": "1f9a8067",
      "metadata": {
        "colab": {
          "base_uri": "https://localhost:8080/"
        },
        "id": "1f9a8067",
        "outputId": "78c7c7c1-20d9-4768-cd06-baeacb6ae044"
      },
      "outputs": [
        {
          "output_type": "stream",
          "name": "stdout",
          "text": [
            "2\n",
            "4\n",
            "6\n",
            "8\n",
            "10\n"
          ]
        }
      ],
      "source": [
        "ls=[1,2,3,4,5,6,7,8,9,10]\n",
        "\n",
        "for i in ls:\n",
        "    if i%2 ==0:                           # finding even nos from list\n",
        "        print(i)\n",
        "    \n"
      ]
    },
    {
      "cell_type": "code",
      "execution_count": 5,
      "id": "4331b52f",
      "metadata": {
        "id": "4331b52f"
      },
      "outputs": [],
      "source": []
    },
    {
      "cell_type": "code",
      "execution_count": 6,
      "id": "0e176d45",
      "metadata": {
        "colab": {
          "base_uri": "https://localhost:8080/"
        },
        "id": "0e176d45",
        "outputId": "0568e159-4c2f-415e-90e6-622876e437a1"
      },
      "outputs": [
        {
          "output_type": "stream",
          "name": "stdout",
          "text": [
            "0\n",
            "1\n",
            "2\n",
            "3\n",
            "4\n",
            "5\n",
            "6\n",
            "7\n",
            "8\n",
            "9\n",
            "10\n",
            "11\n",
            "12\n",
            "13\n",
            "14\n"
          ]
        }
      ],
      "source": [
        "#### while loop\n",
        "\n",
        "a=0\n",
        "while a<15:\n",
        "    print(a)\n",
        "    a+=1"
      ]
    },
    {
      "cell_type": "code",
      "execution_count": 6,
      "id": "a44ac384",
      "metadata": {
        "id": "a44ac384"
      },
      "outputs": [],
      "source": []
    },
    {
      "cell_type": "code",
      "execution_count": 6,
      "id": "6011dbcf",
      "metadata": {
        "id": "6011dbcf"
      },
      "outputs": [],
      "source": []
    },
    {
      "cell_type": "code",
      "execution_count": 6,
      "id": "190bea83",
      "metadata": {
        "id": "190bea83"
      },
      "outputs": [],
      "source": []
    },
    {
      "cell_type": "code",
      "execution_count": 7,
      "id": "8b9499a9",
      "metadata": {
        "id": "8b9499a9"
      },
      "outputs": [],
      "source": [
        "## control statements : break , continue, pass"
      ]
    },
    {
      "cell_type": "code",
      "execution_count": 8,
      "id": "9722d3eb",
      "metadata": {
        "colab": {
          "base_uri": "https://localhost:8080/"
        },
        "id": "9722d3eb",
        "outputId": "1690c41d-be3e-4489-efe6-13fed46916bc"
      },
      "outputs": [
        {
          "output_type": "stream",
          "name": "stdout",
          "text": [
            "1\n",
            "2\n",
            "3\n",
            "4\n",
            "5\n",
            "reached till 5\n"
          ]
        }
      ],
      "source": [
        "# break = interupt the execution and come out of the loop\n",
        "\n",
        "ls=[1,2,3,4,5,6,7,8,9]\n",
        "for i in ls:\n",
        "    print(i)\n",
        "    if i==5:\n",
        "        print('reached till 5')\n",
        "        break\n",
        "        "
      ]
    },
    {
      "cell_type": "code",
      "execution_count": 9,
      "id": "3171d769",
      "metadata": {
        "colab": {
          "base_uri": "https://localhost:8080/"
        },
        "id": "3171d769",
        "outputId": "2a69620f-b427-49a5-e61c-c7d6a686f5d2"
      },
      "outputs": [
        {
          "output_type": "stream",
          "name": "stdout",
          "text": [
            "1\n",
            "3\n",
            "5\n",
            "7\n",
            "9\n",
            "11\n",
            "12\n"
          ]
        }
      ],
      "source": [
        "ls=[1,3,5,7,9,11,12,13,15,17,19]\n",
        "for i in ls:\n",
        "    print(i)\n",
        "    if i%2==0:\n",
        "        break\n",
        "        "
      ]
    },
    {
      "cell_type": "code",
      "execution_count": 9,
      "id": "6e5a3b62",
      "metadata": {
        "id": "6e5a3b62"
      },
      "outputs": [],
      "source": []
    },
    {
      "cell_type": "code",
      "execution_count": 9,
      "id": "d2a6b87e",
      "metadata": {
        "id": "d2a6b87e"
      },
      "outputs": [],
      "source": []
    },
    {
      "cell_type": "code",
      "execution_count": 10,
      "id": "e52e39ba",
      "metadata": {
        "colab": {
          "base_uri": "https://localhost:8080/"
        },
        "id": "e52e39ba",
        "outputId": "c914d046-4bfd-4298-f231-30b56af9cfdf"
      },
      "outputs": [
        {
          "output_type": "stream",
          "name": "stdout",
          "text": [
            "1\n",
            "2\n",
            "3\n",
            "5\n",
            "6\n",
            "7\n",
            "8\n",
            "9\n",
            "10\n"
          ]
        }
      ],
      "source": [
        "## continue  :stop the current iteration of the loop and continue with the next iteration\n",
        "a=0\n",
        "while a<10:\n",
        "    a+=1\n",
        "    if a==4:\n",
        "        continue\n",
        "    print(a)"
      ]
    },
    {
      "cell_type": "code",
      "execution_count": 11,
      "id": "1a85ab5d",
      "metadata": {
        "colab": {
          "base_uri": "https://localhost:8080/"
        },
        "id": "1a85ab5d",
        "outputId": "924a47af-b89b-4c60-9fd6-f3a34c14b658"
      },
      "outputs": [
        {
          "output_type": "stream",
          "name": "stdout",
          "text": [
            "1\n",
            "3\n",
            "5\n",
            "7\n",
            "9\n",
            "11\n",
            "12\n",
            "12\n",
            "13\n",
            "15\n",
            "17\n",
            "19\n"
          ]
        }
      ],
      "source": [
        "  \n",
        "\n",
        "ls=[1,3,5,7,9,11,12,13,15,17,19]\n",
        "for i in ls:\n",
        "    print(i)\n",
        "    if i%2==0:\n",
        "        print(i)\n",
        "        continue\n",
        "        print(\"21\")"
      ]
    },
    {
      "cell_type": "code",
      "execution_count": 11,
      "id": "db2f9786",
      "metadata": {
        "id": "db2f9786"
      },
      "outputs": [],
      "source": []
    },
    {
      "cell_type": "code",
      "execution_count": 12,
      "id": "82ca38ec",
      "metadata": {
        "colab": {
          "base_uri": "https://localhost:8080/"
        },
        "id": "82ca38ec",
        "outputId": "284e9f98-c69d-4e66-b523-a99c71e0453a"
      },
      "outputs": [
        {
          "output_type": "stream",
          "name": "stdout",
          "text": [
            "2\n",
            "4\n",
            "6\n",
            "8\n",
            "12\n",
            "14\n",
            "16\n",
            "18\n",
            "20\n"
          ]
        }
      ],
      "source": [
        "ls=[1,2,3,4,5,6,7,8,9,10]\n",
        "for i in ls:  \n",
        "    if i*2==10:                            # print 2 table without printing 10\n",
        "        continue\n",
        "    print(i*2)\n",
        "    \n",
        "        "
      ]
    },
    {
      "cell_type": "code",
      "execution_count": 12,
      "id": "8affb1fe",
      "metadata": {
        "id": "8affb1fe"
      },
      "outputs": [],
      "source": []
    },
    {
      "cell_type": "code",
      "execution_count": 13,
      "id": "8cc12ac3",
      "metadata": {
        "id": "8cc12ac3"
      },
      "outputs": [],
      "source": [
        "# pass    : it just let the  iterator to paa\n",
        "\n",
        "ls=[1,2,3,4,5,6,7]\n",
        "\n",
        "for i in ls:                  ## if condition in ot defined \n",
        "    pass\n",
        "\n",
        "    "
      ]
    },
    {
      "cell_type": "code",
      "execution_count": 14,
      "id": "fd2f79dc",
      "metadata": {
        "colab": {
          "base_uri": "https://localhost:8080/"
        },
        "id": "fd2f79dc",
        "outputId": "4faf8ef2-5704-4db3-a54b-ebf930b0fc7d"
      },
      "outputs": [
        {
          "output_type": "stream",
          "name": "stdout",
          "text": [
            "1\n",
            "2\n",
            "3\n",
            " this is a passed block\n",
            "4\n",
            "5\n",
            "6\n",
            "7\n"
          ]
        }
      ],
      "source": [
        "ls=[1,2,3,4,5,6,7]\n",
        "for i in ls:\n",
        "    if i==4:                                  \n",
        "        pass\n",
        "        print(' this is a passed block')\n",
        "    print(i)"
      ]
    },
    {
      "cell_type": "code",
      "execution_count": 14,
      "id": "22209970",
      "metadata": {
        "id": "22209970"
      },
      "outputs": [],
      "source": []
    },
    {
      "cell_type": "code",
      "execution_count": 15,
      "id": "de3482ce",
      "metadata": {
        "id": "de3482ce"
      },
      "outputs": [],
      "source": [
        "## functions: are set of reusable codes\n",
        "\n",
        "## function to print a welcome message\n",
        "\n",
        "def welcome():                                       # this is how functions created\n",
        "    \n",
        "    print('hi,welcome to the pyyhon session!!')\n",
        "\n"
      ]
    },
    {
      "cell_type": "code",
      "execution_count": 16,
      "id": "e987a2ed",
      "metadata": {
        "colab": {
          "base_uri": "https://localhost:8080/"
        },
        "id": "e987a2ed",
        "outputId": "7978334a-d5f9-4447-a7b6-6765b71a0ff4"
      },
      "outputs": [
        {
          "output_type": "stream",
          "name": "stdout",
          "text": [
            "hi,welcome to the pyyhon session!!\n"
          ]
        }
      ],
      "source": [
        "welcome()                                 # and whenever we type 'welcome' it will print below sentence"
      ]
    },
    {
      "cell_type": "code",
      "execution_count": 16,
      "id": "dd55acf8",
      "metadata": {
        "id": "dd55acf8"
      },
      "outputs": [],
      "source": []
    },
    {
      "cell_type": "code",
      "execution_count": 17,
      "id": "974a7bca",
      "metadata": {
        "id": "974a7bca"
      },
      "outputs": [],
      "source": [
        "## function to create the table of given no\n",
        "\n",
        "##def function\n",
        "def table(a):\n",
        "    i=1\n",
        "    while i<=10:\n",
        "        print(i*a)\n",
        "        i+=1"
      ]
    },
    {
      "cell_type": "code",
      "execution_count": 18,
      "id": "70155963",
      "metadata": {
        "colab": {
          "base_uri": "https://localhost:8080/"
        },
        "id": "70155963",
        "outputId": "616d849e-fc3c-415a-c578-db66e0383f76"
      },
      "outputs": [
        {
          "output_type": "stream",
          "name": "stdout",
          "text": [
            "9\n",
            "18\n",
            "27\n",
            "36\n",
            "45\n",
            "54\n",
            "63\n",
            "72\n",
            "81\n",
            "90\n"
          ]
        }
      ],
      "source": [
        "table(9)"
      ]
    },
    {
      "cell_type": "code",
      "execution_count": 18,
      "id": "03842131",
      "metadata": {
        "id": "03842131"
      },
      "outputs": [],
      "source": []
    },
    {
      "cell_type": "code",
      "execution_count": 19,
      "id": "5ff02b5a",
      "metadata": {
        "id": "5ff02b5a"
      },
      "outputs": [],
      "source": [
        "## add no\n",
        "\n",
        "def add(a,b):\n",
        "    print(a+b)"
      ]
    },
    {
      "cell_type": "code",
      "execution_count": 20,
      "id": "c15bd551",
      "metadata": {
        "colab": {
          "base_uri": "https://localhost:8080/"
        },
        "id": "c15bd551",
        "outputId": "139de98d-7512-4f8e-a1da-e3d94a56d923"
      },
      "outputs": [
        {
          "output_type": "stream",
          "name": "stdout",
          "text": [
            "3\n"
          ]
        }
      ],
      "source": [
        "add(1,2)"
      ]
    },
    {
      "cell_type": "code",
      "execution_count": 21,
      "id": "502f31c1",
      "metadata": {
        "colab": {
          "base_uri": "https://localhost:8080/"
        },
        "id": "502f31c1",
        "outputId": "06ec5b5a-7f7a-4c09-987b-e54869764bba"
      },
      "outputs": [
        {
          "output_type": "stream",
          "name": "stdout",
          "text": [
            "10\n",
            "range(0, 10)\n",
            "[0, 1, 2, 3, 4, 5, 6, 7, 8, 9, 10, 11, 12, 13, 14, 15, 16, 17, 18, 19]\n",
            "[0, 2, 4, 6, 8, 10, 12, 14, 16, 18]\n"
          ]
        }
      ],
      "source": [
        "## range function \n",
        "a=range(0,10)\n",
        "print(len(a))\n",
        "print(a)\n",
        "\n",
        "print(list(range(0,20)))\n",
        "print(list(range(0,20,2)))     # range(start,end,step)"
      ]
    },
    {
      "cell_type": "code",
      "execution_count": 21,
      "id": "acec083b",
      "metadata": {
        "id": "acec083b"
      },
      "outputs": [],
      "source": []
    },
    {
      "cell_type": "code",
      "execution_count": 22,
      "id": "9660ea5c",
      "metadata": {
        "colab": {
          "base_uri": "https://localhost:8080/"
        },
        "id": "9660ea5c",
        "outputId": "4cfe65b5-70ec-461c-efb5-7372437dca93"
      },
      "outputs": [
        {
          "output_type": "stream",
          "name": "stdout",
          "text": [
            "15\n"
          ]
        }
      ],
      "source": [
        "## lambda function                   ## mostly used to creat function under function\n",
        "#  lambda arguments:expresion\n",
        "x =lambda  a       :a+12\n",
        "print(x(3)) \n"
      ]
    },
    {
      "cell_type": "code",
      "execution_count": 22,
      "id": "6522f2b0",
      "metadata": {
        "id": "6522f2b0"
      },
      "outputs": [],
      "source": []
    },
    {
      "cell_type": "code",
      "execution_count": 23,
      "id": "b68568ca",
      "metadata": {
        "colab": {
          "base_uri": "https://localhost:8080/"
        },
        "id": "b68568ca",
        "outputId": "4da01642-0d02-4c98-ea9c-72d1478e840a"
      },
      "outputs": [
        {
          "output_type": "stream",
          "name": "stdout",
          "text": [
            "10\n"
          ]
        }
      ],
      "source": [
        "p=lambda a,b,c,d :a+b+c+d\n",
        "print(p(1,2,3,4))"
      ]
    },
    {
      "cell_type": "code",
      "execution_count": 23,
      "id": "98269b99",
      "metadata": {
        "id": "98269b99"
      },
      "outputs": [],
      "source": []
    },
    {
      "cell_type": "code",
      "execution_count": 24,
      "id": "4494452d",
      "metadata": {
        "colab": {
          "base_uri": "https://localhost:8080/"
        },
        "id": "4494452d",
        "outputId": "946761b0-91cf-4038-80da-8d4ddabcedbe"
      },
      "outputs": [
        {
          "output_type": "stream",
          "name": "stdout",
          "text": [
            "-17\n"
          ]
        }
      ],
      "source": [
        "x=(5+4-8*6-8+86-56)\n",
        "print(eval('x'))                           # eval-- evaluate"
      ]
    },
    {
      "cell_type": "code",
      "execution_count": 24,
      "id": "b17d911a",
      "metadata": {
        "id": "b17d911a"
      },
      "outputs": [],
      "source": []
    },
    {
      "cell_type": "code",
      "execution_count": 24,
      "id": "82fbbd35",
      "metadata": {
        "id": "82fbbd35"
      },
      "outputs": [],
      "source": []
    },
    {
      "cell_type": "code",
      "execution_count": 24,
      "id": "d9e857bd",
      "metadata": {
        "id": "d9e857bd"
      },
      "outputs": [],
      "source": []
    },
    {
      "cell_type": "code",
      "execution_count": 24,
      "id": "62657da9",
      "metadata": {
        "id": "62657da9"
      },
      "outputs": [],
      "source": []
    },
    {
      "cell_type": "code",
      "execution_count": 24,
      "id": "2bd69f51",
      "metadata": {
        "id": "2bd69f51"
      },
      "outputs": [],
      "source": []
    },
    {
      "cell_type": "code",
      "execution_count": 24,
      "id": "660f877a",
      "metadata": {
        "id": "660f877a"
      },
      "outputs": [],
      "source": []
    }
  ],
  "metadata": {
    "kernelspec": {
      "display_name": "Python 3 (ipykernel)",
      "language": "python",
      "name": "python3"
    },
    "language_info": {
      "codemirror_mode": {
        "name": "ipython",
        "version": 3
      },
      "file_extension": ".py",
      "mimetype": "text/x-python",
      "name": "python",
      "nbconvert_exporter": "python",
      "pygments_lexer": "ipython3",
      "version": "3.9.12"
    },
    "colab": {
      "provenance": [],
      "include_colab_link": true
    }
  },
  "nbformat": 4,
  "nbformat_minor": 5
}