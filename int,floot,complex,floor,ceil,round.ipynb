{
  "cells": [
    {
      "cell_type": "markdown",
      "metadata": {
        "id": "view-in-github",
        "colab_type": "text"
      },
      "source": [
        "<a href=\"https://colab.research.google.com/github/Mparate1234/Py_stat_DS_ML/blob/main/int%2Cfloot%2Ccomplex%2Cfloor%2Cceil%2Cround.ipynb\" target=\"_parent\"><img src=\"https://colab.research.google.com/assets/colab-badge.svg\" alt=\"Open In Colab\"/></a>"
      ]
    },
    {
      "cell_type": "code",
      "execution_count": null,
      "id": "c9f55113",
      "metadata": {
        "id": "c9f55113",
        "outputId": "20fa423b-bc12-44a3-f4c5-ae695313a7f0"
      },
      "outputs": [
        {
          "data": {
            "text/plain": [
              "33.333333333333336"
            ]
          },
          "execution_count": 1,
          "metadata": {},
          "output_type": "execute_result"
        }
      ],
      "source": [
        "100/3 "
      ]
    },
    {
      "cell_type": "code",
      "execution_count": null,
      "id": "fe00278b",
      "metadata": {
        "id": "fe00278b",
        "outputId": "48803f03-5739-42f8-aa55-64d27d09fdf4"
      },
      "outputs": [
        {
          "data": {
            "text/plain": [
              "33"
            ]
          },
          "execution_count": 2,
          "metadata": {},
          "output_type": "execute_result"
        }
      ],
      "source": [
        "100//3"
      ]
    },
    {
      "cell_type": "code",
      "execution_count": null,
      "id": "5d2a4a23",
      "metadata": {
        "id": "5d2a4a23",
        "outputId": "dafa3186-ac13-4cfa-a2ba-cf63498b0d10"
      },
      "outputs": [
        {
          "data": {
            "text/plain": [
              "-34"
            ]
          },
          "execution_count": 3,
          "metadata": {},
          "output_type": "execute_result"
        }
      ],
      "source": [
        "100//-3"
      ]
    },
    {
      "cell_type": "code",
      "execution_count": null,
      "id": "347d35fe",
      "metadata": {
        "id": "347d35fe",
        "outputId": "4105a607-a57a-4cd9-cecb-3263474d4519"
      },
      "outputs": [
        {
          "name": "stdout",
          "output_type": "stream",
          "text": [
            "1.6666666666666667\n",
            "<class 'float'>\n"
          ]
        }
      ],
      "source": [
        "a=5/3\n",
        "print(a)\n",
        "print(type(a))"
      ]
    },
    {
      "cell_type": "code",
      "execution_count": null,
      "id": "8d18d06d",
      "metadata": {
        "id": "8d18d06d",
        "outputId": "3c6dcad2-b38c-4c54-a97b-57a24043368f"
      },
      "outputs": [
        {
          "data": {
            "text/plain": [
              "int"
            ]
          },
          "execution_count": 5,
          "metadata": {},
          "output_type": "execute_result"
        }
      ],
      "source": [
        "type(100//-3)"
      ]
    },
    {
      "cell_type": "code",
      "execution_count": null,
      "id": "9824e5b8",
      "metadata": {
        "id": "9824e5b8",
        "outputId": "0a5de7b6-f298-49b0-ac55-7ed88eaf9701"
      },
      "outputs": [
        {
          "name": "stdout",
          "output_type": "stream",
          "text": [
            "<class 'complex'>\n",
            "3.0\n",
            "5.0\n"
          ]
        }
      ],
      "source": [
        "##  complex\n",
        "\n",
        "x=3+5j\n",
        "print(type(x))\n",
        "print(x.real)\n",
        "print(x.imag)"
      ]
    },
    {
      "cell_type": "code",
      "execution_count": null,
      "id": "1e70fd37",
      "metadata": {
        "id": "1e70fd37"
      },
      "outputs": [],
      "source": [
        "## floor and ceiling \n",
        " "
      ]
    },
    {
      "cell_type": "code",
      "execution_count": null,
      "id": "f3524675",
      "metadata": {
        "id": "f3524675",
        "outputId": "69130ee9-11df-429b-985f-0e390672a389"
      },
      "outputs": [
        {
          "data": {
            "text/plain": [
              "3"
            ]
          },
          "execution_count": 8,
          "metadata": {},
          "output_type": "execute_result"
        }
      ],
      "source": [
        "# floor : smallest integer \n",
        "\n",
        "import math\n",
        "math.floor(3.666)"
      ]
    },
    {
      "cell_type": "code",
      "execution_count": null,
      "id": "94b2843e",
      "metadata": {
        "id": "94b2843e",
        "outputId": "793c8d68-aecc-47ca-f055-6e01ca9aaf55"
      },
      "outputs": [
        {
          "data": {
            "text/plain": [
              "4"
            ]
          },
          "execution_count": 9,
          "metadata": {},
          "output_type": "execute_result"
        }
      ],
      "source": [
        "#ceiling: largest integer\n",
        "math.ceil(3.6666666)"
      ]
    },
    {
      "cell_type": "code",
      "execution_count": null,
      "id": "05d3a1bc",
      "metadata": {
        "id": "05d3a1bc",
        "outputId": "2dca1b3d-9ab8-4dac-a3a3-ffc728175bb8"
      },
      "outputs": [
        {
          "data": {
            "text/plain": [
              "4"
            ]
          },
          "execution_count": 10,
          "metadata": {},
          "output_type": "execute_result"
        }
      ],
      "source": [
        "round(3.666666)   #greater than 3.5 so = 4"
      ]
    },
    {
      "cell_type": "code",
      "execution_count": null,
      "id": "04a2a68a",
      "metadata": {
        "id": "04a2a68a",
        "outputId": "8507a747-5172-4faa-d060-3ad6f42b9641"
      },
      "outputs": [
        {
          "data": {
            "text/plain": [
              "3"
            ]
          },
          "execution_count": 11,
          "metadata": {},
          "output_type": "execute_result"
        }
      ],
      "source": [
        "round(3.2222222)     #less than 3.5 so=3"
      ]
    },
    {
      "cell_type": "code",
      "execution_count": null,
      "id": "ff98b412",
      "metadata": {
        "id": "ff98b412",
        "outputId": "26b66434-6281-4d70-f8de-a7563975add6"
      },
      "outputs": [
        {
          "data": {
            "text/plain": [
              "3.667"
            ]
          },
          "execution_count": 12,
          "metadata": {},
          "output_type": "execute_result"
        }
      ],
      "source": [
        "round(3.666666,3)   #greater than 3.5 so =4       (      ,3)- will give till 3 digits"
      ]
    },
    {
      "cell_type": "code",
      "execution_count": null,
      "id": "8d5ecf23",
      "metadata": {
        "id": "8d5ecf23"
      },
      "outputs": [],
      "source": []
    },
    {
      "cell_type": "code",
      "execution_count": null,
      "id": "503cf63d",
      "metadata": {
        "id": "503cf63d"
      },
      "outputs": [],
      "source": []
    }
  ],
  "metadata": {
    "kernelspec": {
      "display_name": "Python 3 (ipykernel)",
      "language": "python",
      "name": "python3"
    },
    "language_info": {
      "codemirror_mode": {
        "name": "ipython",
        "version": 3
      },
      "file_extension": ".py",
      "mimetype": "text/x-python",
      "name": "python",
      "nbconvert_exporter": "python",
      "pygments_lexer": "ipython3",
      "version": "3.9.12"
    },
    "colab": {
      "provenance": [],
      "include_colab_link": true
    }
  },
  "nbformat": 4,
  "nbformat_minor": 5
}