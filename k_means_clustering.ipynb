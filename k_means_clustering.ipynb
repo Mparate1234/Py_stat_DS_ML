{
  "cells": [
    {
      "cell_type": "markdown",
      "metadata": {
        "id": "view-in-github",
        "colab_type": "text"
      },
      "source": [
        "<a href=\"https://colab.research.google.com/github/Mparate1234/Py_stat_DS_ML/blob/main/k_means_clustering.ipynb\" target=\"_parent\"><img src=\"https://colab.research.google.com/assets/colab-badge.svg\" alt=\"Open In Colab\"/></a>"
      ]
    },
    {
      "cell_type": "markdown",
      "id": "08e5088f",
      "metadata": {
        "id": "08e5088f"
      },
      "source": [
        " "
      ]
    },
    {
      "cell_type": "markdown",
      "id": "5970a74d",
      "metadata": {
        "id": "5970a74d"
      },
      "source": [
        "# Clustering"
      ]
    },
    {
      "cell_type": "markdown",
      "id": "50de8625",
      "metadata": {
        "id": "50de8625"
      },
      "source": [
        "# k-means clustering    ---------------------------- scratch approach\n",
        "will never use this method"
      ]
    },
    {
      "cell_type": "code",
      "execution_count": 1,
      "id": "6b8a73d0",
      "metadata": {
        "id": "6b8a73d0"
      },
      "outputs": [],
      "source": [
        "import pandas as pd\n",
        "import numpy as np\n",
        "import matplotlib.pyplot as plt"
      ]
    },
    {
      "cell_type": "code",
      "execution_count": 2,
      "id": "91e2c306",
      "metadata": {
        "id": "91e2c306"
      },
      "outputs": [],
      "source": [
        "#    standara preperation for graph\n",
        "plt.rcParams[\"font.size\"]=14\n",
        "plt.rcParams[\"lines.markersize\"]=7\n",
        "plt.rcParams[\"axes.grid\"]=True\n",
        "plt.rcParams[\"axes.labelsize\"]=16\n",
        "plt.rcParams[\"figure.figsize\"]=(5,5)"
      ]
    },
    {
      "cell_type": "code",
      "execution_count": 3,
      "id": "b4f57211",
      "metadata": {
        "colab": {
          "base_uri": "https://localhost:8080/",
          "height": 206
        },
        "id": "b4f57211",
        "outputId": "d63f3407-ae0e-4503-f54a-e266377129c0"
      },
      "outputs": [
        {
          "output_type": "execute_result",
          "data": {
            "text/plain": [
              "   Num_flights  Avg_fare\n",
              "0           12        39\n",
              "1           20        36\n",
              "2           28        30\n",
              "3           18        52\n",
              "4           29        54"
            ],
            "text/html": [
              "\n",
              "  <div id=\"df-ced2e37f-5da0-49a1-bd01-f3346deb6d66\">\n",
              "    <div class=\"colab-df-container\">\n",
              "      <div>\n",
              "<style scoped>\n",
              "    .dataframe tbody tr th:only-of-type {\n",
              "        vertical-align: middle;\n",
              "    }\n",
              "\n",
              "    .dataframe tbody tr th {\n",
              "        vertical-align: top;\n",
              "    }\n",
              "\n",
              "    .dataframe thead th {\n",
              "        text-align: right;\n",
              "    }\n",
              "</style>\n",
              "<table border=\"1\" class=\"dataframe\">\n",
              "  <thead>\n",
              "    <tr style=\"text-align: right;\">\n",
              "      <th></th>\n",
              "      <th>Num_flights</th>\n",
              "      <th>Avg_fare</th>\n",
              "    </tr>\n",
              "  </thead>\n",
              "  <tbody>\n",
              "    <tr>\n",
              "      <th>0</th>\n",
              "      <td>12</td>\n",
              "      <td>39</td>\n",
              "    </tr>\n",
              "    <tr>\n",
              "      <th>1</th>\n",
              "      <td>20</td>\n",
              "      <td>36</td>\n",
              "    </tr>\n",
              "    <tr>\n",
              "      <th>2</th>\n",
              "      <td>28</td>\n",
              "      <td>30</td>\n",
              "    </tr>\n",
              "    <tr>\n",
              "      <th>3</th>\n",
              "      <td>18</td>\n",
              "      <td>52</td>\n",
              "    </tr>\n",
              "    <tr>\n",
              "      <th>4</th>\n",
              "      <td>29</td>\n",
              "      <td>54</td>\n",
              "    </tr>\n",
              "  </tbody>\n",
              "</table>\n",
              "</div>\n",
              "      <button class=\"colab-df-convert\" onclick=\"convertToInteractive('df-ced2e37f-5da0-49a1-bd01-f3346deb6d66')\"\n",
              "              title=\"Convert this dataframe to an interactive table.\"\n",
              "              style=\"display:none;\">\n",
              "        \n",
              "  <svg xmlns=\"http://www.w3.org/2000/svg\" height=\"24px\"viewBox=\"0 0 24 24\"\n",
              "       width=\"24px\">\n",
              "    <path d=\"M0 0h24v24H0V0z\" fill=\"none\"/>\n",
              "    <path d=\"M18.56 5.44l.94 2.06.94-2.06 2.06-.94-2.06-.94-.94-2.06-.94 2.06-2.06.94zm-11 1L8.5 8.5l.94-2.06 2.06-.94-2.06-.94L8.5 2.5l-.94 2.06-2.06.94zm10 10l.94 2.06.94-2.06 2.06-.94-2.06-.94-.94-2.06-.94 2.06-2.06.94z\"/><path d=\"M17.41 7.96l-1.37-1.37c-.4-.4-.92-.59-1.43-.59-.52 0-1.04.2-1.43.59L10.3 9.45l-7.72 7.72c-.78.78-.78 2.05 0 2.83L4 21.41c.39.39.9.59 1.41.59.51 0 1.02-.2 1.41-.59l7.78-7.78 2.81-2.81c.8-.78.8-2.07 0-2.86zM5.41 20L4 18.59l7.72-7.72 1.47 1.35L5.41 20z\"/>\n",
              "  </svg>\n",
              "      </button>\n",
              "      \n",
              "  <style>\n",
              "    .colab-df-container {\n",
              "      display:flex;\n",
              "      flex-wrap:wrap;\n",
              "      gap: 12px;\n",
              "    }\n",
              "\n",
              "    .colab-df-convert {\n",
              "      background-color: #E8F0FE;\n",
              "      border: none;\n",
              "      border-radius: 50%;\n",
              "      cursor: pointer;\n",
              "      display: none;\n",
              "      fill: #1967D2;\n",
              "      height: 32px;\n",
              "      padding: 0 0 0 0;\n",
              "      width: 32px;\n",
              "    }\n",
              "\n",
              "    .colab-df-convert:hover {\n",
              "      background-color: #E2EBFA;\n",
              "      box-shadow: 0px 1px 2px rgba(60, 64, 67, 0.3), 0px 1px 3px 1px rgba(60, 64, 67, 0.15);\n",
              "      fill: #174EA6;\n",
              "    }\n",
              "\n",
              "    [theme=dark] .colab-df-convert {\n",
              "      background-color: #3B4455;\n",
              "      fill: #D2E3FC;\n",
              "    }\n",
              "\n",
              "    [theme=dark] .colab-df-convert:hover {\n",
              "      background-color: #434B5C;\n",
              "      box-shadow: 0px 1px 3px 1px rgba(0, 0, 0, 0.15);\n",
              "      filter: drop-shadow(0px 1px 2px rgba(0, 0, 0, 0.3));\n",
              "      fill: #FFFFFF;\n",
              "    }\n",
              "  </style>\n",
              "\n",
              "      <script>\n",
              "        const buttonEl =\n",
              "          document.querySelector('#df-ced2e37f-5da0-49a1-bd01-f3346deb6d66 button.colab-df-convert');\n",
              "        buttonEl.style.display =\n",
              "          google.colab.kernel.accessAllowed ? 'block' : 'none';\n",
              "\n",
              "        async function convertToInteractive(key) {\n",
              "          const element = document.querySelector('#df-ced2e37f-5da0-49a1-bd01-f3346deb6d66');\n",
              "          const dataTable =\n",
              "            await google.colab.kernel.invokeFunction('convertToInteractive',\n",
              "                                                     [key], {});\n",
              "          if (!dataTable) return;\n",
              "\n",
              "          const docLinkHtml = 'Like what you see? Visit the ' +\n",
              "            '<a target=\"_blank\" href=https://colab.research.google.com/notebooks/data_table.ipynb>data table notebook</a>'\n",
              "            + ' to learn more about interactive tables.';\n",
              "          element.innerHTML = '';\n",
              "          dataTable['output_type'] = 'display_data';\n",
              "          await google.colab.output.renderOutput(dataTable, element);\n",
              "          const docLink = document.createElement('div');\n",
              "          docLink.innerHTML = docLinkHtml;\n",
              "          element.appendChild(docLink);\n",
              "        }\n",
              "      </script>\n",
              "    </div>\n",
              "  </div>\n",
              "  "
            ]
          },
          "metadata": {},
          "execution_count": 3
        }
      ],
      "source": [
        "df=pd.DataFrame({\n",
        "                'Num_flights': [12, 20, 28, 18, 29, 33, 24, 45, 45, 52, 51, 52, 55, 53, 55, 61, 64, 69, 72], \n",
        "                 'Avg_fare': [39, 36, 30, 52, 54, 46, 55, 59, 63, 70, 66, 63, 58, 23, 14, 8, 19, 7, 24]})\n",
        "df.head()"
      ]
    },
    {
      "cell_type": "code",
      "execution_count": 4,
      "id": "03a34254",
      "metadata": {
        "colab": {
          "base_uri": "https://localhost:8080/"
        },
        "id": "03a34254",
        "outputId": "cdfa28f1-f239-4507-a96b-fb682373de6b"
      },
      "outputs": [
        {
          "output_type": "execute_result",
          "data": {
            "text/plain": [
              "{1: [26, 16], 2: [68, 42], 3: [55, 76]}"
            ]
          },
          "metadata": {},
          "execution_count": 4
        }
      ],
      "source": [
        "np.random.seed(200)\n",
        "k=3\n",
        "centroids={i+1:[np.random.randint(0,80),np.random.randint(0,80)]\n",
        "          for i in range(k)}\n",
        "centroids"
      ]
    },
    {
      "cell_type": "markdown",
      "id": "5d678582",
      "metadata": {
        "id": "5d678582"
      },
      "source": [
        "# plot the graph"
      ]
    },
    {
      "cell_type": "code",
      "execution_count": 5,
      "id": "2d1cc983",
      "metadata": {
        "colab": {
          "base_uri": "https://localhost:8080/",
          "height": 349
        },
        "id": "2d1cc983",
        "outputId": "0c3db725-3515-438b-8286-3d7a2f4a2e4e"
      },
      "outputs": [
        {
          "output_type": "display_data",
          "data": {
            "text/plain": [
              "<Figure size 360x360 with 1 Axes>"
            ],
            "image/png": "[encoded data removed]"
          },
          "metadata": {
            "needs_background": "light"
          }
        }
      ],
      "source": [
        "plt.scatter(df['Num_flights'],df['Avg_fare'],color='k')\n",
        "colmap={1:'r',2:'g',3:'b'}\n",
        "for i in centroids.keys():\n",
        "    plt.scatter(centroids[i][0],centroids[i][1],color=colmap[i],marker='*')\n",
        "plt.xlabel('Num_flight')\n",
        "plt.ylabel('Avg_fara')\n",
        "plt.xlim(0,80)\n",
        "plt.ylim(0,80)\n",
        "plt.show()"
      ]
    },
    {
      "cell_type": "markdown",
      "id": "97533180",
      "metadata": {
        "id": "97533180"
      },
      "source": [
        "# calculate the distance and assign to cluster"
      ]
    },
    {
      "cell_type": "code",
      "execution_count": 6,
      "id": "15a7f681",
      "metadata": {
        "id": "15a7f681"
      },
      "outputs": [],
      "source": [
        "def assignment(df, centroids):\n",
        "    for i in centroids.keys():\n",
        "        df['distance_from_{}'.format(i)]= (\n",
        "            np.sqrt((df['Num_flights']-centroids[i][0])**2 + (df['Avg_fare'] - centroids[i][1])**2))\n",
        "    centroid_distance_cols = ['distance_from_{}'.format(i) for i in centroids.keys()]\n",
        "    df['closest']= df.loc[:, centroid_distance_cols].idxmin(axis=1)\n",
        "    df['closest']= df['closest'].map(lambda x: int(x.lstrip('distance_from_')))\n",
        "    df['color']=df['closest'].map(lambda x: colmap[x])\n",
        "    return df"
      ]
    },
    {
      "cell_type": "code",
      "execution_count": 7,
      "id": "59c93cb0",
      "metadata": {
        "colab": {
          "base_uri": "https://localhost:8080/",
          "height": 213
        },
        "id": "59c93cb0",
        "outputId": "490a79c3-a4b5-4099-a3e0-f711966e8478"
      },
      "outputs": [
        {
          "output_type": "execute_result",
          "data": {
            "text/plain": [
              "   Num_flights  Avg_fare  distance_from_1  distance_from_2  distance_from_3  \\\n",
              "0           12        39        26.925824        56.080300        56.727418   \n",
              "1           20        36        20.880613        48.373546        53.150729   \n",
              "2           28        30        14.142136        41.761226        53.338541   \n",
              "3           18        52        36.878178        50.990195        44.102154   \n",
              "4           29        54        38.118237        40.804412        34.058773   \n",
              "\n",
              "   closest color  \n",
              "0        1     r  \n",
              "1        1     r  \n",
              "2        1     r  \n",
              "3        1     r  \n",
              "4        3     b  "
            ],
            "text/html": [
              "\n",
              "  <div id=\"df-aaa10f9f-7d5a-4082-96f8-07e4b0bfcfc1\">\n",
              "    <div class=\"colab-df-container\">\n",
              "      <div>\n",
              "<style scoped>\n",
              "    .dataframe tbody tr th:only-of-type {\n",
              "        vertical-align: middle;\n",
              "    }\n",
              "\n",
              "    .dataframe tbody tr th {\n",
              "        vertical-align: top;\n",
              "    }\n",
              "\n",
              "    .dataframe thead th {\n",
              "        text-align: right;\n",
              "    }\n",
              "</style>\n",
              "<table border=\"1\" class=\"dataframe\">\n",
              "  <thead>\n",
              "    <tr style=\"text-align: right;\">\n",
              "      <th></th>\n",
              "      <th>Num_flights</th>\n",
              "      <th>Avg_fare</th>\n",
              "      <th>distance_from_1</th>\n",
              "      <th>distance_from_2</th>\n",
              "      <th>distance_from_3</th>\n",
              "      <th>closest</th>\n",
              "      <th>color</th>\n",
              "    </tr>\n",
              "  </thead>\n",
              "  <tbody>\n",
              "    <tr>\n",
              "      <th>0</th>\n",
              "      <td>12</td>\n",
              "      <td>39</td>\n",
              "      <td>26.925824</td>\n",
              "      <td>56.080300</td>\n",
              "      <td>56.727418</td>\n",
              "      <td>1</td>\n",
              "      <td>r</td>\n",
              "    </tr>\n",
              "    <tr>\n",
              "      <th>1</th>\n",
              "      <td>20</td>\n",
              "      <td>36</td>\n",
              "      <td>20.880613</td>\n",
              "      <td>48.373546</td>\n",
              "      <td>53.150729</td>\n",
              "      <td>1</td>\n",
              "      <td>r</td>\n",
              "    </tr>\n",
              "    <tr>\n",
              "      <th>2</th>\n",
              "      <td>28</td>\n",
              "      <td>30</td>\n",
              "      <td>14.142136</td>\n",
              "      <td>41.761226</td>\n",
              "      <td>53.338541</td>\n",
              "      <td>1</td>\n",
              "      <td>r</td>\n",
              "    </tr>\n",
              "    <tr>\n",
              "      <th>3</th>\n",
              "      <td>18</td>\n",
              "      <td>52</td>\n",
              "      <td>36.878178</td>\n",
              "      <td>50.990195</td>\n",
              "      <td>44.102154</td>\n",
              "      <td>1</td>\n",
              "      <td>r</td>\n",
              "    </tr>\n",
              "    <tr>\n",
              "      <th>4</th>\n",
              "      <td>29</td>\n",
              "      <td>54</td>\n",
              "      <td>38.118237</td>\n",
              "      <td>40.804412</td>\n",
              "      <td>34.058773</td>\n",
              "      <td>3</td>\n",
              "      <td>b</td>\n",
              "    </tr>\n",
              "  </tbody>\n",
              "</table>\n",
              "</div>\n",
              "      <button class=\"colab-df-convert\" onclick=\"convertToInteractive('df-aaa10f9f-7d5a-4082-96f8-07e4b0bfcfc1')\"\n",
              "              title=\"Convert this dataframe to an interactive table.\"\n",
              "              style=\"display:none;\">\n",
              "        \n",
              "  <svg xmlns=\"http://www.w3.org/2000/svg\" height=\"24px\"viewBox=\"0 0 24 24\"\n",
              "       width=\"24px\">\n",
              "    <path d=\"M0 0h24v24H0V0z\" fill=\"none\"/>\n",
              "    <path d=\"M18.56 5.44l.94 2.06.94-2.06 2.06-.94-2.06-.94-.94-2.06-.94 2.06-2.06.94zm-11 1L8.5 8.5l.94-2.06 2.06-.94-2.06-.94L8.5 2.5l-.94 2.06-2.06.94zm10 10l.94 2.06.94-2.06 2.06-.94-2.06-.94-.94-2.06-.94 2.06-2.06.94z\"/><path d=\"M17.41 7.96l-1.37-1.37c-.4-.4-.92-.59-1.43-.59-.52 0-1.04.2-1.43.59L10.3 9.45l-7.72 7.72c-.78.78-.78 2.05 0 2.83L4 21.41c.39.39.9.59 1.41.59.51 0 1.02-.2 1.41-.59l7.78-7.78 2.81-2.81c.8-.78.8-2.07 0-2.86zM5.41 20L4 18.59l7.72-7.72 1.47 1.35L5.41 20z\"/>\n",
              "  </svg>\n",
              "      </button>\n",
              "      \n",
              "  <style>\n",
              "    .colab-df-container {\n",
              "      display:flex;\n",
              "      flex-wrap:wrap;\n",
              "      gap: 12px;\n",
              "    }\n",
              "\n",
              "    .colab-df-convert {\n",
              "      background-color: #E8F0FE;\n",
              "      border: none;\n",
              "      border-radius: 50%;\n",
              "      cursor: pointer;\n",
              "      display: none;\n",
              "      fill: #1967D2;\n",
              "      height: 32px;\n",
              "      padding: 0 0 0 0;\n",
              "      width: 32px;\n",
              "    }\n",
              "\n",
              "    .colab-df-convert:hover {\n",
              "      background-color: #E2EBFA;\n",
              "      box-shadow: 0px 1px 2px rgba(60, 64, 67, 0.3), 0px 1px 3px 1px rgba(60, 64, 67, 0.15);\n",
              "      fill: #174EA6;\n",
              "    }\n",
              "\n",
              "    [theme=dark] .colab-df-convert {\n",
              "      background-color: #3B4455;\n",
              "      fill: #D2E3FC;\n",
              "    }\n",
              "\n",
              "    [theme=dark] .colab-df-convert:hover {\n",
              "      background-color: #434B5C;\n",
              "      box-shadow: 0px 1px 3px 1px rgba(0, 0, 0, 0.15);\n",
              "      filter: drop-shadow(0px 1px 2px rgba(0, 0, 0, 0.3));\n",
              "      fill: #FFFFFF;\n",
              "    }\n",
              "  </style>\n",
              "\n",
              "      <script>\n",
              "        const buttonEl =\n",
              "          document.querySelector('#df-aaa10f9f-7d5a-4082-96f8-07e4b0bfcfc1 button.colab-df-convert');\n",
              "        buttonEl.style.display =\n",
              "          google.colab.kernel.accessAllowed ? 'block' : 'none';\n",
              "\n",
              "        async function convertToInteractive(key) {\n",
              "          const element = document.querySelector('#df-aaa10f9f-7d5a-4082-96f8-07e4b0bfcfc1');\n",
              "          const dataTable =\n",
              "            await google.colab.kernel.invokeFunction('convertToInteractive',\n",
              "                                                     [key], {});\n",
              "          if (!dataTable) return;\n",
              "\n",
              "          const docLinkHtml = 'Like what you see? Visit the ' +\n",
              "            '<a target=\"_blank\" href=https://colab.research.google.com/notebooks/data_table.ipynb>data table notebook</a>'\n",
              "            + ' to learn more about interactive tables.';\n",
              "          element.innerHTML = '';\n",
              "          dataTable['output_type'] = 'display_data';\n",
              "          await google.colab.output.renderOutput(dataTable, element);\n",
              "          const docLink = document.createElement('div');\n",
              "          docLink.innerHTML = docLinkHtml;\n",
              "          element.appendChild(docLink);\n",
              "        }\n",
              "      </script>\n",
              "    </div>\n",
              "  </div>\n",
              "  "
            ]
          },
          "metadata": {},
          "execution_count": 7
        }
      ],
      "source": [
        "df = assignment(df, centroids)\n",
        "df.head()"
      ]
    },
    {
      "cell_type": "code",
      "execution_count": 8,
      "id": "7b07abeb",
      "metadata": {
        "colab": {
          "base_uri": "https://localhost:8080/",
          "height": 349
        },
        "id": "7b07abeb",
        "outputId": "23d61a84-34f3-437a-8194-7839d488b4d5"
      },
      "outputs": [
        {
          "output_type": "display_data",
          "data": {
            "text/plain": [
              "<Figure size 360x360 with 1 Axes>"
            ],
            "image/png": "[encoded data removed]"
          },
          "metadata": {
            "needs_background": "light"
          }
        }
      ],
      "source": [
        "#Plotting the graph for above\n",
        "plt.scatter(df['Num_flights'], df['Avg_fare'], color=df['color'],alpha=0.7)\n",
        "for i in centroids.keys():\n",
        "    plt.scatter(centroids[i][0], centroids[i][1], color=colmap[i],marker='*')\n",
        "plt.xlim(0,80)\n",
        "plt.ylim(0,80)\n",
        "plt.xlabel('Num_flights')\n",
        "plt.ylabel('Avg_fare')\n",
        "plt.show()"
      ]
    },
    {
      "cell_type": "code",
      "execution_count": 9,
      "id": "754387dd",
      "metadata": {
        "colab": {
          "base_uri": "https://localhost:8080/"
        },
        "id": "754387dd",
        "outputId": "a7f35892-d351-479f-bfad-777b90e3f600"
      },
      "outputs": [
        {
          "output_type": "execute_result",
          "data": {
            "text/plain": [
              "{1: [26, 16], 2: [68, 42], 3: [55, 76]}"
            ]
          },
          "metadata": {},
          "execution_count": 9
        }
      ],
      "source": [
        "#making copy of randomly created clusters\n",
        "import copy\n",
        "old_c = copy.deepcopy(centroids)\n",
        "old_c"
      ]
    },
    {
      "cell_type": "markdown",
      "id": "e40d5405",
      "metadata": {
        "id": "e40d5405"
      },
      "source": [
        "#  Calculate the mean"
      ]
    },
    {
      "cell_type": "code",
      "execution_count": 10,
      "id": "30438544",
      "metadata": {
        "id": "30438544"
      },
      "outputs": [],
      "source": [
        "def update(k):\n",
        "    for i in k.keys():\n",
        "        k[i][0] = np.mean(df[df['closest']==i]['Num_flights'])\n",
        "        k[i][1] = np.mean(df[df['closest']==i]['Avg_fare'])\n",
        "    return k"
      ]
    },
    {
      "cell_type": "code",
      "execution_count": 11,
      "id": "6f4a74c2",
      "metadata": {
        "colab": {
          "base_uri": "https://localhost:8080/"
        },
        "id": "6f4a74c2",
        "outputId": "3f153190-bcd1-4ec7-e9d3-6c6c570767b7"
      },
      "outputs": [
        {
          "output_type": "stream",
          "name": "stdout",
          "text": [
            "old centroids {1: [26, 16], 2: [68, 42], 3: [55, 76]}\n",
            "updated centroids {1: [27.666666666666668, 36.166666666666664], 2: [63.8, 16.2], 3: [44.125, 61.0]}\n"
          ]
        }
      ],
      "source": [
        "#Printing both centroid i.e. first which is created randomly and second one after first iteration\n",
        "centroids = update(centroids)\n",
        "print('old centroids',old_c)\n",
        "print('updated centroids', centroids)\n"
      ]
    },
    {
      "cell_type": "code",
      "execution_count": 12,
      "id": "1008beae",
      "metadata": {
        "colab": {
          "base_uri": "https://localhost:8080/",
          "height": 324
        },
        "id": "1008beae",
        "outputId": "9c2278b1-64ed-48a2-ef05-7ffc88122034"
      },
      "outputs": [
        {
          "output_type": "display_data",
          "data": {
            "text/plain": [
              "<Figure size 360x360 with 1 Axes>"
            ],
            "image/png": "[encoded data removed]"
          },
          "metadata": {
            "needs_background": "light"
          }
        }
      ],
      "source": [
        "\n",
        "ax = plt.axes()\n",
        "plt.scatter(df['Num_flights'],df['Avg_fare'], color = df['color'], alpha=0.7)\n",
        "for i in centroids.keys():\n",
        "    old_x = old_c[i][0]\n",
        "    old_y = old_c[i][1]\n",
        "    dx = (centroids[i][0] - old_c[i][0]) *0.7\n",
        "    dy = (centroids[i][1] - old_c[i][1]) *0.8\n",
        "    #Drawing arrow to see the change\n",
        "    ax.arrow(old_x, old_y, dx, dy, head_width=2, head_length=3, fc=colmap[i], ec=colmap[i])\n",
        "plt.show()"
      ]
    },
    {
      "cell_type": "code",
      "execution_count": 12,
      "id": "74ca86aa",
      "metadata": {
        "id": "74ca86aa"
      },
      "outputs": [],
      "source": []
    },
    {
      "cell_type": "code",
      "execution_count": 13,
      "id": "b582b4eb",
      "metadata": {
        "colab": {
          "base_uri": "https://localhost:8080/",
          "height": 349
        },
        "id": "b582b4eb",
        "outputId": "420bab1c-7c74-478c-ef57-767ccdfe51b0"
      },
      "outputs": [
        {
          "output_type": "display_data",
          "data": {
            "text/plain": [
              "<Figure size 360x360 with 1 Axes>"
            ],
            "image/png": "[encoded data removed]"
          },
          "metadata": {
            "needs_background": "light"
          }
        }
      ],
      "source": [
        "#Repeating same step\n",
        "df = assignment(df, centroids)\n",
        "#plotting the results\n",
        "plt.scatter(df['Num_flights'], df['Avg_fare'], color=df['color'],alpha=0.7)\n",
        "for i in centroids.keys():\n",
        "    plt.scatter(centroids[i][0], centroids[i][1], color=colmap[i],marker='*')\n",
        "plt.xlim(0,80)\n",
        "plt.ylim(0,80)\n",
        "plt.xlabel('Num_flights')\n",
        "plt.ylabel('Avg_fare')\n",
        "plt.show()"
      ]
    },
    {
      "cell_type": "markdown",
      "id": "fa5395f4",
      "metadata": {
        "id": "fa5395f4"
      },
      "source": [
        "# Continue with same steps until all assigned categories dont change anymore\n"
      ]
    },
    {
      "cell_type": "code",
      "execution_count": 14,
      "id": "69c6b821",
      "metadata": {
        "colab": {
          "base_uri": "https://localhost:8080/",
          "height": 349
        },
        "id": "69c6b821",
        "outputId": "b1b02425-c8a1-47cc-d825-4965c4dd0def"
      },
      "outputs": [
        {
          "output_type": "display_data",
          "data": {
            "text/plain": [
              "<Figure size 360x360 with 1 Axes>"
            ],
            "image/png": "[encoded data removed]"
          },
          "metadata": {
            "needs_background": "light"
          }
        }
      ],
      "source": [
        "while True:\n",
        "    closest_centroids = df['closest'].copy(deep=True)\n",
        "    centroids = update(centroids)\n",
        "    df = assignment(df, centroids)\n",
        "    if closest_centroids.equals(df['closest']):\n",
        "        break\n",
        "#Plotting the graph\n",
        "plt.scatter(df['Num_flights'], df['Avg_fare'], color=df['color'],alpha=0.7)\n",
        "for i in centroids.keys():\n",
        "    plt.scatter(centroids[i][0], centroids[i][1], color=colmap[i],marker='*')\n",
        "plt.xlim(0,80)\n",
        "plt.ylim(0,80)\n",
        "plt.xlabel('Num_flights')\n",
        "plt.ylabel('Avg_fare')\n",
        "plt.show()"
      ]
    },
    {
      "cell_type": "code",
      "execution_count": 15,
      "id": "8a7ca948",
      "metadata": {
        "colab": {
          "base_uri": "https://localhost:8080/"
        },
        "id": "8a7ca948",
        "outputId": "897235d0-143c-4980-9f79-0da84056266d"
      },
      "outputs": [
        {
          "output_type": "execute_result",
          "data": {
            "text/plain": [
              "{1: [23.428571428571427, 44.57142857142857],\n",
              " 2: [62.333333333333336, 15.833333333333334],\n",
              " 3: [50.0, 63.166666666666664]}"
            ]
          },
          "metadata": {},
          "execution_count": 15
        }
      ],
      "source": [
        "centroids"
      ]
    },
    {
      "cell_type": "code",
      "execution_count": 15,
      "id": "1e74ba3e",
      "metadata": {
        "id": "1e74ba3e"
      },
      "outputs": [],
      "source": []
    },
    {
      "cell_type": "code",
      "execution_count": 15,
      "id": "d891d58a",
      "metadata": {
        "id": "d891d58a"
      },
      "outputs": [],
      "source": []
    },
    {
      "cell_type": "code",
      "execution_count": 15,
      "id": "ee60847d",
      "metadata": {
        "id": "ee60847d"
      },
      "outputs": [],
      "source": []
    },
    {
      "cell_type": "markdown",
      "id": "1a78b4a8",
      "metadata": {
        "id": "1a78b4a8"
      },
      "source": [
        "# Implementing K-Means using sklearn\n",
        "\n",
        "will use this method "
      ]
    },
    {
      "cell_type": "code",
      "execution_count": 16,
      "id": "34f5a53e",
      "metadata": {
        "id": "34f5a53e"
      },
      "outputs": [],
      "source": [
        "from sklearn.cluster import KMeans\n"
      ]
    },
    {
      "cell_type": "code",
      "execution_count": 17,
      "id": "80433f1f",
      "metadata": {
        "colab": {
          "base_uri": "https://localhost:8080/",
          "height": 206
        },
        "id": "80433f1f",
        "outputId": "251ef29a-93f9-4b50-b691-46d1f48680c6"
      },
      "outputs": [
        {
          "output_type": "execute_result",
          "data": {
            "text/plain": [
              "   Num_flights  Avg_fare\n",
              "0           12        39\n",
              "1           20        36\n",
              "2           28        30\n",
              "3           18        52\n",
              "4           29        54"
            ],
            "text/html": [
              "\n",
              "  <div id=\"df-43a6a7ee-0807-4f17-b4b1-39270ee3d303\">\n",
              "    <div class=\"colab-df-container\">\n",
              "      <div>\n",
              "<style scoped>\n",
              "    .dataframe tbody tr th:only-of-type {\n",
              "        vertical-align: middle;\n",
              "    }\n",
              "\n",
              "    .dataframe tbody tr th {\n",
              "        vertical-align: top;\n",
              "    }\n",
              "\n",
              "    .dataframe thead th {\n",
              "        text-align: right;\n",
              "    }\n",
              "</style>\n",
              "<table border=\"1\" class=\"dataframe\">\n",
              "  <thead>\n",
              "    <tr style=\"text-align: right;\">\n",
              "      <th></th>\n",
              "      <th>Num_flights</th>\n",
              "      <th>Avg_fare</th>\n",
              "    </tr>\n",
              "  </thead>\n",
              "  <tbody>\n",
              "    <tr>\n",
              "      <th>0</th>\n",
              "      <td>12</td>\n",
              "      <td>39</td>\n",
              "    </tr>\n",
              "    <tr>\n",
              "      <th>1</th>\n",
              "      <td>20</td>\n",
              "      <td>36</td>\n",
              "    </tr>\n",
              "    <tr>\n",
              "      <th>2</th>\n",
              "      <td>28</td>\n",
              "      <td>30</td>\n",
              "    </tr>\n",
              "    <tr>\n",
              "      <th>3</th>\n",
              "      <td>18</td>\n",
              "      <td>52</td>\n",
              "    </tr>\n",
              "    <tr>\n",
              "      <th>4</th>\n",
              "      <td>29</td>\n",
              "      <td>54</td>\n",
              "    </tr>\n",
              "  </tbody>\n",
              "</table>\n",
              "</div>\n",
              "      <button class=\"colab-df-convert\" onclick=\"convertToInteractive('df-43a6a7ee-0807-4f17-b4b1-39270ee3d303')\"\n",
              "              title=\"Convert this dataframe to an interactive table.\"\n",
              "              style=\"display:none;\">\n",
              "        \n",
              "  <svg xmlns=\"http://www.w3.org/2000/svg\" height=\"24px\"viewBox=\"0 0 24 24\"\n",
              "       width=\"24px\">\n",
              "    <path d=\"M0 0h24v24H0V0z\" fill=\"none\"/>\n",
              "    <path d=\"M18.56 5.44l.94 2.06.94-2.06 2.06-.94-2.06-.94-.94-2.06-.94 2.06-2.06.94zm-11 1L8.5 8.5l.94-2.06 2.06-.94-2.06-.94L8.5 2.5l-.94 2.06-2.06.94zm10 10l.94 2.06.94-2.06 2.06-.94-2.06-.94-.94-2.06-.94 2.06-2.06.94z\"/><path d=\"M17.41 7.96l-1.37-1.37c-.4-.4-.92-.59-1.43-.59-.52 0-1.04.2-1.43.59L10.3 9.45l-7.72 7.72c-.78.78-.78 2.05 0 2.83L4 21.41c.39.39.9.59 1.41.59.51 0 1.02-.2 1.41-.59l7.78-7.78 2.81-2.81c.8-.78.8-2.07 0-2.86zM5.41 20L4 18.59l7.72-7.72 1.47 1.35L5.41 20z\"/>\n",
              "  </svg>\n",
              "      </button>\n",
              "      \n",
              "  <style>\n",
              "    .colab-df-container {\n",
              "      display:flex;\n",
              "      flex-wrap:wrap;\n",
              "      gap: 12px;\n",
              "    }\n",
              "\n",
              "    .colab-df-convert {\n",
              "      background-color: #E8F0FE;\n",
              "      border: none;\n",
              "      border-radius: 50%;\n",
              "      cursor: pointer;\n",
              "      display: none;\n",
              "      fill: #1967D2;\n",
              "      height: 32px;\n",
              "      padding: 0 0 0 0;\n",
              "      width: 32px;\n",
              "    }\n",
              "\n",
              "    .colab-df-convert:hover {\n",
              "      background-color: #E2EBFA;\n",
              "      box-shadow: 0px 1px 2px rgba(60, 64, 67, 0.3), 0px 1px 3px 1px rgba(60, 64, 67, 0.15);\n",
              "      fill: #174EA6;\n",
              "    }\n",
              "\n",
              "    [theme=dark] .colab-df-convert {\n",
              "      background-color: #3B4455;\n",
              "      fill: #D2E3FC;\n",
              "    }\n",
              "\n",
              "    [theme=dark] .colab-df-convert:hover {\n",
              "      background-color: #434B5C;\n",
              "      box-shadow: 0px 1px 3px 1px rgba(0, 0, 0, 0.15);\n",
              "      filter: drop-shadow(0px 1px 2px rgba(0, 0, 0, 0.3));\n",
              "      fill: #FFFFFF;\n",
              "    }\n",
              "  </style>\n",
              "\n",
              "      <script>\n",
              "        const buttonEl =\n",
              "          document.querySelector('#df-43a6a7ee-0807-4f17-b4b1-39270ee3d303 button.colab-df-convert');\n",
              "        buttonEl.style.display =\n",
              "          google.colab.kernel.accessAllowed ? 'block' : 'none';\n",
              "\n",
              "        async function convertToInteractive(key) {\n",
              "          const element = document.querySelector('#df-43a6a7ee-0807-4f17-b4b1-39270ee3d303');\n",
              "          const dataTable =\n",
              "            await google.colab.kernel.invokeFunction('convertToInteractive',\n",
              "                                                     [key], {});\n",
              "          if (!dataTable) return;\n",
              "\n",
              "          const docLinkHtml = 'Like what you see? Visit the ' +\n",
              "            '<a target=\"_blank\" href=https://colab.research.google.com/notebooks/data_table.ipynb>data table notebook</a>'\n",
              "            + ' to learn more about interactive tables.';\n",
              "          element.innerHTML = '';\n",
              "          dataTable['output_type'] = 'display_data';\n",
              "          await google.colab.output.renderOutput(dataTable, element);\n",
              "          const docLink = document.createElement('div');\n",
              "          docLink.innerHTML = docLinkHtml;\n",
              "          element.appendChild(docLink);\n",
              "        }\n",
              "      </script>\n",
              "    </div>\n",
              "  </div>\n",
              "  "
            ]
          },
          "metadata": {},
          "execution_count": 17
        }
      ],
      "source": [
        "df=pd.DataFrame({\n",
        "                'Num_flights': [12, 20, 28, 18, 29, 33, 24, 45, 45, 52, 51, 52, 55, 53, 55, 61, 64, 69, 72], \n",
        "                 'Avg_fare': [39, 36, 30, 52, 54, 46, 55, 59, 63, 70, 66, 63, 58, 23, 14, 8, 19, 7, 24]})\n",
        "df=df[['Num_flights','Avg_fare']]\n",
        "df.head()"
      ]
    },
    {
      "cell_type": "code",
      "execution_count": 18,
      "id": "b6cc9c30",
      "metadata": {
        "colab": {
          "base_uri": "https://localhost:8080/"
        },
        "id": "b6cc9c30",
        "outputId": "711edc3d-c995-4dea-f30e-3ecd971816b3"
      },
      "outputs": [
        {
          "output_type": "stream",
          "name": "stderr",
          "text": [
            "/usr/local/lib/python3.9/dist-packages/sklearn/cluster/_kmeans.py:870: FutureWarning: The default value of `n_init` will change from 10 to 'auto' in 1.4. Set the value of `n_init` explicitly to suppress the warning\n",
            "  warnings.warn(\n"
          ]
        },
        {
          "output_type": "execute_result",
          "data": {
            "text/plain": [
              "array([1, 1, 1, 1, 1, 1, 1, 2, 2, 2, 2, 2, 2, 0, 0, 0, 0, 0, 0],\n",
              "      dtype=int32)"
            ]
          },
          "metadata": {},
          "execution_count": 18
        }
      ],
      "source": [
        "#Instantiated kmeans into a variable\n",
        "kmeans = KMeans(n_clusters=3)\n",
        "kmeans.fit(df)\n",
        "labels=kmeans.predict(df)\n",
        "labels"
      ]
    },
    {
      "cell_type": "code",
      "execution_count": 19,
      "id": "d49b411a",
      "metadata": {
        "colab": {
          "base_uri": "https://localhost:8080/"
        },
        "id": "d49b411a",
        "outputId": "49cc1359-c220-4c3c-a1d1-b28493408772"
      },
      "outputs": [
        {
          "output_type": "execute_result",
          "data": {
            "text/plain": [
              "array([[62.33333333, 15.83333333],\n",
              "       [23.42857143, 44.57142857],\n",
              "       [50.        , 63.16666667]])"
            ]
          },
          "metadata": {},
          "execution_count": 19
        }
      ],
      "source": [
        "#This will give cordinates for centroid\n",
        "sk_centroids = kmeans.cluster_centers_\n",
        "sk_centroids"
      ]
    },
    {
      "cell_type": "code",
      "execution_count": 20,
      "id": "63c03d11",
      "metadata": {
        "colab": {
          "base_uri": "https://localhost:8080/"
        },
        "id": "63c03d11",
        "outputId": "f4f99b5a-b697-4134-8498-52357a03bd30"
      },
      "outputs": [
        {
          "output_type": "execute_result",
          "data": {
            "text/plain": [
              "1624.4285714285716"
            ]
          },
          "metadata": {},
          "execution_count": 20
        }
      ],
      "source": [
        "#From here we are going to find how to choose correct number of cluster\n",
        "#This gives us sum of variance for each clusters \n",
        "kmeans.inertia_"
      ]
    },
    {
      "cell_type": "code",
      "execution_count": 21,
      "id": "b1f5a361",
      "metadata": {
        "colab": {
          "base_uri": "https://localhost:8080/",
          "height": 349
        },
        "id": "b1f5a361",
        "outputId": "37c2217b-1cab-4178-bca8-5885ec8ea4d8"
      },
      "outputs": [
        {
          "output_type": "display_data",
          "data": {
            "text/plain": [
              "<Figure size 360x360 with 1 Axes>"
            ],
            "image/png": "[encoded data removed]"
          },
          "metadata": {
            "needs_background": "light"
          }
        }
      ],
      "source": [
        "#Plotting the graph\n",
        "colors = map(lambda x: colmap[x+1], labels)\n",
        "colors1 = list(colors)\n",
        "plt.scatter(df['Num_flights'], df['Avg_fare'], color=colors1,alpha=0.7)\n",
        "for idx, centroid in enumerate(sk_centroids):\n",
        "    plt.scatter(centroid[0], centroid[1], color=colmap[idx+1],marker='*')\n",
        "plt.xlim(0,80)\n",
        "plt.ylim(0,80)\n",
        "plt.xlabel('Num_flights')\n",
        "plt.ylabel('Avg_fare')\n",
        "plt.show()"
      ]
    },
    {
      "cell_type": "code",
      "execution_count": 22,
      "id": "f2d8a7f0",
      "metadata": {
        "colab": {
          "base_uri": "https://localhost:8080/"
        },
        "id": "f2d8a7f0",
        "outputId": "5a49e4e8-f3c9-4174-d09a-32dde26e1fa0"
      },
      "outputs": [
        {
          "output_type": "stream",
          "name": "stderr",
          "text": [
            "/usr/local/lib/python3.9/dist-packages/sklearn/cluster/_kmeans.py:870: FutureWarning: The default value of `n_init` will change from 10 to 'auto' in 1.4. Set the value of `n_init` explicitly to suppress the warning\n",
            "  warnings.warn(\n",
            "/usr/local/lib/python3.9/dist-packages/sklearn/cluster/_kmeans.py:870: FutureWarning: The default value of `n_init` will change from 10 to 'auto' in 1.4. Set the value of `n_init` explicitly to suppress the warning\n",
            "  warnings.warn(\n",
            "/usr/local/lib/python3.9/dist-packages/sklearn/cluster/_kmeans.py:870: FutureWarning: The default value of `n_init` will change from 10 to 'auto' in 1.4. Set the value of `n_init` explicitly to suppress the warning\n",
            "  warnings.warn(\n",
            "/usr/local/lib/python3.9/dist-packages/sklearn/cluster/_kmeans.py:870: FutureWarning: The default value of `n_init` will change from 10 to 'auto' in 1.4. Set the value of `n_init` explicitly to suppress the warning\n",
            "  warnings.warn(\n",
            "/usr/local/lib/python3.9/dist-packages/sklearn/cluster/_kmeans.py:870: FutureWarning: The default value of `n_init` will change from 10 to 'auto' in 1.4. Set the value of `n_init` explicitly to suppress the warning\n",
            "  warnings.warn(\n",
            "/usr/local/lib/python3.9/dist-packages/sklearn/cluster/_kmeans.py:870: FutureWarning: The default value of `n_init` will change from 10 to 'auto' in 1.4. Set the value of `n_init` explicitly to suppress the warning\n",
            "  warnings.warn(\n",
            "/usr/local/lib/python3.9/dist-packages/sklearn/cluster/_kmeans.py:870: FutureWarning: The default value of `n_init` will change from 10 to 'auto' in 1.4. Set the value of `n_init` explicitly to suppress the warning\n",
            "  warnings.warn(\n",
            "/usr/local/lib/python3.9/dist-packages/sklearn/cluster/_kmeans.py:870: FutureWarning: The default value of `n_init` will change from 10 to 'auto' in 1.4. Set the value of `n_init` explicitly to suppress the warning\n",
            "  warnings.warn(\n",
            "/usr/local/lib/python3.9/dist-packages/sklearn/cluster/_kmeans.py:870: FutureWarning: The default value of `n_init` will change from 10 to 'auto' in 1.4. Set the value of `n_init` explicitly to suppress the warning\n",
            "  warnings.warn(\n",
            "/usr/local/lib/python3.9/dist-packages/sklearn/cluster/_kmeans.py:870: FutureWarning: The default value of `n_init` will change from 10 to 'auto' in 1.4. Set the value of `n_init` explicitly to suppress the warning\n",
            "  warnings.warn(\n"
          ]
        }
      ],
      "source": [
        "#Here we are trying kmeans on different number of clusters on this dataset\n",
        "inertia_list = []\n",
        "for num_clusters in np.arange(1, 11):\n",
        "    kmeans = KMeans(n_clusters=num_clusters)\n",
        "    kmeans.fit(df)\n",
        "    inertia_list.append(kmeans.inertia_)"
      ]
    },
    {
      "cell_type": "code",
      "execution_count": 23,
      "id": "7b6a55f0",
      "metadata": {
        "colab": {
          "base_uri": "https://localhost:8080/"
        },
        "id": "7b6a55f0",
        "outputId": "6cfabce6-375f-4e79-aa3e-5cbf115f98e5"
      },
      "outputs": [
        {
          "output_type": "execute_result",
          "data": {
            "text/plain": [
              "[13654.210526315788,\n",
              " 5022.628205128205,\n",
              " 1624.4285714285716,\n",
              " 1081.75,\n",
              " 850.9166666666666,\n",
              " 647.0833333333333,\n",
              " 513.5833333333333,\n",
              " 428.1666666666667,\n",
              " 315.0833333333333,\n",
              " 254.66666666666669]"
            ]
          },
          "metadata": {},
          "execution_count": 23
        }
      ],
      "source": [
        "inertia_list"
      ]
    },
    {
      "cell_type": "code",
      "execution_count": 24,
      "id": "ca07c61c",
      "metadata": {
        "colab": {
          "base_uri": "https://localhost:8080/",
          "height": 324
        },
        "id": "ca07c61c",
        "outputId": "d32279ba-1d52-4418-f0cb-741a5e68a1db"
      },
      "outputs": [
        {
          "output_type": "display_data",
          "data": {
            "text/plain": [
              "<Figure size 720x360 with 1 Axes>"
            ],
            "image/png": "[encoded data removed]"
          },
          "metadata": {
            "needs_background": "light"
          }
        }
      ],
      "source": [
        "#Plotting the graph for above\n",
        "plt.figure(figsize=(10,5))\n",
        "plt.plot(np.arange(1,11), inertia_list)\n",
        "plt.xticks(np.arange(1,11))\n",
        "plt.grid(True)\n",
        "plt.show()"
      ]
    },
    {
      "cell_type": "markdown",
      "id": "5675fe14",
      "metadata": {
        "id": "5675fe14"
      },
      "source": [
        "Note: If we dont mention the number of cluster then default value of cluster will be 8"
      ]
    },
    {
      "cell_type": "code",
      "execution_count": 24,
      "id": "a2e32e7c",
      "metadata": {
        "id": "a2e32e7c"
      },
      "outputs": [],
      "source": []
    }
  ],
  "metadata": {
    "kernelspec": {
      "display_name": "Python 3 (ipykernel)",
      "language": "python",
      "name": "python3"
    },
    "language_info": {
      "codemirror_mode": {
        "name": "ipython",
        "version": 3
      },
      "file_extension": ".py",
      "mimetype": "text/x-python",
      "name": "python",
      "nbconvert_exporter": "python",
      "pygments_lexer": "ipython3",
      "version": "3.9.12"
    },
    "colab": {
      "provenance": [],
      "include_colab_link": true
    }
  },
  "nbformat": 4,
  "nbformat_minor": 5
}