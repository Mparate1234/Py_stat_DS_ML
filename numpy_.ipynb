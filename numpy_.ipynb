{
  "cells": [
    {
      "cell_type": "markdown",
      "metadata": {
        "id": "view-in-github",
        "colab_type": "text"
      },
      "source": [
        "<a href=\"https://colab.research.google.com/github/Mparate1234/Py_stat_DS_ML/blob/main/numpy_.ipynb\" target=\"_parent\"><img src=\"https://colab.research.google.com/assets/colab-badge.svg\" alt=\"Open In Colab\"/></a>"
      ]
    },
    {
      "cell_type": "markdown",
      "id": "d5603fc7",
      "metadata": {
        "id": "d5603fc7"
      },
      "source": [
        "#                                        5 june"
      ]
    },
    {
      "cell_type": "code",
      "execution_count": 1,
      "id": "b2393d8a",
      "metadata": {
        "colab": {
          "base_uri": "https://localhost:8080/"
        },
        "id": "b2393d8a",
        "outputId": "6953297b-2661-4798-d64f-272f3a7f3f7d"
      },
      "outputs": [
        {
          "output_type": "stream",
          "name": "stdout",
          "text": [
            "Looking in indexes: https://pypi.org/simple, https://us-python.pkg.dev/colab-wheels/public/simple/\n",
            "Requirement already satisfied: numpy in /usr/local/lib/python3.8/dist-packages (1.22.4)\n"
          ]
        }
      ],
      "source": [
        "##  numpy\n",
        "!pip install numpy"
      ]
    },
    {
      "cell_type": "code",
      "execution_count": 2,
      "id": "f1f8e06d",
      "metadata": {
        "id": "f1f8e06d"
      },
      "outputs": [],
      "source": [
        "import numpy as np"
      ]
    },
    {
      "cell_type": "code",
      "execution_count": 3,
      "id": "0fabecbf",
      "metadata": {
        "colab": {
          "base_uri": "https://localhost:8080/"
        },
        "id": "0fabecbf",
        "outputId": "06db46e2-86ba-4301-846e-6a851a34cb84"
      },
      "outputs": [
        {
          "output_type": "execute_result",
          "data": {
            "text/plain": [
              "603"
            ]
          },
          "metadata": {},
          "execution_count": 3
        }
      ],
      "source": [
        "len(dir(np))"
      ]
    },
    {
      "cell_type": "code",
      "execution_count": 3,
      "id": "54db0fa0",
      "metadata": {
        "id": "54db0fa0"
      },
      "outputs": [],
      "source": []
    },
    {
      "cell_type": "code",
      "execution_count": 4,
      "id": "0107a61a",
      "metadata": {
        "colab": {
          "base_uri": "https://localhost:8080/"
        },
        "id": "0107a61a",
        "outputId": "85e63032-5e1f-426e-f259-30fea19250e2"
      },
      "outputs": [
        {
          "output_type": "stream",
          "name": "stdout",
          "text": [
            "[1 2 3 4 5 6 7]\n"
          ]
        },
        {
          "output_type": "execute_result",
          "data": {
            "text/plain": [
              "numpy.ndarray"
            ]
          },
          "metadata": {},
          "execution_count": 4
        }
      ],
      "source": [
        "## creat a 'N-Dimentional array'\n",
        "\n",
        "import numpy as np\n",
        "\n",
        "a=[1,2,3,4,5,6,7]\n",
        "na = np.array(a)\n",
        "print(na)\n",
        "type(na)"
      ]
    },
    {
      "cell_type": "code",
      "execution_count": 5,
      "id": "945925ee",
      "metadata": {
        "colab": {
          "base_uri": "https://localhost:8080/"
        },
        "id": "945925ee",
        "outputId": "c50cb9ad-cc2f-4b29-8b8e-d938d1029744"
      },
      "outputs": [
        {
          "output_type": "stream",
          "name": "stdout",
          "text": [
            "[1 2 3 4 5 6 7]\n"
          ]
        },
        {
          "output_type": "execute_result",
          "data": {
            "text/plain": [
              "numpy.ndarray"
            ]
          },
          "metadata": {},
          "execution_count": 5
        }
      ],
      "source": [
        "a=(1,2,3,4,5,6,7)\n",
        "na = np.array(a)            # numpy array output is in list always\n",
        "print(na)\n",
        "type(na)"
      ]
    },
    {
      "cell_type": "code",
      "execution_count": 5,
      "id": "f458c061",
      "metadata": {
        "id": "f458c061"
      },
      "outputs": [],
      "source": []
    },
    {
      "cell_type": "code",
      "execution_count": 6,
      "id": "2cd14835",
      "metadata": {
        "colab": {
          "base_uri": "https://localhost:8080/"
        },
        "id": "2cd14835",
        "outputId": "ed25581a-5b21-4deb-f270-ab7714f71f42"
      },
      "outputs": [
        {
          "output_type": "stream",
          "name": "stdout",
          "text": [
            "[1 2 3 4 5 6 7]\n",
            "<class 'numpy.ndarray'>\n",
            "------attributes-----\n",
            "(7,)\n",
            "7\n",
            "1\n",
            "int64\n",
            "8\n"
          ]
        }
      ],
      "source": [
        "## attributes of ndarray\n",
        "a=(1,2,3,4,5,6,7)\n",
        "n = np.array(a)\n",
        "print(n)\n",
        "print(type(n))\n",
        "print('------attributes-----')\n",
        "print(n.shape)                  #gives no of (rows,column)\n",
        "print(n.size)                   #no of elements\n",
        "print(n.ndim)                   # gives dimensions\n",
        "print(n.dtype)                  #deta type int ,float\n",
        "print(n.itemsize)               # for storing 10 how many bytes are using"
      ]
    },
    {
      "cell_type": "code",
      "execution_count": 6,
      "id": "94a9bdba",
      "metadata": {
        "id": "94a9bdba"
      },
      "outputs": [],
      "source": []
    },
    {
      "cell_type": "code",
      "execution_count": 7,
      "id": "2387a6ca",
      "metadata": {
        "colab": {
          "base_uri": "https://localhost:8080/"
        },
        "id": "2387a6ca",
        "outputId": "6344b2e4-789c-41eb-dfaf-6a839e2a2223"
      },
      "outputs": [
        {
          "output_type": "stream",
          "name": "stdout",
          "text": [
            "['1' '10.5' '52' 'manish']\n",
            "------attributes-----\n",
            "(4,)\n",
            "4\n",
            "1\n",
            "<U32\n",
            "128\n"
          ]
        }
      ],
      "source": [
        "st=[1,10.5,52,'manish']\n",
        "p=np.array(st)\n",
        "print(p)\n",
        "print('------attributes-----')\n",
        "print(p.shape)                  \n",
        "print(p.size)                  \n",
        "print(p.ndim)                           ### 1 d array\n",
        "print(p.dtype)                  \n",
        "print(p.itemsize)               "
      ]
    },
    {
      "cell_type": "code",
      "execution_count": 8,
      "id": "f094c471",
      "metadata": {
        "colab": {
          "base_uri": "https://localhost:8080/"
        },
        "id": "f094c471",
        "outputId": "e49f043d-4ad7-4183-96c5-ec78a8f70f6a"
      },
      "outputs": [
        {
          "output_type": "stream",
          "name": "stdout",
          "text": [
            "[[1 2 3]\n",
            " [5 4 8]\n",
            " [5 6 5]]\n",
            "------attributes-----\n",
            "(3, 3)\n",
            "9\n",
            "2\n",
            "int64\n",
            "8\n"
          ]
        }
      ],
      "source": [
        "st=[[1,2,3],[5,4,8],[5,6,5]]\n",
        "p=np.array(st)\n",
        "print(p)\n",
        "print('------attributes-----')\n",
        "print(p.shape)                  \n",
        "print(p.size)                  \n",
        "print(p.ndim)                           ##2d array       \n",
        "print(p.dtype)                  \n",
        "print(p.itemsize)   "
      ]
    },
    {
      "cell_type": "code",
      "execution_count": 9,
      "id": "9a600bee",
      "metadata": {
        "colab": {
          "base_uri": "https://localhost:8080/"
        },
        "id": "9a600bee",
        "outputId": "55a549c0-7677-45ee-a96f-1d9e779e17a7"
      },
      "outputs": [
        {
          "output_type": "execute_result",
          "data": {
            "text/plain": [
              "array([[0., 0., 0., 0.],\n",
              "       [0., 0., 0., 0.],\n",
              "       [0., 0., 0., 0.],\n",
              "       [0., 0., 0., 0.]])"
            ]
          },
          "metadata": {},
          "execution_count": 9
        }
      ],
      "source": [
        "np.zeros((4,4))"
      ]
    },
    {
      "cell_type": "code",
      "execution_count": 10,
      "id": "b05d4530",
      "metadata": {
        "colab": {
          "base_uri": "https://localhost:8080/"
        },
        "id": "b05d4530",
        "outputId": "199bdd12-0719-44e2-8f9e-821472cda9fe"
      },
      "outputs": [
        {
          "output_type": "execute_result",
          "data": {
            "text/plain": [
              "array([[1., 1., 1., 1.],\n",
              "       [1., 1., 1., 1.],\n",
              "       [1., 1., 1., 1.],\n",
              "       [1., 1., 1., 1.]])"
            ]
          },
          "metadata": {},
          "execution_count": 10
        }
      ],
      "source": [
        "np.ones((4,4))"
      ]
    },
    {
      "cell_type": "code",
      "execution_count": 11,
      "id": "1a3f545d",
      "metadata": {
        "colab": {
          "base_uri": "https://localhost:8080/"
        },
        "id": "1a3f545d",
        "outputId": "07dca05d-97d1-45ac-8299-9e67a2ca7c35"
      },
      "outputs": [
        {
          "output_type": "execute_result",
          "data": {
            "text/plain": [
              "array([ 0,  2,  4,  6,  8, 10, 12, 14, 16, 18])"
            ]
          },
          "metadata": {},
          "execution_count": 11
        }
      ],
      "source": [
        "np.arange(0,20,2)"
      ]
    },
    {
      "cell_type": "code",
      "execution_count": 12,
      "id": "d33d5667",
      "metadata": {
        "colab": {
          "base_uri": "https://localhost:8080/"
        },
        "id": "d33d5667",
        "outputId": "f058826b-7381-4f96-faf4-5adf1a1d58db"
      },
      "outputs": [
        {
          "output_type": "execute_result",
          "data": {
            "text/plain": [
              "array([ 0., 10., 20.])"
            ]
          },
          "metadata": {},
          "execution_count": 12
        }
      ],
      "source": [
        "np.linspace(0,20,3)             #bet 0,20    3- means 3 nos of equal space "
      ]
    },
    {
      "cell_type": "code",
      "execution_count": 12,
      "id": "155f357a",
      "metadata": {
        "id": "155f357a"
      },
      "outputs": [],
      "source": []
    },
    {
      "cell_type": "code",
      "execution_count": 13,
      "id": "d64c2ba5",
      "metadata": {
        "colab": {
          "base_uri": "https://localhost:8080/"
        },
        "id": "d64c2ba5",
        "outputId": "9b18c77b-1f78-4196-ae7b-16da843f6f97"
      },
      "outputs": [
        {
          "output_type": "stream",
          "name": "stdout",
          "text": [
            "140455229561040\n",
            "140455229562096\n",
            "140455229561040\n",
            "140455229251632\n",
            "[1 2 3 4 5]\n",
            "[1 2 3 4 5]\n",
            "[1 2 3 4 5]\n",
            "[1 2 3 4 5]\n"
          ]
        }
      ],
      "source": [
        "\n",
        "## copy\n",
        "\n",
        "\n",
        "a=np.array([1,2,3,4,5])\n",
        "print(id(a))\n",
        "b=np.array([1,2,3,4,5])\n",
        "print(id(b))\n",
        "c=a                                                                 ### take a look again\n",
        "d=a.copy()\n",
        "print(id(c))\n",
        "print(id(d))\n",
        "print(a)\n",
        "print(b)\n",
        "print(c)\n",
        "print(d)"
      ]
    },
    {
      "cell_type": "code",
      "execution_count": 13,
      "id": "89a9a46b",
      "metadata": {
        "id": "89a9a46b"
      },
      "outputs": [],
      "source": []
    },
    {
      "cell_type": "code",
      "execution_count": 14,
      "id": "852617b7",
      "metadata": {
        "colab": {
          "base_uri": "https://localhost:8080/"
        },
        "id": "852617b7",
        "outputId": "df523a81-e408-4f29-c2c6-88998f639dfe"
      },
      "outputs": [
        {
          "output_type": "stream",
          "name": "stdout",
          "text": [
            "[11 22 33 44]\n",
            "[ 9 18 27 36]\n",
            "[ 10  40  90 160]\n",
            "[10. 10. 10. 10.]\n"
          ]
        }
      ],
      "source": [
        "### arithmatic operation\n",
        "a=np.array([10,20,30,40])\n",
        "b=np.array([1,2,3,4])\n",
        "print(a+b)\n",
        "print(a-b)\n",
        "print(a*b)\n",
        "print(a/b)\n",
        "\n"
      ]
    },
    {
      "cell_type": "code",
      "execution_count": 15,
      "id": "5f71c934",
      "metadata": {
        "colab": {
          "base_uri": "https://localhost:8080/"
        },
        "id": "5f71c934",
        "outputId": "172ae111-299a-43c5-ca16-3a54d5f7fc6e"
      },
      "outputs": [
        {
          "output_type": "stream",
          "name": "stdout",
          "text": [
            "[[ 1  2  3]\n",
            " [ 4  5  6]\n",
            " [ 7  8  9]\n",
            " [10 11 12]]\n",
            "[ 1  2  3  4  5  6  7  8  9 10 11 12]\n",
            "None\n",
            "[[ 1  2  3]\n",
            " [ 4  5  6]\n",
            " [ 7  8  9]\n",
            " [10 11 12]]\n",
            "(4, 3)\n"
          ]
        }
      ],
      "source": [
        "## reshape and resize\n",
        "\n",
        "a=np.array([1,2,3,4,5,6,7,8,9,10,11,12])\n",
        "print(a.reshape(4,3))                   # change shape but original will be remails same\n",
        "print(a)\n",
        "\n",
        "print(a.resize(4,3))                  # it will change the original shape\n",
        "print(a)\n",
        "print(a.shape)"
      ]
    },
    {
      "cell_type": "code",
      "execution_count": 16,
      "id": "3f360ec3",
      "metadata": {
        "colab": {
          "base_uri": "https://localhost:8080/"
        },
        "id": "3f360ec3",
        "outputId": "85399c9a-3271-4df4-e770-2c99db95a71e"
      },
      "outputs": [
        {
          "output_type": "stream",
          "name": "stdout",
          "text": [
            "[[ 5  7  8]\n",
            " [ 6 13  4]\n",
            " [ 8 15 32]]\n",
            "[[1 2 3]\n",
            " [4 5 6]\n",
            " [7 8 9]]\n",
            "[[  5  14  24]\n",
            " [ 24  65  24]\n",
            " [ 56 120 288]]\n"
          ]
        }
      ],
      "source": [
        "## 2 d array multiplication\n",
        "\n",
        "a=np.array([5,7,8,6,13,4,8,15,32])\n",
        "b=np.array([1,2,3,4,5,6,7,8,9])\n",
        "a.resize(3,3)\n",
        "print(a)\n",
        "b.resize(3,3)\n",
        "print(b)\n",
        "print(a*b)"
      ]
    },
    {
      "cell_type": "code",
      "execution_count": 16,
      "id": "c329c2aa",
      "metadata": {
        "id": "c329c2aa"
      },
      "outputs": [],
      "source": [
        "\n"
      ]
    },
    {
      "cell_type": "code",
      "execution_count": 16,
      "id": "471f63a5",
      "metadata": {
        "id": "471f63a5"
      },
      "outputs": [],
      "source": [
        "\n"
      ]
    },
    {
      "cell_type": "code",
      "source": [],
      "metadata": {
        "id": "d-KPAm2SmWZp"
      },
      "id": "d-KPAm2SmWZp",
      "execution_count": 16,
      "outputs": []
    }
  ],
  "metadata": {
    "kernelspec": {
      "display_name": "Python 3 (ipykernel)",
      "language": "python",
      "name": "python3"
    },
    "language_info": {
      "codemirror_mode": {
        "name": "ipython",
        "version": 3
      },
      "file_extension": ".py",
      "mimetype": "text/x-python",
      "name": "python",
      "nbconvert_exporter": "python",
      "pygments_lexer": "ipython3",
      "version": "3.9.12"
    },
    "colab": {
      "provenance": [],
      "include_colab_link": true
    }
  },
  "nbformat": 4,
  "nbformat_minor": 5
}