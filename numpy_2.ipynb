{
  "cells": [
    {
      "cell_type": "markdown",
      "metadata": {
        "id": "view-in-github",
        "colab_type": "text"
      },
      "source": [
        "<a href=\"https://colab.research.google.com/github/Mparate1234/Py_stat_DS_ML/blob/main/numpy_2.ipynb\" target=\"_parent\"><img src=\"https://colab.research.google.com/assets/colab-badge.svg\" alt=\"Open In Colab\"/></a>"
      ]
    },
    {
      "cell_type": "markdown",
      "id": "ab3bf0c0",
      "metadata": {
        "id": "ab3bf0c0"
      },
      "source": [
        "#                      11 june "
      ]
    },
    {
      "cell_type": "code",
      "execution_count": null,
      "id": "cf12383d",
      "metadata": {
        "id": "cf12383d"
      },
      "outputs": [],
      "source": [
        "## unoversal functions"
      ]
    },
    {
      "cell_type": "code",
      "execution_count": null,
      "id": "d3450e43",
      "metadata": {
        "id": "d3450e43"
      },
      "outputs": [],
      "source": []
    },
    {
      "cell_type": "code",
      "execution_count": 1,
      "id": "e9b7158a",
      "metadata": {
        "colab": {
          "base_uri": "https://localhost:8080/"
        },
        "id": "e9b7158a",
        "outputId": "28f059cc-03a6-4b8e-ea87-5f604afaa165"
      },
      "outputs": [
        {
          "output_type": "stream",
          "name": "stdout",
          "text": [
            "[[0 1 2]\n",
            " [3 4 5]\n",
            " [6 7 8]]\n",
            "[[1. 1. 1.]\n",
            " [1. 1. 1.]\n",
            " [1. 1. 1.]]\n",
            "[[ 3.  3.  3.]\n",
            " [12. 12. 12.]\n",
            " [21. 21. 21.]]\n"
          ]
        }
      ],
      "source": [
        "## matrix product\n",
        "\n",
        "import numpy as np\n",
        "a=np.arange(0,9).reshape(3,3)\n",
        "\n",
        "b=np.ones((3,3))\n",
        "print(a)\n",
        "print(b)\n",
        "print(np.dot(a,b))          ## this is DOT product"
      ]
    },
    {
      "cell_type": "code",
      "execution_count": 2,
      "id": "e80515bc",
      "metadata": {
        "colab": {
          "base_uri": "https://localhost:8080/"
        },
        "id": "e80515bc",
        "outputId": "eebd4f0a-2752-4033-c765-0404207ea6dc"
      },
      "outputs": [
        {
          "output_type": "execute_result",
          "data": {
            "text/plain": [
              "array([1., 5., 7., 9.])"
            ]
          },
          "metadata": {},
          "execution_count": 2
        }
      ],
      "source": [
        "np.sqrt([1,25,49,81])              # square root\n"
      ]
    },
    {
      "cell_type": "code",
      "execution_count": 3,
      "id": "602b628b",
      "metadata": {
        "colab": {
          "base_uri": "https://localhost:8080/"
        },
        "id": "602b628b",
        "outputId": "4322a722-e500-489c-8db1-f71d181f1cd1"
      },
      "outputs": [
        {
          "output_type": "stream",
          "name": "stdout",
          "text": [
            "[0 1 2 3 4 5 6]\n"
          ]
        },
        {
          "output_type": "execute_result",
          "data": {
            "text/plain": [
              "array([0, 1, 2, 0, 1, 2, 0])"
            ]
          },
          "metadata": {},
          "execution_count": 3
        }
      ],
      "source": [
        "## gives the remainder\n",
        "print(np.arange(7))\n",
        "np.mod(np.arange(7),3)"
      ]
    },
    {
      "cell_type": "code",
      "execution_count": 4,
      "id": "a014e584",
      "metadata": {
        "colab": {
          "base_uri": "https://localhost:8080/"
        },
        "id": "a014e584",
        "outputId": "a322465d-450a-4746-fd42-e3a300903017"
      },
      "outputs": [
        {
          "output_type": "stream",
          "name": "stderr",
          "text": [
            "<ipython-input-4-f6e7c0610b57>:1: RuntimeWarning: divide by zero encountered in log\n",
            "  np.log(0)\n"
          ]
        },
        {
          "output_type": "execute_result",
          "data": {
            "text/plain": [
              "-inf"
            ]
          },
          "metadata": {},
          "execution_count": 4
        }
      ],
      "source": [
        "np.log(0)"
      ]
    },
    {
      "cell_type": "code",
      "execution_count": 37,
      "id": "043edb43",
      "metadata": {
        "colab": {
          "base_uri": "https://localhost:8080/",
          "height": 166
        },
        "id": "043edb43",
        "outputId": "ca4f7e09-fb13-4ca0-8581-63897ccfff28"
      },
      "outputs": [
        {
          "output_type": "error",
          "ename": "NameError",
          "evalue": "ignored",
          "traceback": [
            "\u001b[0;31m---------------------------------------------------------------------------\u001b[0m",
            "\u001b[0;31mNameError\u001b[0m                                 Traceback (most recent call last)",
            "\u001b[0;32m<ipython-input-37-3992ff83a243>\u001b[0m in \u001b[0;36m<module>\u001b[0;34m\u001b[0m\n\u001b[0;32m----> 1\u001b[0;31m \u001b[0mnp\u001b[0m\u001b[0;34m.\u001b[0m\u001b[0mlog\u001b[0m\u001b[0;34m(\u001b[0m\u001b[0minf\u001b[0m\u001b[0;34m)\u001b[0m\u001b[0;34m\u001b[0m\u001b[0;34m\u001b[0m\u001b[0m\n\u001b[0m",
            "\u001b[0;31mNameError\u001b[0m: name 'inf' is not defined"
          ]
        }
      ],
      "source": [
        "np.log(inf)"
      ]
    },
    {
      "cell_type": "code",
      "execution_count": 38,
      "id": "8ea94254",
      "metadata": {
        "colab": {
          "base_uri": "https://localhost:8080/"
        },
        "id": "8ea94254",
        "outputId": "94b262e8-026e-4297-8b13-e385a4a5d0e8"
      },
      "outputs": [
        {
          "output_type": "execute_result",
          "data": {
            "text/plain": [
              "array([0.        , 0.69314718, 1.09861229, 1.38629436, 1.60943791])"
            ]
          },
          "metadata": {},
          "execution_count": 38
        }
      ],
      "source": [
        "np.log([1,2,3,4,5])"
      ]
    },
    {
      "cell_type": "code",
      "execution_count": 38,
      "id": "da697eeb",
      "metadata": {
        "id": "da697eeb"
      },
      "outputs": [],
      "source": []
    },
    {
      "cell_type": "code",
      "execution_count": 39,
      "id": "c6717a14",
      "metadata": {
        "colab": {
          "base_uri": "https://localhost:8080/"
        },
        "id": "c6717a14",
        "outputId": "02e578fd-7dc5-4442-fb5b-296ad5baf3c4"
      },
      "outputs": [
        {
          "output_type": "stream",
          "name": "stdout",
          "text": [
            "45\n",
            "1\n",
            "9\n",
            "5.0\n",
            "2.581988897471611\n"
          ]
        }
      ],
      "source": [
        "## aggregate functions\n",
        "\n",
        "a=np.array([1,2,3,4,5,6,7,8,9])\n",
        "print(a.sum())\n",
        "print(a.min())\n",
        "print(a.max())\n",
        "print(a.mean())\n",
        "print(a.std())"
      ]
    },
    {
      "cell_type": "code",
      "execution_count": 40,
      "id": "6a191253",
      "metadata": {
        "colab": {
          "base_uri": "https://localhost:8080/"
        },
        "id": "6a191253",
        "outputId": "e583442e-26bd-407b-a9ce-f805120077a1"
      },
      "outputs": [
        {
          "output_type": "execute_result",
          "data": {
            "text/plain": [
              "True"
            ]
          },
          "metadata": {},
          "execution_count": 40
        }
      ],
      "source": [
        "## logical functions\n",
        "\n",
        "np.all([[True,True],[True,True]])"
      ]
    },
    {
      "cell_type": "code",
      "execution_count": 41,
      "id": "357cf213",
      "metadata": {
        "colab": {
          "base_uri": "https://localhost:8080/"
        },
        "id": "357cf213",
        "outputId": "343bd0ca-9ae0-4336-b7ef-32cb525100a3"
      },
      "outputs": [
        {
          "output_type": "execute_result",
          "data": {
            "text/plain": [
              "False"
            ]
          },
          "metadata": {},
          "execution_count": 41
        }
      ],
      "source": [
        "np.all([[True,True],[True,False]])            ## if any of the value is fales then it gives false"
      ]
    },
    {
      "cell_type": "code",
      "execution_count": 36,
      "id": "b23383d2",
      "metadata": {
        "colab": {
          "base_uri": "https://localhost:8080/"
        },
        "id": "b23383d2",
        "outputId": "2939c0b6-d195-4bd6-c91a-73359e959f46"
      },
      "outputs": [
        {
          "output_type": "execute_result",
          "data": {
            "text/plain": [
              "array([[ True,  True],\n",
              "       [ True, False],\n",
              "       [ True, False]])"
            ]
          },
          "metadata": {},
          "execution_count": 36
        }
      ],
      "source": [
        "np.array([[True,True],[True,False],[True,False]])"
      ]
    },
    {
      "cell_type": "code",
      "execution_count": 42,
      "id": "d96386c2",
      "metadata": {
        "colab": {
          "base_uri": "https://localhost:8080/"
        },
        "id": "d96386c2",
        "outputId": "f841ad57-e8ae-4a00-ca31-fda0d5d54030"
      },
      "outputs": [
        {
          "output_type": "execute_result",
          "data": {
            "text/plain": [
              "False"
            ]
          },
          "metadata": {},
          "execution_count": 42
        }
      ],
      "source": [
        "np.all([-3,-2,0,1,5])       # 0 is always considered as false"
      ]
    },
    {
      "cell_type": "code",
      "execution_count": 6,
      "id": "09001910",
      "metadata": {
        "colab": {
          "base_uri": "https://localhost:8080/"
        },
        "id": "09001910",
        "outputId": "ac839e71-8e48-4f7f-9d77-05097c5af5d1"
      },
      "outputs": [
        {
          "output_type": "execute_result",
          "data": {
            "text/plain": [
              "True"
            ]
          },
          "metadata": {},
          "execution_count": 6
        }
      ],
      "source": [
        "np.all([-3,-2,1,5])  "
      ]
    },
    {
      "cell_type": "code",
      "execution_count": 7,
      "id": "011ec548",
      "metadata": {
        "colab": {
          "base_uri": "https://localhost:8080/"
        },
        "id": "011ec548",
        "outputId": "1f141615-db9b-4d6c-bc33-133223861967"
      },
      "outputs": [
        {
          "output_type": "execute_result",
          "data": {
            "text/plain": [
              "True"
            ]
          },
          "metadata": {},
          "execution_count": 7
        }
      ],
      "source": [
        "np.any([1,0,2,0,5])      # if atleast one value is not zero the it's true"
      ]
    },
    {
      "cell_type": "code",
      "execution_count": 35,
      "id": "458258a5",
      "metadata": {
        "colab": {
          "base_uri": "https://localhost:8080/"
        },
        "id": "458258a5",
        "outputId": "f6054673-cbb4-498d-eac8-c692f9927c77"
      },
      "outputs": [
        {
          "output_type": "stream",
          "name": "stdout",
          "text": [
            "[[ True  True]\n",
            " [ True  True]\n",
            " [ True False]]\n"
          ]
        },
        {
          "output_type": "execute_result",
          "data": {
            "text/plain": [
              "array([ True, False])"
            ]
          },
          "metadata": {},
          "execution_count": 35
        }
      ],
      "source": [
        "## all will check for all values\n",
        "print(np.array([[True,True],[True,True],[True,False]]))\n",
        "np.all(np.array([[True,True],[True,True],[True,False]]),axis=0)       # axis = 0 means column checking columns are true or false"
      ]
    },
    {
      "cell_type": "code",
      "execution_count": 9,
      "id": "f821346c",
      "metadata": {
        "colab": {
          "base_uri": "https://localhost:8080/"
        },
        "id": "f821346c",
        "outputId": "fd70b125-19b5-4ee9-cab3-1632dbbce4a3"
      },
      "outputs": [
        {
          "output_type": "stream",
          "name": "stdout",
          "text": [
            "[[ True  True]\n",
            " [ True  True]\n",
            " [ True False]]\n"
          ]
        },
        {
          "output_type": "execute_result",
          "data": {
            "text/plain": [
              "array([ True,  True, False])"
            ]
          },
          "metadata": {},
          "execution_count": 9
        }
      ],
      "source": [
        "print(np.array([[True,True],[True,True],[True,False]]))\n",
        "np.all(np.array([[True,True],[True,True],[True,False]]),axis=1)        ## axis=1 means rows checking rows are true or false"
      ]
    },
    {
      "cell_type": "code",
      "execution_count": 10,
      "id": "3b85995c",
      "metadata": {
        "colab": {
          "base_uri": "https://localhost:8080/"
        },
        "id": "3b85995c",
        "outputId": "c3c856d5-8c18-4974-dfff-cfb8bf08db1a"
      },
      "outputs": [
        {
          "output_type": "stream",
          "name": "stdout",
          "text": [
            "[[ True  True]\n",
            " [ True  True]\n",
            " [ True False]]\n"
          ]
        },
        {
          "output_type": "execute_result",
          "data": {
            "text/plain": [
              "array([ True,  True])"
            ]
          },
          "metadata": {},
          "execution_count": 10
        }
      ],
      "source": [
        "## any will check for  atleast one true values\n",
        "print(np.array([[True,True],[True,True],[True,False]]))\n",
        "\n",
        "np.any(np.array([[True,True],[True,True],[True,False]]),axis=0)          "
      ]
    },
    {
      "cell_type": "code",
      "execution_count": 11,
      "id": "a7110a1f",
      "metadata": {
        "colab": {
          "base_uri": "https://localhost:8080/"
        },
        "id": "a7110a1f",
        "outputId": "9b539d5f-1c52-4468-9679-6bab049591e7"
      },
      "outputs": [
        {
          "output_type": "stream",
          "name": "stdout",
          "text": [
            "[[ True  True]\n",
            " [False  True]\n",
            " [False False]]\n"
          ]
        },
        {
          "output_type": "execute_result",
          "data": {
            "text/plain": [
              "array([ True,  True, False])"
            ]
          },
          "metadata": {},
          "execution_count": 11
        }
      ],
      "source": [
        "\n",
        "print(np.array([[True,True],[False,True],[False,False]]))\n",
        "np.any(np.array([[True,True],[False,True],[False,False]]),axis=1)          # if any value is false then it will print false "
      ]
    },
    {
      "cell_type": "code",
      "execution_count": 11,
      "id": "422e8f2f",
      "metadata": {
        "id": "422e8f2f"
      },
      "outputs": [],
      "source": []
    },
    {
      "cell_type": "code",
      "execution_count": 12,
      "id": "3af3aba8",
      "metadata": {
        "id": "3af3aba8"
      },
      "outputs": [],
      "source": [
        "## logic functions"
      ]
    },
    {
      "cell_type": "code",
      "execution_count": 13,
      "id": "631b6958",
      "metadata": {
        "colab": {
          "base_uri": "https://localhost:8080/"
        },
        "id": "631b6958",
        "outputId": "cd3162a0-b0a5-417f-8595-69bd7d6a9fef"
      },
      "outputs": [
        {
          "output_type": "stream",
          "name": "stdout",
          "text": [
            "[False False  True  True False]\n",
            "[ True  True  True  True  True]\n",
            "[ True  True False False False]\n"
          ]
        }
      ],
      "source": [
        "x=np.array([0,1,2,3,4])\n",
        "print(np.logical_and(x>1,x<4))        # if both the true only then true\n",
        "print(np.logical_or(x>1,x<4))         # atlest one condition should be true\n",
        "print(np.logical_not(x>1,x<4))        ## revers the outcome"
      ]
    },
    {
      "cell_type": "code",
      "execution_count": 13,
      "id": "03da8462",
      "metadata": {
        "id": "03da8462"
      },
      "outputs": [],
      "source": []
    },
    {
      "cell_type": "code",
      "execution_count": 13,
      "id": "9a021ec5",
      "metadata": {
        "id": "9a021ec5"
      },
      "outputs": [],
      "source": []
    },
    {
      "cell_type": "code",
      "execution_count": 14,
      "id": "1a75de1d",
      "metadata": {
        "id": "1a75de1d"
      },
      "outputs": [],
      "source": [
        "########                              indexing  "
      ]
    },
    {
      "cell_type": "code",
      "execution_count": 15,
      "id": "9ab95a9a",
      "metadata": {
        "colab": {
          "base_uri": "https://localhost:8080/"
        },
        "id": "9ab95a9a",
        "outputId": "26e98db3-30c1-4e37-ae1c-04fca90b425b"
      },
      "outputs": [
        {
          "output_type": "stream",
          "name": "stdout",
          "text": [
            "[21 22 23 24 25]\n",
            "21\n",
            "21\n",
            "[22 23]\n",
            "[22 23]\n"
          ]
        }
      ],
      "source": [
        "import numpy as np\n",
        "arr=np.arange(21,26)\n",
        "print(arr)\n",
        "print(arr[0])                          ## i d indexing\n",
        "print(arr[-5])\n",
        "print(arr[1:3])\n",
        "print(arr[-4:-2])"
      ]
    },
    {
      "cell_type": "code",
      "execution_count": 15,
      "id": "940af73c",
      "metadata": {
        "id": "940af73c"
      },
      "outputs": [],
      "source": []
    },
    {
      "cell_type": "code",
      "execution_count": 16,
      "id": "8fa10e5f",
      "metadata": {
        "id": "8fa10e5f"
      },
      "outputs": [],
      "source": [
        "  ###      multiple dimention indexing\n",
        "    \n",
        "    \n"
      ]
    },
    {
      "cell_type": "code",
      "execution_count": 17,
      "id": "958a35f5",
      "metadata": {
        "colab": {
          "base_uri": "https://localhost:8080/"
        },
        "id": "958a35f5",
        "outputId": "04d4d695-7386-4704-a484-5cd4fbc0bbf3"
      },
      "outputs": [
        {
          "output_type": "stream",
          "name": "stdout",
          "text": [
            "[[21 22 23]\n",
            " [24 25 26]\n",
            " [27 28 29]]\n",
            "21\n",
            "27\n",
            "22\n",
            "26\n",
            "21 27 22 26\n"
          ]
        }
      ],
      "source": [
        "import numpy as np\n",
        "arr=np.arange(21,30).reshape(3,3)\n",
        "print(arr)\n",
        "\n",
        "print(arr[0,0])\n",
        "print(arr[2,0])\n",
        "print(arr[0,1])\n",
        "print(arr[1,2])\n",
        "\n",
        "print(arr[0,0],arr[2,0],arr[0,1],arr[1,2])\n"
      ]
    },
    {
      "cell_type": "code",
      "execution_count": 17,
      "id": "a715bd30",
      "metadata": {
        "id": "a715bd30"
      },
      "outputs": [],
      "source": []
    },
    {
      "cell_type": "code",
      "execution_count": 18,
      "id": "d2bcfe62",
      "metadata": {
        "colab": {
          "base_uri": "https://localhost:8080/"
        },
        "id": "d2bcfe62",
        "outputId": "2fbe3f8b-4ce8-44ec-db40-46c84e8a1669"
      },
      "outputs": [
        {
          "output_type": "stream",
          "name": "stdout",
          "text": [
            "[[21 22 23]\n",
            " [24 25 26]\n",
            " [27 28 29]]\n",
            "-----------\n",
            "[[21 22]\n",
            " [24 25]]\n",
            "[[25]\n",
            " [28]]\n"
          ]
        }
      ],
      "source": [
        "import numpy as np\n",
        "arr=np.arange(21,30).reshape(3,3)\n",
        "print(arr)\n",
        "print('-----------')\n",
        "print(arr[0:2,0:2])\n",
        "print(arr[1:3,1:2])"
      ]
    },
    {
      "cell_type": "code",
      "execution_count": 19,
      "id": "d10286c4",
      "metadata": {
        "colab": {
          "base_uri": "https://localhost:8080/"
        },
        "id": "d10286c4",
        "outputId": "373f4f24-61a9-4de8-ce4c-4d579f083cec"
      },
      "outputs": [
        {
          "output_type": "stream",
          "name": "stdout",
          "text": [
            "[[22 23]\n",
            " [25 26]]\n"
          ]
        }
      ],
      "source": [
        "print(arr[0:2,1:3])"
      ]
    },
    {
      "cell_type": "code",
      "execution_count": 19,
      "id": "03919927",
      "metadata": {
        "id": "03919927"
      },
      "outputs": [],
      "source": []
    },
    {
      "cell_type": "code",
      "execution_count": 20,
      "id": "12398bf6",
      "metadata": {
        "colab": {
          "base_uri": "https://localhost:8080/"
        },
        "id": "12398bf6",
        "outputId": "d27f8de2-094c-48f3-dee3-539a59c1855a"
      },
      "outputs": [
        {
          "output_type": "stream",
          "name": "stdout",
          "text": [
            "[[21 22 23]\n",
            " [24 25 26]\n",
            " [27 28 29]]\n"
          ]
        }
      ],
      "source": [
        "### array transformation\n",
        "\n",
        "# reshape and resize are allready explained\n",
        "import numpy as np\n",
        "arr=np.arange(21,30).reshape(3,3)                         \n",
        "print(arr)"
      ]
    },
    {
      "cell_type": "code",
      "execution_count": 21,
      "id": "9d3b1423",
      "metadata": {
        "colab": {
          "base_uri": "https://localhost:8080/"
        },
        "id": "9d3b1423",
        "outputId": "6c284727-e08a-4a48-df49-b16ead3e8705"
      },
      "outputs": [
        {
          "output_type": "execute_result",
          "data": {
            "text/plain": [
              "array([21, 22, 23, 24, 25, 26, 27, 28, 29])"
            ]
          },
          "metadata": {},
          "execution_count": 21
        }
      ],
      "source": [
        "arr.ravel()          ##### ravel -removes dimention, convert the 2d array in 1d array    ## original array will not be change"
      ]
    },
    {
      "cell_type": "code",
      "execution_count": 22,
      "id": "c43c915b",
      "metadata": {
        "colab": {
          "base_uri": "https://localhost:8080/"
        },
        "id": "c43c915b",
        "outputId": "7282ccb9-670d-414d-f93f-7b95f04e3648"
      },
      "outputs": [
        {
          "output_type": "execute_result",
          "data": {
            "text/plain": [
              "array([[21, 24, 27],\n",
              "       [22, 25, 28],\n",
              "       [23, 26, 29]])"
            ]
          },
          "metadata": {},
          "execution_count": 22
        }
      ],
      "source": [
        "\n",
        "arr.transpose()             ## it will convetr array transpose    ## original array will not be change"
      ]
    },
    {
      "cell_type": "code",
      "execution_count": 22,
      "id": "0c306b2d",
      "metadata": {
        "id": "0c306b2d"
      },
      "outputs": [],
      "source": []
    },
    {
      "cell_type": "code",
      "execution_count": 23,
      "id": "798b2072",
      "metadata": {
        "colab": {
          "base_uri": "https://localhost:8080/"
        },
        "id": "798b2072",
        "outputId": "c4d95c40-458f-4665-e156-e454f81a6dd2"
      },
      "outputs": [
        {
          "output_type": "stream",
          "name": "stdout",
          "text": [
            "[[21 22 23]\n",
            " [24 25 26]\n",
            " [27 28 29]]\n",
            "[[51 52 53]\n",
            " [54 55 56]\n",
            " [57 58 59]]\n"
          ]
        }
      ],
      "source": [
        "#concatenate\n",
        "\n",
        "a=np.arange(21,30).reshape(3,3)                         \n",
        "print(a)\n",
        "b=np.arange(51,60).reshape(3,3)\n",
        "print(b)"
      ]
    },
    {
      "cell_type": "code",
      "execution_count": 24,
      "id": "47e1d63b",
      "metadata": {
        "colab": {
          "base_uri": "https://localhost:8080/"
        },
        "id": "47e1d63b",
        "outputId": "efa3f066-9897-4db7-ab9b-3336697b6b26"
      },
      "outputs": [
        {
          "output_type": "execute_result",
          "data": {
            "text/plain": [
              "array([[21, 22, 23],\n",
              "       [24, 25, 26],\n",
              "       [27, 28, 29],\n",
              "       [51, 52, 53],\n",
              "       [54, 55, 56],\n",
              "       [57, 58, 59]])"
            ]
          },
          "metadata": {},
          "execution_count": 24
        }
      ],
      "source": [
        "np.concatenate((a,b))          ## defalut"
      ]
    },
    {
      "cell_type": "code",
      "execution_count": 25,
      "id": "422e718b",
      "metadata": {
        "colab": {
          "base_uri": "https://localhost:8080/"
        },
        "id": "422e718b",
        "outputId": "8c83d598-b4f1-4eeb-9e73-ba8d4b2f3b35"
      },
      "outputs": [
        {
          "output_type": "execute_result",
          "data": {
            "text/plain": [
              "array([[21, 22, 23],\n",
              "       [24, 25, 26],\n",
              "       [27, 28, 29],\n",
              "       [51, 52, 53],\n",
              "       [54, 55, 56],\n",
              "       [57, 58, 59]])"
            ]
          },
          "metadata": {},
          "execution_count": 25
        }
      ],
      "source": [
        "np.concatenate((a,b),axis=0)      #row wise"
      ]
    },
    {
      "cell_type": "code",
      "execution_count": 26,
      "id": "39fbbfb5",
      "metadata": {
        "colab": {
          "base_uri": "https://localhost:8080/"
        },
        "id": "39fbbfb5",
        "outputId": "9b78f552-5f3c-4a0c-8632-6abf41f6e932"
      },
      "outputs": [
        {
          "output_type": "execute_result",
          "data": {
            "text/plain": [
              "array([[21, 22, 23, 51, 52, 53],\n",
              "       [24, 25, 26, 54, 55, 56],\n",
              "       [27, 28, 29, 57, 58, 59]])"
            ]
          },
          "metadata": {},
          "execution_count": 26
        }
      ],
      "source": [
        "np.concatenate((a,b),axis=1)# column wise"
      ]
    },
    {
      "cell_type": "code",
      "execution_count": 26,
      "id": "228c4c0e",
      "metadata": {
        "id": "228c4c0e"
      },
      "outputs": [],
      "source": []
    },
    {
      "cell_type": "code",
      "execution_count": 27,
      "id": "c3c2a3ce",
      "metadata": {
        "colab": {
          "base_uri": "https://localhost:8080/"
        },
        "id": "c3c2a3ce",
        "outputId": "fa7f7dfb-f25d-4028-bffb-41e94d8a7f70"
      },
      "outputs": [
        {
          "output_type": "execute_result",
          "data": {
            "text/plain": [
              "array([[[21, 22, 23],\n",
              "        [24, 25, 26],\n",
              "        [27, 28, 29]],\n",
              "\n",
              "       [[51, 52, 53],\n",
              "        [54, 55, 56],\n",
              "        [57, 58, 59]]])"
            ]
          },
          "metadata": {},
          "execution_count": 27
        }
      ],
      "source": [
        "np.stack((a,b))"
      ]
    },
    {
      "cell_type": "code",
      "execution_count": 28,
      "id": "2d83754a",
      "metadata": {
        "colab": {
          "base_uri": "https://localhost:8080/"
        },
        "id": "2d83754a",
        "outputId": "1f64a082-11cf-4a60-84a4-860498977c26"
      },
      "outputs": [
        {
          "output_type": "execute_result",
          "data": {
            "text/plain": [
              "array([[21, 22, 23, 51, 52, 53],\n",
              "       [24, 25, 26, 54, 55, 56],\n",
              "       [27, 28, 29, 57, 58, 59]])"
            ]
          },
          "metadata": {},
          "execution_count": 28
        }
      ],
      "source": [
        "np.column_stack((a,b))"
      ]
    },
    {
      "cell_type": "code",
      "execution_count": 28,
      "id": "1ecb5577",
      "metadata": {
        "id": "1ecb5577"
      },
      "outputs": [],
      "source": []
    },
    {
      "cell_type": "code",
      "execution_count": 29,
      "id": "1829ab32",
      "metadata": {
        "colab": {
          "base_uri": "https://localhost:8080/"
        },
        "id": "1829ab32",
        "outputId": "d8909f33-ea2e-4eed-c942-c68b4a1956e2"
      },
      "outputs": [
        {
          "output_type": "execute_result",
          "data": {
            "text/plain": [
              "array([[21, 22, 23, 51, 52, 53],\n",
              "       [24, 25, 26, 54, 55, 56],\n",
              "       [27, 28, 29, 57, 58, 59]])"
            ]
          },
          "metadata": {},
          "execution_count": 29
        }
      ],
      "source": [
        "np.hstack((a,b))            ## horizontal stacking"
      ]
    },
    {
      "cell_type": "code",
      "execution_count": 30,
      "id": "1572a2cd",
      "metadata": {
        "colab": {
          "base_uri": "https://localhost:8080/"
        },
        "id": "1572a2cd",
        "outputId": "bd00ee55-0a7b-4afc-af68-93fd7da840cc"
      },
      "outputs": [
        {
          "output_type": "execute_result",
          "data": {
            "text/plain": [
              "array([[21, 22, 23],\n",
              "       [24, 25, 26],\n",
              "       [27, 28, 29],\n",
              "       [51, 52, 53],\n",
              "       [54, 55, 56],\n",
              "       [57, 58, 59]])"
            ]
          },
          "metadata": {},
          "execution_count": 30
        }
      ],
      "source": [
        "np.vstack((a,b))         # vertical stacking"
      ]
    },
    {
      "cell_type": "code",
      "execution_count": 30,
      "id": "bebc80ed",
      "metadata": {
        "id": "bebc80ed"
      },
      "outputs": [],
      "source": []
    },
    {
      "cell_type": "code",
      "execution_count": 31,
      "id": "7d136311",
      "metadata": {
        "id": "7d136311"
      },
      "outputs": [],
      "source": [
        "## split"
      ]
    },
    {
      "cell_type": "code",
      "execution_count": 32,
      "id": "1bc94918",
      "metadata": {
        "colab": {
          "base_uri": "https://localhost:8080/"
        },
        "id": "1bc94918",
        "outputId": "c8726964-9786-423b-f862-e8e4fde7c12b"
      },
      "outputs": [
        {
          "output_type": "stream",
          "name": "stdout",
          "text": [
            "[0 1 2 3 4 5 6 7 8]\n",
            "[array([0, 1, 2]), array([3, 4, 5]), array([6, 7, 8])]\n"
          ]
        }
      ],
      "source": [
        "x=np.arange(9)\n",
        "print(x)\n",
        "print(np.split(x,3))"
      ]
    },
    {
      "cell_type": "code",
      "execution_count": 33,
      "id": "b49d3ca7",
      "metadata": {
        "colab": {
          "base_uri": "https://localhost:8080/"
        },
        "id": "b49d3ca7",
        "outputId": "ac434521-8f9c-407c-967e-2b7b5953fdc2"
      },
      "outputs": [
        {
          "output_type": "stream",
          "name": "stdout",
          "text": [
            "[[ 0  1  2  3]\n",
            " [ 4  5  6  7]\n",
            " [ 8  9 10 11]\n",
            " [12 13 14 15]]\n"
          ]
        },
        {
          "output_type": "execute_result",
          "data": {
            "text/plain": [
              "[array([[ 0,  1],\n",
              "        [ 4,  5],\n",
              "        [ 8,  9],\n",
              "        [12, 13]]), array([[ 2,  3],\n",
              "        [ 6,  7],\n",
              "        [10, 11],\n",
              "        [14, 15]])]"
            ]
          },
          "metadata": {},
          "execution_count": 33
        }
      ],
      "source": [
        "a=np.arange(16).reshape(4,4)                  ## split it horizontaly\n",
        "print(a)\n",
        "np.hsplit(a,2)"
      ]
    },
    {
      "cell_type": "code",
      "execution_count": 34,
      "id": "1607bf34",
      "metadata": {
        "colab": {
          "base_uri": "https://localhost:8080/"
        },
        "id": "1607bf34",
        "outputId": "142e3675-e31b-49f3-df5d-40a5912d822d"
      },
      "outputs": [
        {
          "output_type": "execute_result",
          "data": {
            "text/plain": [
              "[array([[0, 1, 2, 3],\n",
              "        [4, 5, 6, 7]]), array([[ 8,  9, 10, 11],\n",
              "        [12, 13, 14, 15]])]"
            ]
          },
          "metadata": {},
          "execution_count": 34
        }
      ],
      "source": [
        "np.vsplit(a,2)                   ## split it in verticaly"
      ]
    },
    {
      "cell_type": "code",
      "execution_count": 34,
      "id": "43752648",
      "metadata": {
        "id": "43752648"
      },
      "outputs": [],
      "source": []
    },
    {
      "cell_type": "code",
      "execution_count": 34,
      "id": "81bf0929",
      "metadata": {
        "id": "81bf0929"
      },
      "outputs": [],
      "source": []
    },
    {
      "cell_type": "code",
      "execution_count": 34,
      "id": "8bc139ab",
      "metadata": {
        "id": "8bc139ab"
      },
      "outputs": [],
      "source": []
    },
    {
      "cell_type": "code",
      "execution_count": 34,
      "id": "f62c74cb",
      "metadata": {
        "id": "f62c74cb"
      },
      "outputs": [],
      "source": []
    },
    {
      "cell_type": "code",
      "execution_count": 34,
      "id": "835c0f19",
      "metadata": {
        "id": "835c0f19"
      },
      "outputs": [],
      "source": []
    }
  ],
  "metadata": {
    "kernelspec": {
      "display_name": "Python 3 (ipykernel)",
      "language": "python",
      "name": "python3"
    },
    "language_info": {
      "codemirror_mode": {
        "name": "ipython",
        "version": 3
      },
      "file_extension": ".py",
      "mimetype": "text/x-python",
      "name": "python",
      "nbconvert_exporter": "python",
      "pygments_lexer": "ipython3",
      "version": "3.9.12"
    },
    "colab": {
      "provenance": [],
      "include_colab_link": true
    }
  },
  "nbformat": 4,
  "nbformat_minor": 5
}