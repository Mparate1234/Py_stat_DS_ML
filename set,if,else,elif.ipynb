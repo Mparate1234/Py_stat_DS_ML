{
  "cells": [
    {
      "cell_type": "markdown",
      "metadata": {
        "id": "view-in-github",
        "colab_type": "text"
      },
      "source": [
        "<a href=\"https://colab.research.google.com/github/Mparate1234/Py_stat_DS_ML/blob/main/set%2Cif%2Celse%2Celif.ipynb\" target=\"_parent\"><img src=\"https://colab.research.google.com/assets/colab-badge.svg\" alt=\"Open In Colab\"/></a>"
      ]
    },
    {
      "cell_type": "markdown",
      "id": "3f25a7a3",
      "metadata": {
        "id": "3f25a7a3"
      },
      "source": [
        "#                                     29 may\n"
      ]
    },
    {
      "cell_type": "code",
      "execution_count": null,
      "id": "0d0d2f3b",
      "metadata": {
        "id": "0d0d2f3b",
        "outputId": "fbf3718a-974d-4efa-b50a-271f43700c9c"
      },
      "outputs": [
        {
          "data": {
            "text/plain": [
              "{'a', 'b', 'c'}"
            ]
          },
          "execution_count": 23,
          "metadata": {},
          "output_type": "execute_result"
        }
      ],
      "source": [
        "## set\n",
        "## mutebility of set\n",
        "##uniqueness\n",
        "st={'a','b','c','b'}                            ## no duplicate\n",
        "st"
      ]
    },
    {
      "cell_type": "code",
      "execution_count": null,
      "id": "32651f1e",
      "metadata": {
        "id": "32651f1e",
        "outputId": "672814f3-5e7b-4ea6-ac4c-f27e7b6b61b1"
      },
      "outputs": [
        {
          "name": "stdout",
          "output_type": "stream",
          "text": [
            "{'d', 'b', 'a', 'c'}\n",
            "{'d', 'india', 'b', 'a', 'c'}\n",
            "{'d', 'india', 'b', 'a', 'c', 'i', 'n'}\n",
            "{'d', 'india', 'b', 'c', 'i', 'n'}\n"
          ]
        }
      ],
      "source": [
        "## adding of elements in set\n",
        "st={'a','b','c','d'}\n",
        "print(st)\n",
        "\n",
        "st.add('india')\n",
        "print(st)\n",
        "\n",
        "st.update('indian')                # in this only 'n' will get add cause 'india' is allready there\n",
        "print(st)\n",
        "\n",
        "st.remove('a')\n",
        "print(st)"
      ]
    },
    {
      "cell_type": "code",
      "execution_count": null,
      "id": "ae0aef25",
      "metadata": {
        "id": "ae0aef25",
        "outputId": "6e6a5c06-6552-4c86-db13-0b77f466b2f5"
      },
      "outputs": [
        {
          "name": "stdout",
          "output_type": "stream",
          "text": [
            "<class 'set'>\n",
            "<class 'frozenset'>\n"
          ]
        }
      ],
      "source": [
        "ls={1,2,3,4,5,6}                                            ## normal set\n",
        "print(type(ls))\n",
        "\n",
        "stt=frozenset(ls)                                                ## frozen set\n",
        "print(type(stt))"
      ]
    },
    {
      "cell_type": "code",
      "execution_count": null,
      "id": "e67cd84d",
      "metadata": {
        "id": "e67cd84d",
        "outputId": "a81159d7-a5bb-4a95-8d11-f2b712c65a6d"
      },
      "outputs": [
        {
          "ename": "AttributeError",
          "evalue": "'frozenset' object has no attribute 'add'",
          "output_type": "error",
          "traceback": [
            "\u001b[1;31m---------------------------------------------------------------------------\u001b[0m",
            "\u001b[1;31mAttributeError\u001b[0m                            Traceback (most recent call last)",
            "Input \u001b[1;32mIn [14]\u001b[0m, in \u001b[0;36m<cell line: 2>\u001b[1;34m()\u001b[0m\n\u001b[0;32m      1\u001b[0m \u001b[38;5;66;03m## no adding element to frozen set\u001b[39;00m\n\u001b[1;32m----> 2\u001b[0m \u001b[43mstt\u001b[49m\u001b[38;5;241;43m.\u001b[39;49m\u001b[43madd\u001b[49m(\u001b[38;5;241m100\u001b[39m)\n",
            "\u001b[1;31mAttributeError\u001b[0m: 'frozenset' object has no attribute 'add'"
          ]
        }
      ],
      "source": [
        "## no adding element to frozen set\n",
        "\n",
        "stt.add(100) "
      ]
    },
    {
      "cell_type": "code",
      "execution_count": null,
      "id": "bb712b29",
      "metadata": {
        "id": "bb712b29",
        "outputId": "d98de02f-5b08-40fe-89c5-25c0f65cf082"
      },
      "outputs": [
        {
          "ename": "AttributeError",
          "evalue": "'frozenset' object has no attribute 'remove'",
          "output_type": "error",
          "traceback": [
            "\u001b[1;31m---------------------------------------------------------------------------\u001b[0m",
            "\u001b[1;31mAttributeError\u001b[0m                            Traceback (most recent call last)",
            "Input \u001b[1;32mIn [15]\u001b[0m, in \u001b[0;36m<cell line: 2>\u001b[1;34m()\u001b[0m\n\u001b[0;32m      1\u001b[0m \u001b[38;5;66;03m## no remove element fromm a set\u001b[39;00m\n\u001b[1;32m----> 2\u001b[0m \u001b[43mstt\u001b[49m\u001b[38;5;241;43m.\u001b[39;49m\u001b[43mremove\u001b[49m(\u001b[38;5;241m3\u001b[39m)\n",
            "\u001b[1;31mAttributeError\u001b[0m: 'frozenset' object has no attribute 'remove'"
          ]
        }
      ],
      "source": [
        "## no remove element fromm a set\n",
        "stt.remove(3)\n"
      ]
    },
    {
      "cell_type": "code",
      "execution_count": null,
      "id": "4696d665",
      "metadata": {
        "id": "4696d665",
        "outputId": "c2204dea-6301-40b0-85a7-1848705e4c08"
      },
      "outputs": [
        {
          "name": "stdout",
          "output_type": "stream",
          "text": [
            "{'C', 1, 2, 3, 'B', 'b', 'a', 'A', 'INDIA'}\n",
            "{'C', 1, 2, 3, 'B', 'b', 'a', 'A'}\n",
            "{'C', 1, 2, 3, 'MANISH', 'B', 'b', 'a', 'A'}\n"
          ]
        }
      ],
      "source": [
        "## Replace\n",
        "\n",
        "ls={1,2,3,'A','B','C','INDIA','a','b'}\n",
        "print(ls) \n",
        "\n",
        "#ls[3]                   ## you cant fetch  the element because its order is not fix in set\n",
        "\n",
        "ls.remove('INDIA')    \n",
        "print(ls)  \n",
        "ls.add('MANISH')  # insted you can do this\n",
        "print(ls)"
      ]
    },
    {
      "cell_type": "code",
      "execution_count": null,
      "id": "350a1a7a",
      "metadata": {
        "id": "350a1a7a",
        "outputId": "ec36c316-ec45-459b-c313-85a07ddfa9eb"
      },
      "outputs": [
        {
          "name": "stdout",
          "output_type": "stream",
          "text": [
            "Union : {0, 1, 2, 3, 4, 5, 6, 8}\n",
            "Intersection : {2, 4}\n",
            "Difference : {0, 8, 6}\n",
            "Symmetric difference : {0, 1, 3, 5, 6, 8}\n"
          ]
        }
      ],
      "source": [
        "\n",
        "A = {0, 2, 4, 6, 8};\n",
        "B = {1, 2, 3, 4, 5};\n",
        "  \n",
        "# union\n",
        "print(\"Union :\", A | B)\n",
        "  \n",
        "# intersection\n",
        "print(\"Intersection :\", A & B)\n",
        "  \n",
        "# difference\n",
        "print(\"Difference :\", A - B)\n",
        "  \n",
        "# symmetric difference\n",
        "print(\"Symmetric difference :\", A ^ B)"
      ]
    },
    {
      "cell_type": "code",
      "execution_count": null,
      "id": "cec108d8",
      "metadata": {
        "id": "cec108d8"
      },
      "outputs": [],
      "source": []
    },
    {
      "cell_type": "code",
      "execution_count": null,
      "id": "8c7d9c98",
      "metadata": {
        "id": "8c7d9c98"
      },
      "outputs": [],
      "source": []
    },
    {
      "cell_type": "code",
      "execution_count": null,
      "id": "271dcece",
      "metadata": {
        "id": "271dcece"
      },
      "outputs": [],
      "source": []
    },
    {
      "cell_type": "code",
      "execution_count": null,
      "id": "61ff0080",
      "metadata": {
        "id": "61ff0080"
      },
      "outputs": [],
      "source": [
        "#control flow and functions in python"
      ]
    },
    {
      "cell_type": "code",
      "execution_count": null,
      "id": "89fc1d71",
      "metadata": {
        "id": "89fc1d71"
      },
      "outputs": [],
      "source": [
        "#conditional: if ,else, elif\n",
        "#loops: for, while,break, continue,pass\n",
        "#"
      ]
    },
    {
      "cell_type": "code",
      "execution_count": null,
      "id": "4defab4e",
      "metadata": {
        "id": "4defab4e",
        "outputId": "3c329a33-fb31-47d8-e1a9-e512b7784bc0"
      },
      "outputs": [
        {
          "name": "stdout",
          "output_type": "stream",
          "text": [
            "value of x is 10\n"
          ]
        }
      ],
      "source": [
        "# if and else\n",
        "x=10\n",
        "if x==10:\n",
        "    print('value of x is 10')\n",
        "else:\n",
        "    print(' value of x is not 10')\n",
        "    "
      ]
    },
    {
      "cell_type": "code",
      "execution_count": null,
      "id": "eb75c6a5",
      "metadata": {
        "id": "eb75c6a5",
        "outputId": "0d476937-aad4-446c-917e-be647492503b"
      },
      "outputs": [
        {
          "name": "stdout",
          "output_type": "stream",
          "text": [
            " value of x is not 10\n"
          ]
        }
      ],
      "source": [
        "x=9\n",
        "if x==10:\n",
        "    print('value of x is 10')\n",
        "else:\n",
        "    print(' value of x is not 10')\n"
      ]
    },
    {
      "cell_type": "code",
      "execution_count": null,
      "id": "3c7efbc0",
      "metadata": {
        "id": "3c7efbc0"
      },
      "outputs": [],
      "source": []
    },
    {
      "cell_type": "code",
      "execution_count": null,
      "id": "a414d9a5",
      "metadata": {
        "id": "a414d9a5",
        "outputId": "be0b3458-ee21-406e-b59c-38ff9b70a63b"
      },
      "outputs": [
        {
          "name": "stdout",
          "output_type": "stream",
          "text": [
            "x is smaller than 10\n"
          ]
        }
      ],
      "source": [
        "# if , else, elif\n",
        "\n",
        "x=5\n",
        "if x > 10:\n",
        "    print('x is greter than 10')\n",
        "elif x < 10:\n",
        "    print ('x is smaller than 10')\n",
        "else:\n",
        "    print('x is equal to 10')"
      ]
    },
    {
      "cell_type": "code",
      "execution_count": null,
      "id": "7fc2d1be",
      "metadata": {
        "id": "7fc2d1be"
      },
      "outputs": [],
      "source": []
    },
    {
      "cell_type": "code",
      "execution_count": null,
      "id": "a01594f9",
      "metadata": {
        "id": "a01594f9",
        "outputId": "a81387ad-aada-49fc-9be8-59524db826bb"
      },
      "outputs": [
        {
          "name": "stdout",
          "output_type": "stream",
          "text": [
            "x is odd\n"
          ]
        }
      ],
      "source": [
        "# even or odd using if else \n",
        "x=25\n",
        "if x%2==0:\n",
        "    print(\"x is even\")\n",
        "else:\n",
        "    print(\"x is odd\")"
      ]
    },
    {
      "cell_type": "code",
      "execution_count": null,
      "id": "5538ffb5",
      "metadata": {
        "id": "5538ffb5"
      },
      "outputs": [],
      "source": []
    },
    {
      "cell_type": "code",
      "execution_count": null,
      "id": "a4947376",
      "metadata": {
        "id": "a4947376"
      },
      "outputs": [],
      "source": []
    },
    {
      "cell_type": "code",
      "execution_count": null,
      "id": "8eaef074",
      "metadata": {
        "id": "8eaef074"
      },
      "outputs": [],
      "source": []
    },
    {
      "cell_type": "code",
      "execution_count": null,
      "id": "1af36549",
      "metadata": {
        "id": "1af36549"
      },
      "outputs": [],
      "source": []
    },
    {
      "cell_type": "code",
      "execution_count": null,
      "id": "7b5c3bd5",
      "metadata": {
        "id": "7b5c3bd5"
      },
      "outputs": [],
      "source": []
    },
    {
      "cell_type": "code",
      "execution_count": null,
      "id": "cb45751d",
      "metadata": {
        "id": "cb45751d"
      },
      "outputs": [],
      "source": []
    }
  ],
  "metadata": {
    "kernelspec": {
      "display_name": "Python 3 (ipykernel)",
      "language": "python",
      "name": "python3"
    },
    "language_info": {
      "codemirror_mode": {
        "name": "ipython",
        "version": 3
      },
      "file_extension": ".py",
      "mimetype": "text/x-python",
      "name": "python",
      "nbconvert_exporter": "python",
      "pygments_lexer": "ipython3",
      "version": "3.9.12"
    },
    "colab": {
      "provenance": [],
      "include_colab_link": true
    }
  },
  "nbformat": 4,
  "nbformat_minor": 5
}