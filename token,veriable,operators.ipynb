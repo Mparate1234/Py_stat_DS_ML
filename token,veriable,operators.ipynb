{
  "cells": [
    {
      "cell_type": "markdown",
      "metadata": {
        "id": "view-in-github",
        "colab_type": "text"
      },
      "source": [
        "<a href=\"https://colab.research.google.com/github/Mparate1234/Py_stat_DS_ML/blob/main/token%2Cveriable%2Coperators.ipynb\" target=\"_parent\"><img src=\"https://colab.research.google.com/assets/colab-badge.svg\" alt=\"Open In Colab\"/></a>"
      ]
    },
    {
      "cell_type": "markdown",
      "id": "cfaf4827",
      "metadata": {
        "id": "cfaf4827"
      },
      "source": [
        "#                                                22 may\n",
        "    \n",
        "    \n",
        "    \n",
        "    \n",
        "    \n",
        "    ## Keywords : The words that have a speacial meaning in programming\n",
        "\n",
        "#### try, False, True, class, break, continue, and, as, assert, while, for, in, raise, except, or, not, if, elif, print, import,\n"
      ]
    },
    {
      "cell_type": "code",
      "execution_count": 1,
      "id": "80193e7f",
      "metadata": {
        "id": "80193e7f"
      },
      "outputs": [],
      "source": [
        "a=10\n"
      ]
    },
    {
      "cell_type": "code",
      "execution_count": 2,
      "id": "1689196f",
      "metadata": {
        "colab": {
          "base_uri": "https://localhost:8080/"
        },
        "id": "1689196f",
        "outputId": "6611eeab-1a35-4506-eac7-52f031820d87"
      },
      "outputs": [
        {
          "output_type": "execute_result",
          "data": {
            "text/plain": [
              "int"
            ]
          },
          "metadata": {},
          "execution_count": 2
        }
      ],
      "source": [
        "\n",
        "type(a)"
      ]
    },
    {
      "cell_type": "code",
      "execution_count": 3,
      "id": "1d9c9cd9",
      "metadata": {
        "id": "1d9c9cd9"
      },
      "outputs": [],
      "source": [
        "p=\"manish\""
      ]
    },
    {
      "cell_type": "code",
      "execution_count": 4,
      "id": "ce5456e9",
      "metadata": {
        "colab": {
          "base_uri": "https://localhost:8080/"
        },
        "id": "ce5456e9",
        "outputId": "2cc80cc7-2b18-4ba8-adf3-5d8226e0ddd5"
      },
      "outputs": [
        {
          "output_type": "execute_result",
          "data": {
            "text/plain": [
              "str"
            ]
          },
          "metadata": {},
          "execution_count": 4
        }
      ],
      "source": [
        "type(p)"
      ]
    },
    {
      "cell_type": "code",
      "execution_count": 5,
      "id": "b7f8e924",
      "metadata": {
        "colab": {
          "base_uri": "https://localhost:8080/"
        },
        "id": "b7f8e924",
        "outputId": "17fefe12-b4ee-4a52-f70d-5fc630ffecaa"
      },
      "outputs": [
        {
          "output_type": "execute_result",
          "data": {
            "text/plain": [
              "complex"
            ]
          },
          "metadata": {},
          "execution_count": 5
        }
      ],
      "source": [
        "c=1+3j\n",
        "type(c)"
      ]
    },
    {
      "cell_type": "code",
      "execution_count": 6,
      "id": "82dcd632",
      "metadata": {
        "colab": {
          "base_uri": "https://localhost:8080/"
        },
        "id": "82dcd632",
        "outputId": "7d97acb7-fb89-4981-929b-03e2666df041"
      },
      "outputs": [
        {
          "output_type": "stream",
          "name": "stdout",
          "text": [
            "1.0\n",
            "3.0\n"
          ]
        }
      ],
      "source": [
        "print(c.real)\n",
        "print(c.imag)"
      ]
    },
    {
      "cell_type": "code",
      "execution_count": 7,
      "id": "e7715101",
      "metadata": {
        "colab": {
          "base_uri": "https://localhost:8080/"
        },
        "id": "e7715101",
        "outputId": "be8c2935-19c4-46cd-89a8-ecf5ead05020"
      },
      "outputs": [
        {
          "output_type": "execute_result",
          "data": {
            "text/plain": [
              "False"
            ]
          },
          "metadata": {},
          "execution_count": 7
        }
      ],
      "source": [
        "## python is a case of sensative \n",
        "\"a\"==\"A\""
      ]
    },
    {
      "cell_type": "code",
      "execution_count": 8,
      "id": "f952cb48",
      "metadata": {
        "colab": {
          "base_uri": "https://localhost:8080/"
        },
        "id": "f952cb48",
        "outputId": "f025de6a-ada0-4bac-c5dd-11d4b6a8a620"
      },
      "outputs": [
        {
          "output_type": "stream",
          "name": "stdout",
          "text": [
            "3\n",
            "-1\n",
            "6\n",
            "2.6666666666666665\n",
            "2\n",
            "8\n",
            "1\n"
          ]
        }
      ],
      "source": [
        "## arithmatic operstions \n",
        "print(1+2)\n",
        "print(2-3)\n",
        "print(2*3)\n",
        "print(8/3)      ## this gives quotiont\n",
        "print(8//3)        \n",
        "print(2**3)\n",
        "print(7%3)       ## this gives remender"
      ]
    },
    {
      "cell_type": "code",
      "execution_count": 9,
      "id": "82f787cd",
      "metadata": {
        "colab": {
          "base_uri": "https://localhost:8080/"
        },
        "id": "82f787cd",
        "outputId": "c2daa179-a748-4424-b2ff-a6bab7d49129"
      },
      "outputs": [
        {
          "output_type": "stream",
          "name": "stdout",
          "text": [
            "10\n",
            "1\n",
            "5\n",
            "7\n"
          ]
        }
      ],
      "source": [
        "\n",
        "## veriables\n",
        "\n",
        "a=10            # single veriable assign\n",
        "\n",
        "p,q,r=1,5,7       ## multiple veriablr assign\n",
        "\n",
        "print(a)\n",
        "print(p)\n",
        "print(q)\n",
        "print(r)"
      ]
    },
    {
      "cell_type": "code",
      "execution_count": 10,
      "id": "eb35a422",
      "metadata": {
        "colab": {
          "base_uri": "https://localhost:8080/"
        },
        "id": "eb35a422",
        "outputId": "dba1f676-e5d7-477a-fd98-db2ece624ee1"
      },
      "outputs": [
        {
          "output_type": "stream",
          "name": "stdout",
          "text": [
            "10\n",
            "20\n",
            "10\n",
            "100\n",
            "10.0\n",
            "3.0\n",
            "1\n"
          ]
        }
      ],
      "source": [
        "## assignment operators\n",
        "\n",
        "x=10\n",
        "print(x)\n",
        "\n",
        "x+=10\n",
        "print(x)\n",
        "\n",
        "x-=10\n",
        "print(x)\n",
        "\n",
        "x*=10\n",
        "print(x)\n",
        "\n",
        "x/=10\n",
        "print(x)\n",
        "\n",
        "x%=7\n",
        "print(x)\n",
        "\n",
        "x=10\n",
        "x//=10\n",
        "print(x)"
      ]
    },
    {
      "cell_type": "code",
      "execution_count": 11,
      "id": "6fe7c650",
      "metadata": {
        "colab": {
          "base_uri": "https://localhost:8080/"
        },
        "id": "6fe7c650",
        "outputId": "c038719e-f4e2-4cb7-8f78-8bba845e2a03"
      },
      "outputs": [
        {
          "output_type": "stream",
          "name": "stdout",
          "text": [
            "0\n",
            "10\n",
            "0\n",
            "0\n",
            "0\n"
          ]
        }
      ],
      "source": [
        "\n",
        "## refer logic gate for below\n",
        "\n",
        "x&=10  #x=x&10\n",
        "print(x)\n",
        "x|=10  #x=x|10\n",
        "print(x)\n",
        "x^=10  #x=x^10\n",
        "print(x)\n",
        "x>>=10 #x=>>10\n",
        "print(x)\n",
        "x<<=10 #=x<<10\n",
        "print(x)"
      ]
    },
    {
      "cell_type": "code",
      "execution_count": 12,
      "id": "e3c678cb",
      "metadata": {
        "colab": {
          "base_uri": "https://localhost:8080/"
        },
        "id": "e3c678cb",
        "outputId": "0f1f6bca-429e-43d3-e56d-fd149676d42e"
      },
      "outputs": [
        {
          "output_type": "stream",
          "name": "stdout",
          "text": [
            "True\n",
            "False\n",
            "False\n",
            "False\n",
            "True\n",
            "True\n"
          ]
        }
      ],
      "source": [
        "## comparision operator\n",
        "\n",
        "print(10==10)        # equal to\n",
        "print(10!=10)        # not equal to\n",
        "print(10>10)\n",
        "print(10<10)           \n",
        "print(10<=10)\n",
        "print(10>=10)\n"
      ]
    },
    {
      "cell_type": "code",
      "execution_count": 12,
      "id": "719ed99a",
      "metadata": {
        "id": "719ed99a"
      },
      "outputs": [],
      "source": []
    },
    {
      "cell_type": "code",
      "execution_count": 13,
      "id": "13c21f02",
      "metadata": {
        "colab": {
          "base_uri": "https://localhost:8080/"
        },
        "id": "13c21f02",
        "outputId": "294ac906-11da-4d78-a6cd-2780255dbfbc"
      },
      "outputs": [
        {
          "output_type": "execute_result",
          "data": {
            "text/plain": [
              "True"
            ]
          },
          "metadata": {},
          "execution_count": 13
        }
      ],
      "source": [
        "##            logical operations used to compare condition\n",
        "\n",
        "(2<5) and (20>15)"
      ]
    },
    {
      "cell_type": "code",
      "execution_count": 14,
      "id": "a91dfa93",
      "metadata": {
        "colab": {
          "base_uri": "https://localhost:8080/"
        },
        "id": "a91dfa93",
        "outputId": "f89bd892-8577-4f8e-badb-a791827a51a8"
      },
      "outputs": [
        {
          "output_type": "execute_result",
          "data": {
            "text/plain": [
              "True"
            ]
          },
          "metadata": {},
          "execution_count": 14
        }
      ],
      "source": [
        "(2<5) or (20>15)"
      ]
    },
    {
      "cell_type": "code",
      "execution_count": 15,
      "id": "5be9fac7",
      "metadata": {
        "colab": {
          "base_uri": "https://localhost:8080/"
        },
        "id": "5be9fac7",
        "outputId": "d83f2c7c-74b9-4bee-ea50-960489ff7d4f"
      },
      "outputs": [
        {
          "output_type": "execute_result",
          "data": {
            "text/plain": [
              "False"
            ]
          },
          "metadata": {},
          "execution_count": 15
        }
      ],
      "source": [
        "not((2<5) and (20>15))"
      ]
    },
    {
      "cell_type": "code",
      "execution_count": 16,
      "id": "b006a2a2",
      "metadata": {
        "colab": {
          "base_uri": "https://localhost:8080/"
        },
        "id": "b006a2a2",
        "outputId": "54fddb70-56da-421d-9e30-ecc73d26e9d7"
      },
      "outputs": [
        {
          "output_type": "execute_result",
          "data": {
            "text/plain": [
              "True"
            ]
          },
          "metadata": {},
          "execution_count": 16
        }
      ],
      "source": [
        "not(False)"
      ]
    },
    {
      "cell_type": "code",
      "execution_count": 16,
      "id": "5bc73b98",
      "metadata": {
        "id": "5bc73b98"
      },
      "outputs": [],
      "source": []
    },
    {
      "cell_type": "code",
      "execution_count": 17,
      "id": "2f428210",
      "metadata": {
        "colab": {
          "base_uri": "https://localhost:8080/"
        },
        "id": "2f428210",
        "outputId": "d11a9c79-8f86-4ef2-e0af-76603987c8a2"
      },
      "outputs": [
        {
          "output_type": "stream",
          "name": "stdout",
          "text": [
            "9793376\n",
            "9793376\n",
            "True\n",
            "False\n"
          ]
        }
      ],
      "source": [
        "##     identity operator ; compaire 2 objects with their memory location\n",
        "\n",
        "a=10\n",
        "b=10\n",
        "\n",
        "print(id(a))      #to check memory locations\n",
        "print(id(b))\n",
        "\n",
        "print(a is b)\n",
        "print(a is not b)"
      ]
    },
    {
      "cell_type": "code",
      "execution_count": 18,
      "id": "df3cc8d3",
      "metadata": {
        "colab": {
          "base_uri": "https://localhost:8080/"
        },
        "id": "df3cc8d3",
        "outputId": "9aef7789-5654-4c1a-f408-29eef312d202"
      },
      "outputs": [
        {
          "output_type": "stream",
          "name": "stdout",
          "text": [
            "True\n",
            "False\n"
          ]
        }
      ],
      "source": [
        "##   membership operator:check if a sequence is peresent in a object\n",
        "\n",
        "\n",
        "a=\"INDIA\"\n",
        "b=\"DIA\"\n",
        "\n",
        "print(b in a)\n",
        "print(b not in a)"
      ]
    },
    {
      "cell_type": "code",
      "execution_count": 19,
      "id": "2e68c327",
      "metadata": {
        "colab": {
          "base_uri": "https://localhost:8080/"
        },
        "id": "2e68c327",
        "outputId": "f804c46a-6ec4-4d3b-f808-6f14ae6757b1"
      },
      "outputs": [
        {
          "output_type": "stream",
          "name": "stdout",
          "text": [
            "False\n"
          ]
        }
      ],
      "source": [
        "f=(10,5,2,7,8)\n",
        "q=(5,2)\n",
        "\n",
        "print(q in f)"
      ]
    },
    {
      "cell_type": "code",
      "execution_count": 20,
      "id": "bbfaa972",
      "metadata": {
        "colab": {
          "base_uri": "https://localhost:8080/"
        },
        "id": "bbfaa972",
        "outputId": "50ab58fb-e9ac-48ef-c7d9-0c9986085523"
      },
      "outputs": [
        {
          "output_type": "stream",
          "name": "stdout",
          "text": [
            "list is present\n"
          ]
        }
      ],
      "source": [
        "\n",
        "\n",
        "l=[1,[5,6],8,6,9,3]\n",
        "l2=[5,6]\n",
        "if l2 in l:\n",
        "    print(\"list is present\")\n",
        "    \n",
        "else:\n",
        "    print(\"list not present\")"
      ]
    },
    {
      "cell_type": "code",
      "execution_count": 20,
      "id": "d2c8d729",
      "metadata": {
        "id": "d2c8d729"
      },
      "outputs": [],
      "source": []
    }
  ],
  "metadata": {
    "kernelspec": {
      "display_name": "Python 3 (ipykernel)",
      "language": "python",
      "name": "python3"
    },
    "language_info": {
      "codemirror_mode": {
        "name": "ipython",
        "version": 3
      },
      "file_extension": ".py",
      "mimetype": "text/x-python",
      "name": "python",
      "nbconvert_exporter": "python",
      "pygments_lexer": "ipython3",
      "version": "3.9.12"
    },
    "colab": {
      "provenance": [],
      "include_colab_link": true
    }
  },
  "nbformat": 4,
  "nbformat_minor": 5
}